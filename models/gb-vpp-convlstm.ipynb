{
  "nbformat": 4,
  "nbformat_minor": 0,
  "metadata": {
    "accelerator": "TPU",
    "colab": {
      "name": "gb-vpp-convlstm.ipynb",
      "provenance": [],
      "collapsed_sections": [],
      "machine_shape": "hm",
      "authorship_tag": "ABX9TyNGnvMlTqUvS1QlMbFZ8hdO",
      "include_colab_link": true
    },
    "kernelspec": {
      "display_name": "Python 3",
      "name": "python3"
    },
    "language_info": {
      "name": "python"
    }
  },
  "cells": [
    {
      "cell_type": "markdown",
      "metadata": {
        "id": "view-in-github",
        "colab_type": "text"
      },
      "source": [
        "<a href=\"https://colab.research.google.com/github/mavillan/gb-vpp/blob/main/models/gb-vpp-convlstm.ipynb\" target=\"_parent\"><img src=\"https://colab.research.google.com/assets/colab-badge.svg\" alt=\"Open In Colab\"/></a>"
      ]
    },
    {
      "cell_type": "code",
      "metadata": {
        "colab": {
          "base_uri": "https://localhost:8080/"
        },
        "id": "d_q1A_uRF_Jc",
        "outputId": "dc1e08d4-709f-447a-8f5c-e719d24c03d8"
      },
      "source": [
        "from google.colab import drive\n",
        "from google.colab import files\n",
        "drive.mount('/content/drive', force_remount=True)\n",
        "\n",
        "!pip install --upgrade kaggle > /dev/null 2>&1\n",
        "!mkdir -p ~/.kaggle/ && cp /content/drive/MyDrive/kaggle/kaggle.json ~/.kaggle/ && chmod 600 ~/.kaggle/kaggle.json"
      ],
      "execution_count": 1,
      "outputs": [
        {
          "output_type": "stream",
          "name": "stdout",
          "text": [
            "Mounted at /content/drive\n"
          ]
        }
      ]
    },
    {
      "cell_type": "code",
      "metadata": {
        "colab": {
          "base_uri": "https://localhost:8080/"
        },
        "id": "LsJC-_8FViFK",
        "outputId": "3feb43f8-8a17-4b69-e16e-45b2499e4e68"
      },
      "source": [
        "!pip uninstall -y tensorflow \n",
        "!pip install tensorflow==2.4.3 > /dev/null 2>&1\n",
        "\n",
        "import tensorflow as tf\n",
        "print(\"Tensorflow version \" + tf.__version__)\n",
        "\n",
        "try:\n",
        "  tpu = tf.distribute.cluster_resolver.TPUClusterResolver()  # TPU detection\n",
        "  print('Running on TPU ', tpu.cluster_spec().as_dict()['worker'])\n",
        "except ValueError:\n",
        "  raise BaseException('ERROR: Not connected to a TPU runtime; please see the previous cell in this notebook for instructions!')\n",
        "\n",
        "tf.config.experimental_connect_to_cluster(tpu)\n",
        "tf.tpu.experimental.initialize_tpu_system(tpu)\n",
        "tpu_strategy = tf.distribute.experimental.TPUStrategy(tpu)"
      ],
      "execution_count": 2,
      "outputs": [
        {
          "output_type": "stream",
          "name": "stdout",
          "text": [
            "Found existing installation: tensorflow 2.6.0\n",
            "Uninstalling tensorflow-2.6.0:\n",
            "  Successfully uninstalled tensorflow-2.6.0\n",
            "Tensorflow version 2.4.3\n",
            "Running on TPU  ['10.91.136.138:8470']\n",
            "INFO:tensorflow:Initializing the TPU system: grpc://10.91.136.138:8470\n"
          ]
        },
        {
          "output_type": "stream",
          "name": "stderr",
          "text": [
            "INFO:tensorflow:Initializing the TPU system: grpc://10.91.136.138:8470\n"
          ]
        },
        {
          "output_type": "stream",
          "name": "stdout",
          "text": [
            "INFO:tensorflow:Clearing out eager caches\n"
          ]
        },
        {
          "output_type": "stream",
          "name": "stderr",
          "text": [
            "INFO:tensorflow:Clearing out eager caches\n"
          ]
        },
        {
          "output_type": "stream",
          "name": "stdout",
          "text": [
            "INFO:tensorflow:Finished initializing TPU system.\n"
          ]
        },
        {
          "output_type": "stream",
          "name": "stderr",
          "text": [
            "INFO:tensorflow:Finished initializing TPU system.\n",
            "WARNING:absl:`tf.distribute.experimental.TPUStrategy` is deprecated, please use  the non experimental symbol `tf.distribute.TPUStrategy` instead.\n"
          ]
        },
        {
          "output_type": "stream",
          "name": "stdout",
          "text": [
            "INFO:tensorflow:Found TPU system:\n"
          ]
        },
        {
          "output_type": "stream",
          "name": "stderr",
          "text": [
            "INFO:tensorflow:Found TPU system:\n"
          ]
        },
        {
          "output_type": "stream",
          "name": "stdout",
          "text": [
            "INFO:tensorflow:*** Num TPU Cores: 8\n"
          ]
        },
        {
          "output_type": "stream",
          "name": "stderr",
          "text": [
            "INFO:tensorflow:*** Num TPU Cores: 8\n"
          ]
        },
        {
          "output_type": "stream",
          "name": "stdout",
          "text": [
            "INFO:tensorflow:*** Num TPU Workers: 1\n"
          ]
        },
        {
          "output_type": "stream",
          "name": "stderr",
          "text": [
            "INFO:tensorflow:*** Num TPU Workers: 1\n"
          ]
        },
        {
          "output_type": "stream",
          "name": "stdout",
          "text": [
            "INFO:tensorflow:*** Num TPU Cores Per Worker: 8\n"
          ]
        },
        {
          "output_type": "stream",
          "name": "stderr",
          "text": [
            "INFO:tensorflow:*** Num TPU Cores Per Worker: 8\n"
          ]
        },
        {
          "output_type": "stream",
          "name": "stdout",
          "text": [
            "INFO:tensorflow:*** Available Device: _DeviceAttributes(/job:localhost/replica:0/task:0/device:CPU:0, CPU, 0, 0)\n"
          ]
        },
        {
          "output_type": "stream",
          "name": "stderr",
          "text": [
            "INFO:tensorflow:*** Available Device: _DeviceAttributes(/job:localhost/replica:0/task:0/device:CPU:0, CPU, 0, 0)\n"
          ]
        },
        {
          "output_type": "stream",
          "name": "stdout",
          "text": [
            "INFO:tensorflow:*** Available Device: _DeviceAttributes(/job:worker/replica:0/task:0/device:CPU:0, CPU, 0, 0)\n"
          ]
        },
        {
          "output_type": "stream",
          "name": "stderr",
          "text": [
            "INFO:tensorflow:*** Available Device: _DeviceAttributes(/job:worker/replica:0/task:0/device:CPU:0, CPU, 0, 0)\n"
          ]
        },
        {
          "output_type": "stream",
          "name": "stdout",
          "text": [
            "INFO:tensorflow:*** Available Device: _DeviceAttributes(/job:worker/replica:0/task:0/device:TPU:0, TPU, 0, 0)\n"
          ]
        },
        {
          "output_type": "stream",
          "name": "stderr",
          "text": [
            "INFO:tensorflow:*** Available Device: _DeviceAttributes(/job:worker/replica:0/task:0/device:TPU:0, TPU, 0, 0)\n"
          ]
        },
        {
          "output_type": "stream",
          "name": "stdout",
          "text": [
            "INFO:tensorflow:*** Available Device: _DeviceAttributes(/job:worker/replica:0/task:0/device:TPU:1, TPU, 0, 0)\n"
          ]
        },
        {
          "output_type": "stream",
          "name": "stderr",
          "text": [
            "INFO:tensorflow:*** Available Device: _DeviceAttributes(/job:worker/replica:0/task:0/device:TPU:1, TPU, 0, 0)\n"
          ]
        },
        {
          "output_type": "stream",
          "name": "stdout",
          "text": [
            "INFO:tensorflow:*** Available Device: _DeviceAttributes(/job:worker/replica:0/task:0/device:TPU:2, TPU, 0, 0)\n"
          ]
        },
        {
          "output_type": "stream",
          "name": "stderr",
          "text": [
            "INFO:tensorflow:*** Available Device: _DeviceAttributes(/job:worker/replica:0/task:0/device:TPU:2, TPU, 0, 0)\n"
          ]
        },
        {
          "output_type": "stream",
          "name": "stdout",
          "text": [
            "INFO:tensorflow:*** Available Device: _DeviceAttributes(/job:worker/replica:0/task:0/device:TPU:3, TPU, 0, 0)\n"
          ]
        },
        {
          "output_type": "stream",
          "name": "stderr",
          "text": [
            "INFO:tensorflow:*** Available Device: _DeviceAttributes(/job:worker/replica:0/task:0/device:TPU:3, TPU, 0, 0)\n"
          ]
        },
        {
          "output_type": "stream",
          "name": "stdout",
          "text": [
            "INFO:tensorflow:*** Available Device: _DeviceAttributes(/job:worker/replica:0/task:0/device:TPU:4, TPU, 0, 0)\n"
          ]
        },
        {
          "output_type": "stream",
          "name": "stderr",
          "text": [
            "INFO:tensorflow:*** Available Device: _DeviceAttributes(/job:worker/replica:0/task:0/device:TPU:4, TPU, 0, 0)\n"
          ]
        },
        {
          "output_type": "stream",
          "name": "stdout",
          "text": [
            "INFO:tensorflow:*** Available Device: _DeviceAttributes(/job:worker/replica:0/task:0/device:TPU:5, TPU, 0, 0)\n"
          ]
        },
        {
          "output_type": "stream",
          "name": "stderr",
          "text": [
            "INFO:tensorflow:*** Available Device: _DeviceAttributes(/job:worker/replica:0/task:0/device:TPU:5, TPU, 0, 0)\n"
          ]
        },
        {
          "output_type": "stream",
          "name": "stdout",
          "text": [
            "INFO:tensorflow:*** Available Device: _DeviceAttributes(/job:worker/replica:0/task:0/device:TPU:6, TPU, 0, 0)\n"
          ]
        },
        {
          "output_type": "stream",
          "name": "stderr",
          "text": [
            "INFO:tensorflow:*** Available Device: _DeviceAttributes(/job:worker/replica:0/task:0/device:TPU:6, TPU, 0, 0)\n"
          ]
        },
        {
          "output_type": "stream",
          "name": "stdout",
          "text": [
            "INFO:tensorflow:*** Available Device: _DeviceAttributes(/job:worker/replica:0/task:0/device:TPU:7, TPU, 0, 0)\n"
          ]
        },
        {
          "output_type": "stream",
          "name": "stderr",
          "text": [
            "INFO:tensorflow:*** Available Device: _DeviceAttributes(/job:worker/replica:0/task:0/device:TPU:7, TPU, 0, 0)\n"
          ]
        },
        {
          "output_type": "stream",
          "name": "stdout",
          "text": [
            "INFO:tensorflow:*** Available Device: _DeviceAttributes(/job:worker/replica:0/task:0/device:TPU_SYSTEM:0, TPU_SYSTEM, 0, 0)\n"
          ]
        },
        {
          "output_type": "stream",
          "name": "stderr",
          "text": [
            "INFO:tensorflow:*** Available Device: _DeviceAttributes(/job:worker/replica:0/task:0/device:TPU_SYSTEM:0, TPU_SYSTEM, 0, 0)\n"
          ]
        },
        {
          "output_type": "stream",
          "name": "stdout",
          "text": [
            "INFO:tensorflow:*** Available Device: _DeviceAttributes(/job:worker/replica:0/task:0/device:XLA_CPU:0, XLA_CPU, 0, 0)\n"
          ]
        },
        {
          "output_type": "stream",
          "name": "stderr",
          "text": [
            "INFO:tensorflow:*** Available Device: _DeviceAttributes(/job:worker/replica:0/task:0/device:XLA_CPU:0, XLA_CPU, 0, 0)\n"
          ]
        }
      ]
    },
    {
      "cell_type": "code",
      "metadata": {
        "colab": {
          "base_uri": "https://localhost:8080/"
        },
        "id": "eFa9wQ2IGrRR",
        "outputId": "aab7ef81-a364-4bba-a197-ef0e4121302a"
      },
      "source": [
        "!mkdir -p input/\n",
        "!kaggle competitions download -c ventilator-pressure-prediction -p input/ --force\n",
        "\n",
        "!unzip -o input/sample_submission.csv.zip -d input/\n",
        "!unzip -o input/train.csv.zip -d input/\n",
        "!unzip -o input/test.csv.zip -d input/"
      ],
      "execution_count": 3,
      "outputs": [
        {
          "output_type": "stream",
          "name": "stdout",
          "text": [
            "Warning: Looks like you're using an outdated API Version, please consider updating (server 1.5.12 / client 1.5.4)\n",
            "Downloading train.csv.zip to input\n",
            " 93% 129M/139M [00:00<00:00, 159MB/s]\n",
            "100% 139M/139M [00:00<00:00, 159MB/s]\n",
            "Downloading sample_submission.csv.zip to input\n",
            "  0% 0.00/8.50M [00:00<?, ?B/s]\n",
            "100% 8.50M/8.50M [00:00<00:00, 78.0MB/s]\n",
            "Downloading test.csv.zip to input\n",
            " 86% 65.0M/75.4M [00:00<00:00, 166MB/s]\n",
            "100% 75.4M/75.4M [00:00<00:00, 153MB/s]\n",
            "Archive:  input/sample_submission.csv.zip\n",
            "  inflating: input/sample_submission.csv  \n",
            "Archive:  input/train.csv.zip\n",
            "  inflating: input/train.csv         \n",
            "Archive:  input/test.csv.zip\n",
            "  inflating: input/test.csv          \n"
          ]
        }
      ]
    },
    {
      "cell_type": "code",
      "metadata": {
        "id": "-hEWJqeFGonH"
      },
      "source": [
        "input_path = \"input\"\n",
        "subs_path = \"/content/drive/MyDrive/kaggle/gb-vpp/subs\"\n",
        "results_path = \"/content/drive/MyDrive/kaggle/gb-vpp/results\"\n",
        "artifacts_path = \"/content/drive/MyDrive/kaggle/gb-vpp/artifacts\""
      ],
      "execution_count": 4,
      "outputs": []
    },
    {
      "cell_type": "markdown",
      "metadata": {
        "id": "nD2JeSsUJjyJ"
      },
      "source": [
        "***"
      ]
    },
    {
      "cell_type": "code",
      "metadata": {
        "id": "qdrij3cGJi79"
      },
      "source": [
        "import numpy as np\n",
        "import pandas as pd\n",
        "import matplotlib.pyplot as plt\n",
        "\n",
        "import tensorflow as tf\n",
        "from tensorflow import keras\n",
        "from tensorflow.keras import layers\n",
        "from tensorflow.keras.callbacks import EarlyStopping\n",
        "from tensorflow.keras.callbacks import LearningRateScheduler\n",
        "from tensorflow.keras.optimizers.schedules import ExponentialDecay\n",
        "from tensorflow.keras.callbacks import Callback\n",
        "\n",
        "from sklearn.metrics import mean_absolute_error as mae\n",
        "from sklearn.preprocessing import RobustScaler, normalize\n",
        "from sklearn.model_selection import train_test_split, GroupKFold, KFold\n",
        "\n",
        "from IPython.display import display"
      ],
      "execution_count": 5,
      "outputs": []
    },
    {
      "cell_type": "markdown",
      "metadata": {
        "id": "HhdojM-wJ9HM"
      },
      "source": [
        "***\n",
        "## data preparation"
      ]
    },
    {
      "cell_type": "code",
      "metadata": {
        "id": "RuScHGBrhkWT"
      },
      "source": [
        "SEQ_LEN = 80"
      ],
      "execution_count": 6,
      "outputs": []
    },
    {
      "cell_type": "code",
      "metadata": {
        "id": "vc0m-MxQJ02u"
      },
      "source": [
        "train_raw = pd.read_csv(f'{input_path}/train.csv')\n",
        "test_raw = pd.read_csv(f'{input_path}/test.csv')\n",
        "submission = pd.read_csv(f'{input_path}/sample_submission.csv')"
      ],
      "execution_count": 7,
      "outputs": []
    },
    {
      "cell_type": "code",
      "metadata": {
        "id": "cLMXEGnoPTCL"
      },
      "source": [
        "mapping = {j:i for i,j in enumerate(train_raw.breath_id.unique())}\n",
        "train_raw[\"breath_id\"] = train_raw.breath_id.map(mapping)\n",
        "\n",
        "if SEQ_LEN < 80:\n",
        "\n",
        "    train_raw = (\n",
        "        train_raw\n",
        "        .sort_values([\"breath_id\",\"time_step\"])\n",
        "        .groupby(\"breath_id\")\n",
        "        .head(SEQ_LEN)\n",
        "        .reset_index(drop=True)\n",
        "    )\n",
        "    test_raw = (\n",
        "        test_raw\n",
        "        .sort_values([\"breath_id\",\"time_step\"])\n",
        "        .groupby(\"breath_id\")\n",
        "        .head(SEQ_LEN)\n",
        "        .reset_index(drop=True)\n",
        "    )"
      ],
      "execution_count": 8,
      "outputs": []
    },
    {
      "cell_type": "code",
      "metadata": {
        "id": "Izfe9H4mvCpn"
      },
      "source": [
        "def add_features(df):\n",
        "    df['area'] = df['time_step'] * df['u_in']\n",
        "    df['area'] = df.groupby('breath_id')['area'].cumsum()\n",
        "    \n",
        "    df['u_in_cumsum'] = (df['u_in']).groupby(df['breath_id']).cumsum()\n",
        "    \n",
        "    df['u_in_lag1'] = df.groupby('breath_id')['u_in'].shift(1)\n",
        "    df['u_out_lag1'] = df.groupby('breath_id')['u_out'].shift(1)\n",
        "    df['u_in_lag_back1'] = df.groupby('breath_id')['u_in'].shift(-1)\n",
        "    df['u_out_lag_back1'] = df.groupby('breath_id')['u_out'].shift(-1)\n",
        "    df['u_in_lag2'] = df.groupby('breath_id')['u_in'].shift(2)\n",
        "    df['u_out_lag2'] = df.groupby('breath_id')['u_out'].shift(2)\n",
        "    df['u_in_lag_back2'] = df.groupby('breath_id')['u_in'].shift(-2)\n",
        "    df['u_out_lag_back2'] = df.groupby('breath_id')['u_out'].shift(-2)\n",
        "    df['u_in_lag3'] = df.groupby('breath_id')['u_in'].shift(3)\n",
        "    df['u_out_lag3'] = df.groupby('breath_id')['u_out'].shift(3)\n",
        "    df['u_in_lag_back3'] = df.groupby('breath_id')['u_in'].shift(-3)\n",
        "    df['u_out_lag_back3'] = df.groupby('breath_id')['u_out'].shift(-3)\n",
        "    df['u_in_lag4'] = df.groupby('breath_id')['u_in'].shift(4)\n",
        "    df['u_out_lag4'] = df.groupby('breath_id')['u_out'].shift(4)\n",
        "    df['u_in_lag_back4'] = df.groupby('breath_id')['u_in'].shift(-4)\n",
        "    df['u_out_lag_back4'] = df.groupby('breath_id')['u_out'].shift(-4)\n",
        "    df = df.fillna(0)\n",
        "    \n",
        "    df['breath_id__u_in__max'] = df.groupby(['breath_id'])['u_in'].transform('max')\n",
        "    df['breath_id__u_out__max'] = df.groupby(['breath_id'])['u_out'].transform('max')\n",
        "    \n",
        "    df['u_in_diff1'] = df['u_in'] - df['u_in_lag1']\n",
        "    df['u_out_diff1'] = df['u_out'] - df['u_out_lag1']\n",
        "    df['u_in_diff2'] = df['u_in'] - df['u_in_lag2']\n",
        "    df['u_out_diff2'] = df['u_out'] - df['u_out_lag2']\n",
        "    \n",
        "    df['breath_id__u_in__diffmax'] = df.groupby(['breath_id'])['u_in'].transform('max') - df['u_in']\n",
        "    df['breath_id__u_in__diffmean'] = df.groupby(['breath_id'])['u_in'].transform('mean') - df['u_in']\n",
        "    \n",
        "    df['breath_id__u_in__diffmax'] = df.groupby(['breath_id'])['u_in'].transform('max') - df['u_in']\n",
        "    df['breath_id__u_in__diffmean'] = df.groupby(['breath_id'])['u_in'].transform('mean') - df['u_in']\n",
        "    \n",
        "    df['u_in_diff3'] = df['u_in'] - df['u_in_lag3']\n",
        "    df['u_out_diff3'] = df['u_out'] - df['u_out_lag3']\n",
        "    df['u_in_diff4'] = df['u_in'] - df['u_in_lag4']\n",
        "    df['u_out_diff4'] = df['u_out'] - df['u_out_lag4']\n",
        "    df['cross']= df['u_in']*df['u_out']\n",
        "    df['cross2']= df['time_step']*df['u_out']\n",
        "    \n",
        "    df['R'] = df['R'].astype(str)\n",
        "    df['C'] = df['C'].astype(str)\n",
        "    df['R__C'] = df[\"R\"].astype(str) + '__' + df[\"C\"].astype(str)\n",
        "    df = pd.get_dummies(df)\n",
        "    return df\n",
        "\n",
        "train = add_features(train_raw)\n",
        "test = add_features(test_raw)"
      ],
      "execution_count": 9,
      "outputs": []
    },
    {
      "cell_type": "code",
      "metadata": {
        "id": "dr-VSykkKJoJ"
      },
      "source": [
        "# def compute_feats(dataframe):\n",
        "#     dataframe = dataframe.copy()\n",
        "\n",
        "#     # time features\n",
        "#     dataframe[\"time_diff\"] = dataframe.groupby(\"breath_id\")[\"time_step\"].diff()\n",
        "#     dataframe['time_since_expiratory']= dataframe['time_step'] * dataframe['u_out']\n",
        "\n",
        "#     # lag features\n",
        "#     lags = [1,2]\n",
        "#     for lag in lags:\n",
        "#         dataframe[f\"u_in_lag{lag}\"] = dataframe.groupby(\"breath_id\")[\"u_in\"].shift(lag).fillna(0)\n",
        "\n",
        "#     # stats on u_in\n",
        "#     dataframe[\"u_in_cumsum\"] = dataframe.groupby(\"breath_id\")[\"u_in\"].cumsum()\n",
        "#     dataframe['u_in_cummean'] =dataframe['u_in_cumsum'] / (dataframe.groupby(\"breath_id\")[\"id\"].cumcount()+1)\n",
        "#     #dataframe['u_in_last'] = dataframe.groupby('breath_id')['u_in'].transform('last')\n",
        "#     dataframe['cross1']= dataframe['u_in'] * dataframe['u_out']\n",
        "#     dataframe['cross2']= dataframe['u_in'] * (1 - dataframe['u_out'])\n",
        "\n",
        "#     dataframe['area'] = dataframe['time_step'] * dataframe['u_in']\n",
        "#     dataframe['area'] = dataframe.groupby('breath_id')['area'].cumsum()\n",
        "    \n",
        "#     dataframe['vol_diff'] = (dataframe['time_diff']*dataframe['u_in']).fillna(0)\n",
        "#     dataframe['vol_diff_cumsum'] = dataframe.groupby('breath_id')['vol_diff'].cumsum()\n",
        "\n",
        "#     # gradients of u_in\n",
        "#     def compute_grad_1st(df):\n",
        "#         return np.gradient(df.u_in, 100*df.time_step)\n",
        "#     def compute_grad_2nd(df):\n",
        "#         return np.gradient(df.grad_1st, 100*df.time_step)\n",
        "\n",
        "#     gb_result = dataframe.groupby(\"breath_id\").apply(compute_grad_1st)\n",
        "#     dataframe[\"grad_1st\"] = np.concatenate(gb_result.values)\n",
        "#     gb_result = dataframe.groupby(\"breath_id\").apply(compute_grad_2nd)\n",
        "#     dataframe[\"grad_2nd\"] = np.concatenate(gb_result.values)\n",
        "\n",
        "#     # nan filling\n",
        "#     dataframe[\"time_diff\"] = dataframe[\"time_diff\"].fillna(method=\"bfill\")\n",
        "    \n",
        "#     # ohe of R&C values    \n",
        "#     dataframe['R'] = dataframe['R'].astype(str)\n",
        "#     dataframe['C'] = dataframe['C'].astype(str)\n",
        "#     dataframe['RC'] = dataframe['R']+dataframe['C']\n",
        "#     dataframe = pd.get_dummies(dataframe)\n",
        "#     return dataframe\n",
        "\n",
        "# train = compute_feats(train_raw)\n",
        "# test  = compute_feats(test_raw)"
      ],
      "execution_count": 10,
      "outputs": []
    },
    {
      "cell_type": "code",
      "metadata": {
        "id": "FydxTC2zKb3r"
      },
      "source": [
        "targets = train[['pressure']].to_numpy().reshape(-1, SEQ_LEN)\n",
        "\n",
        "cols_to_exclude_train = exclude = [\"id\",\"breath_id\",\"pressure\"]\n",
        "cols_to_exclude_test = exclude = [\"id\",\"breath_id\",]\n",
        "\n",
        "train.drop(cols_to_exclude_train, axis=1, inplace=True)\n",
        "test.drop(cols_to_exclude_test, axis=1, inplace=True)"
      ],
      "execution_count": 11,
      "outputs": []
    },
    {
      "cell_type": "code",
      "metadata": {
        "id": "RmiLTm8gK1eG"
      },
      "source": [
        "scaler = RobustScaler()\n",
        "train = scaler.fit_transform(train)\n",
        "test = scaler.transform(test)"
      ],
      "execution_count": 12,
      "outputs": []
    },
    {
      "cell_type": "code",
      "metadata": {
        "id": "GkjljVxeLIsu"
      },
      "source": [
        "train = train.reshape(-1, SEQ_LEN, train.shape[-1])\n",
        "test = test.reshape(-1, SEQ_LEN, train.shape[-1])"
      ],
      "execution_count": 13,
      "outputs": []
    },
    {
      "cell_type": "markdown",
      "metadata": {
        "id": "y7-mHNoyLkNR"
      },
      "source": [
        "***\n",
        "## model training"
      ]
    },
    {
      "cell_type": "code",
      "metadata": {
        "id": "ID91a7AzvgPQ"
      },
      "source": [
        "from tensorflow.keras.callbacks import LearningRateScheduler, ReduceLROnPlateau"
      ],
      "execution_count": 14,
      "outputs": []
    },
    {
      "cell_type": "code",
      "metadata": {
        "id": "CzUU2cq3EUXc"
      },
      "source": [
        "def build_model(input_dim):\n",
        "    with tpu_strategy.scope():   \n",
        "        inputs = layers.Input(shape = input_dim)\n",
        "    \n",
        "        h1 = layers.Bidirectional(layers.LSTM(1024, return_sequences=True))(inputs)\n",
        "        h1 = tf.reshape(h1, shape=(-1,80,128,1,16))\n",
        "\n",
        "        h2 = layers.ConvLSTM2D(filters=256, kernel_size=(1,5), padding=\"same\", return_sequences=True, data_format=\"channels_first\")(h1)\n",
        "        h3 = layers.ConvLSTM2D(filters=128, kernel_size=(1,5), padding=\"same\", return_sequences=True, data_format=\"channels_first\")(h2)\n",
        "        h4 = layers.ConvLSTM2D(filters=64, kernel_size=(1,5), padding=\"same\", return_sequences=True, data_format=\"channels_first\")(h3)\n",
        "\n",
        "        h4 = tf.reshape(h4, shape=(-1,80,1024))\n",
        "\n",
        "\n",
        "\n",
        "        #h4 = layers.Bidirectional(layers.LSTM(512, return_sequences=True))(h3)\n",
        "        #h5 = layers.Bidirectional(layers.LSTM(256, return_sequences=True))(h4)\n",
        "        #h6 = layers.Bidirectional(layers.LSTM(128, return_sequences=True))(h5) \n",
        "                \n",
        "        #hcat = layers.Concatenate()([h4,h6])\n",
        "        #hcat = layers.Dropout(0.1)(hcat)\n",
        "\n",
        "        out = layers.Dense(128, activation = 'selu')(h4)\n",
        "        out = layers.Dense(1)(out)\n",
        "        \n",
        "        model = keras.Model(inputs, out)\n",
        "        model.compile(optimizer=\"adam\", loss=\"mae\")\n",
        "           \n",
        "    return model  "
      ],
      "execution_count": 51,
      "outputs": []
    },
    {
      "cell_type": "code",
      "metadata": {
        "colab": {
          "base_uri": "https://localhost:8080/",
          "height": 476
        },
        "id": "lbXVT9UN7YIH",
        "outputId": "bbc81794-56ac-4364-e727-af3ecd96114a"
      },
      "source": [
        "model = build_model(input_dim=train.shape[-2:])\n",
        "display(model.summary())"
      ],
      "execution_count": 52,
      "outputs": [
        {
          "output_type": "stream",
          "name": "stdout",
          "text": [
            "Model: \"model_10\"\n",
            "_________________________________________________________________\n",
            "Layer (type)                 Output Shape              Param #   \n",
            "=================================================================\n",
            "input_12 (InputLayer)        [(None, 80, 50)]          0         \n",
            "_________________________________________________________________\n",
            "bidirectional_11 (Bidirectio (None, 80, 2048)          8806400   \n",
            "_________________________________________________________________\n",
            "tf.reshape_18 (TFOpLambda)   (None, 80, 128, 1, 16)    0         \n",
            "_________________________________________________________________\n",
            "conv_lst_m2d_30 (ConvLSTM2D) (None, 80, 256, 1, 16)    1967104   \n",
            "_________________________________________________________________\n",
            "conv_lst_m2d_31 (ConvLSTM2D) (None, 80, 128, 1, 16)    983552    \n",
            "_________________________________________________________________\n",
            "conv_lst_m2d_32 (ConvLSTM2D) (None, 80, 64, 1, 16)     246016    \n",
            "_________________________________________________________________\n",
            "tf.reshape_19 (TFOpLambda)   (None, 80, 1024)          0         \n",
            "_________________________________________________________________\n",
            "dense_12 (Dense)             (None, 80, 128)           131200    \n",
            "_________________________________________________________________\n",
            "dense_13 (Dense)             (None, 80, 1)             129       \n",
            "=================================================================\n",
            "Total params: 12,134,401\n",
            "Trainable params: 12,134,401\n",
            "Non-trainable params: 0\n",
            "_________________________________________________________________\n"
          ]
        },
        {
          "output_type": "display_data",
          "data": {
            "text/plain": [
              "None"
            ]
          },
          "metadata": {}
        }
      ]
    },
    {
      "cell_type": "code",
      "metadata": {
        "colab": {
          "base_uri": "https://localhost:8080/",
          "height": 1000
        },
        "id": "pbhtf4DM1JaY",
        "outputId": "e9ae2243-9655-48a8-99e2-1c0d46c4ee09"
      },
      "source": [
        "EPOCH = 300\n",
        "BATCH_SIZE = 1024\n",
        "\n",
        "kf = KFold(n_splits=5, shuffle=True, random_state=2021)\n",
        "models_by_fold = list()\n",
        "\n",
        "oof = train_raw[[\"id\",\"breath_id\",\"u_out\",\"pressure\"]].copy()\n",
        "\n",
        "for fold, (train_idx,valid_idx) in enumerate(kf.split(train, targets)):\n",
        "\n",
        "    print(f\" Fold: {fold+1} \".center(80, \"-\"))\n",
        "    X_train, X_valid = train[train_idx], train[valid_idx]\n",
        "    y_train, y_valid = targets[train_idx], targets[valid_idx]\n",
        "    \n",
        "    model = build_model(input_dim=train.shape[-2:])\n",
        "    display(model.summary())\n",
        "\n",
        "    #scheduler = ExponentialDecay(\n",
        "    #    initial_learning_rate=1e-3, \n",
        "    #    decay_steps=EPOCH*((len(train)*0.8)/BATCH_SIZE), \n",
        "    #    decay_rate=1e-5\n",
        "    #)\n",
        "    #lr = LearningRateScheduler(scheduler, verbose=1)\n",
        "    #lr = OneCycleScheduler(\n",
        "    #    lr_max = 1e-3,\n",
        "    #    steps = EPOCH*(X_train.shape[0]/BATCH_SIZE),\n",
        "    #    phase_1_pct = 0.2,\n",
        "    #    init_div_factor = 1e1,\n",
        "    #    final_div_factor = 1e2,\n",
        "    #)\n",
        "    lr = ReduceLROnPlateau(\n",
        "        monitor=\"val_loss\", \n",
        "        factor=0.8, \n",
        "        patience=10, \n",
        "        verbose=1\n",
        "    )\n",
        "    es = EarlyStopping(\n",
        "        monitor='val_loss', \n",
        "        mode='min', \n",
        "        patience=35, \n",
        "        verbose=1,\n",
        "        restore_best_weights=True,\n",
        "    )\n",
        "    history = model.fit(\n",
        "        X_train, \n",
        "        y_train, \n",
        "        validation_data=(X_valid, y_valid), \n",
        "        epochs=EPOCH, \n",
        "        batch_size=BATCH_SIZE, \n",
        "        callbacks=[lr,es],\n",
        "        verbose=1,\n",
        "    )\n",
        "    models_by_fold.append(model)\n",
        "\n",
        "    # generate the oof predictions\n",
        "    x_valid_tf = tf.convert_to_tensor(X_valid, dtype=tf.float32)\n",
        "    oof_preds = model.call(x_valid_tf, training=False).numpy().squeeze()\n",
        "    idx = oof.query(\"breath_id in @valid_idx\").index\n",
        "    oof.loc[idx, \"pred\"] = oof_preds.ravel()\n",
        "\n",
        "    plt.figure(figsize=(12,5))\n",
        "    plt.plot(history.history[\"loss\"], \"o--\", label=\"loss\")\n",
        "    plt.plot(history.history[\"val_loss\"], \"o--\", label=\"val_loss\")\n",
        "    plt.grid()\n",
        "    plt.legend(loc=\"best\")\n",
        "    plt.show()\n",
        "    \n",
        "    plt.figure(figsize=(12,5))\n",
        "    plt.plot(history.history[\"loss\"][50:], \"o--\", label=\"loss\")\n",
        "    plt.plot(history.history[\"val_loss\"][50:], \"o--\", label=\"val_loss\")\n",
        "    plt.grid()\n",
        "    plt.legend(loc=\"best\")\n",
        "    plt.show()\n"
      ],
      "execution_count": null,
      "outputs": [
        {
          "output_type": "stream",
          "name": "stdout",
          "text": [
            "----------------------------------- Fold: 1 ------------------------------------\n",
            "Model: \"model_11\"\n",
            "_________________________________________________________________\n",
            "Layer (type)                 Output Shape              Param #   \n",
            "=================================================================\n",
            "input_13 (InputLayer)        [(None, 80, 50)]          0         \n",
            "_________________________________________________________________\n",
            "bidirectional_12 (Bidirectio (None, 80, 2048)          8806400   \n",
            "_________________________________________________________________\n",
            "tf.reshape_20 (TFOpLambda)   (None, 80, 128, 1, 16)    0         \n",
            "_________________________________________________________________\n",
            "conv_lst_m2d_33 (ConvLSTM2D) (None, 80, 256, 1, 16)    1967104   \n",
            "_________________________________________________________________\n",
            "conv_lst_m2d_34 (ConvLSTM2D) (None, 80, 128, 1, 16)    983552    \n",
            "_________________________________________________________________\n",
            "conv_lst_m2d_35 (ConvLSTM2D) (None, 80, 64, 1, 16)     246016    \n",
            "_________________________________________________________________\n",
            "tf.reshape_21 (TFOpLambda)   (None, 80, 1024)          0         \n",
            "_________________________________________________________________\n",
            "dense_14 (Dense)             (None, 80, 128)           131200    \n",
            "_________________________________________________________________\n",
            "dense_15 (Dense)             (None, 80, 1)             129       \n",
            "=================================================================\n",
            "Total params: 12,134,401\n",
            "Trainable params: 12,134,401\n",
            "Non-trainable params: 0\n",
            "_________________________________________________________________\n"
          ]
        },
        {
          "output_type": "display_data",
          "data": {
            "text/plain": [
              "None"
            ]
          },
          "metadata": {}
        },
        {
          "output_type": "stream",
          "name": "stdout",
          "text": [
            "Epoch 1/300\n",
            "59/59 [==============================] - 63s 717ms/step - loss: 4.5329 - val_loss: 1.6338\n",
            "Epoch 2/300\n",
            "59/59 [==============================] - 22s 376ms/step - loss: 1.4462 - val_loss: 1.0914\n",
            "Epoch 3/300\n",
            "59/59 [==============================] - 22s 377ms/step - loss: 1.0356 - val_loss: 0.8754\n",
            "Epoch 4/300\n",
            "59/59 [==============================] - 22s 377ms/step - loss: 0.8830 - val_loss: 0.8436\n",
            "Epoch 5/300\n",
            "59/59 [==============================] - 22s 376ms/step - loss: 0.8056 - val_loss: 0.7249\n",
            "Epoch 6/300\n",
            "59/59 [==============================] - 22s 377ms/step - loss: 0.7152 - val_loss: 0.5849\n",
            "Epoch 7/300\n",
            "59/59 [==============================] - 22s 377ms/step - loss: 0.5856 - val_loss: 0.5354\n",
            "Epoch 8/300\n",
            "59/59 [==============================] - 22s 377ms/step - loss: 0.5100 - val_loss: 0.5064\n",
            "Epoch 9/300\n",
            "59/59 [==============================] - 22s 378ms/step - loss: 0.4887 - val_loss: 0.4377\n",
            "Epoch 10/300\n",
            "59/59 [==============================] - 22s 377ms/step - loss: 0.4690 - val_loss: 0.4258\n",
            "Epoch 11/300\n",
            "59/59 [==============================] - 22s 377ms/step - loss: 0.4240 - val_loss: 0.4027\n",
            "Epoch 12/300\n",
            "59/59 [==============================] - 22s 376ms/step - loss: 0.4120 - val_loss: 0.3968\n",
            "Epoch 13/300\n",
            "59/59 [==============================] - 22s 377ms/step - loss: 0.4099 - val_loss: 0.4067\n",
            "Epoch 14/300\n",
            "59/59 [==============================] - 22s 377ms/step - loss: 0.3966 - val_loss: 0.4049\n",
            "Epoch 15/300\n",
            "59/59 [==============================] - 22s 376ms/step - loss: 0.3867 - val_loss: 0.3733\n",
            "Epoch 16/300\n",
            "59/59 [==============================] - 22s 376ms/step - loss: 0.3740 - val_loss: 0.3658\n",
            "Epoch 17/300\n",
            "59/59 [==============================] - 22s 377ms/step - loss: 0.3631 - val_loss: 0.3485\n",
            "Epoch 18/300\n",
            "59/59 [==============================] - 22s 377ms/step - loss: 0.3477 - val_loss: 0.3617\n",
            "Epoch 19/300\n",
            "59/59 [==============================] - 22s 377ms/step - loss: 0.3561 - val_loss: 0.3353\n",
            "Epoch 20/300\n",
            "59/59 [==============================] - 22s 377ms/step - loss: 0.3376 - val_loss: 0.3423\n",
            "Epoch 21/300\n",
            "59/59 [==============================] - 22s 377ms/step - loss: 0.3344 - val_loss: 0.3399\n",
            "Epoch 22/300\n",
            "59/59 [==============================] - 22s 377ms/step - loss: 0.3279 - val_loss: 0.3547\n",
            "Epoch 23/300\n",
            "59/59 [==============================] - 22s 379ms/step - loss: 0.3382 - val_loss: 0.3316\n",
            "Epoch 24/300\n",
            "59/59 [==============================] - 23s 386ms/step - loss: 0.3098 - val_loss: 0.3201\n",
            "Epoch 25/300\n",
            "59/59 [==============================] - 22s 378ms/step - loss: 0.3199 - val_loss: 0.3274\n",
            "Epoch 26/300\n",
            "59/59 [==============================] - 22s 378ms/step - loss: 0.3257 - val_loss: 0.3317\n",
            "Epoch 27/300\n",
            "59/59 [==============================] - 22s 378ms/step - loss: 0.3103 - val_loss: 0.3097\n",
            "Epoch 28/300\n",
            "59/59 [==============================] - 22s 378ms/step - loss: 0.3107 - val_loss: 0.3011\n",
            "Epoch 29/300\n",
            "59/59 [==============================] - 22s 379ms/step - loss: 0.2937 - val_loss: 0.2988\n",
            "Epoch 30/300\n",
            "59/59 [==============================] - 22s 378ms/step - loss: 0.2905 - val_loss: 0.3100\n",
            "Epoch 31/300\n",
            "59/59 [==============================] - 22s 378ms/step - loss: 0.2944 - val_loss: 0.2993\n",
            "Epoch 32/300\n",
            "59/59 [==============================] - 22s 377ms/step - loss: 0.2864 - val_loss: 0.3201\n",
            "Epoch 33/300\n",
            "59/59 [==============================] - 22s 377ms/step - loss: 0.2940 - val_loss: 0.3066\n",
            "Epoch 34/300\n",
            "59/59 [==============================] - 22s 377ms/step - loss: 0.2793 - val_loss: 0.2854\n",
            "Epoch 35/300\n",
            "59/59 [==============================] - 22s 377ms/step - loss: 0.2846 - val_loss: 0.2884\n",
            "Epoch 36/300\n",
            "59/59 [==============================] - 22s 378ms/step - loss: 0.2779 - val_loss: 0.2861\n",
            "Epoch 37/300\n",
            "59/59 [==============================] - 22s 378ms/step - loss: 0.2713 - val_loss: 0.2939\n",
            "Epoch 38/300\n",
            "59/59 [==============================] - 22s 377ms/step - loss: 0.2694 - val_loss: 0.2779\n",
            "Epoch 39/300\n",
            "59/59 [==============================] - 22s 378ms/step - loss: 0.2714 - val_loss: 0.2908\n",
            "Epoch 40/300\n",
            "59/59 [==============================] - 22s 377ms/step - loss: 0.2655 - val_loss: 0.3061\n",
            "Epoch 41/300\n",
            "59/59 [==============================] - 22s 377ms/step - loss: 0.2754 - val_loss: 0.2810\n",
            "Epoch 42/300\n",
            "59/59 [==============================] - 22s 378ms/step - loss: 0.2639 - val_loss: 0.2653\n",
            "Epoch 43/300\n",
            "59/59 [==============================] - 22s 377ms/step - loss: 0.2588 - val_loss: 0.2615\n",
            "Epoch 44/300\n",
            "59/59 [==============================] - 22s 377ms/step - loss: 0.2477 - val_loss: 0.2672\n",
            "Epoch 45/300\n",
            "59/59 [==============================] - 22s 378ms/step - loss: 0.2538 - val_loss: 0.2554\n",
            "Epoch 46/300\n",
            "59/59 [==============================] - 22s 377ms/step - loss: 0.2440 - val_loss: 0.2555\n",
            "Epoch 47/300\n",
            "59/59 [==============================] - 22s 377ms/step - loss: 0.2416 - val_loss: 0.2555\n",
            "Epoch 48/300\n",
            "59/59 [==============================] - 22s 377ms/step - loss: 0.2443 - val_loss: 0.2658\n",
            "Epoch 49/300\n",
            "59/59 [==============================] - 22s 377ms/step - loss: 0.2517 - val_loss: 0.2602\n",
            "Epoch 50/300\n",
            "59/59 [==============================] - 22s 377ms/step - loss: 0.2486 - val_loss: 0.2647\n",
            "Epoch 51/300\n",
            "59/59 [==============================] - 22s 378ms/step - loss: 0.2509 - val_loss: 0.2611\n",
            "Epoch 52/300\n",
            "59/59 [==============================] - 22s 377ms/step - loss: 0.2379 - val_loss: 0.2603\n",
            "Epoch 53/300\n",
            "59/59 [==============================] - 22s 377ms/step - loss: 0.2503 - val_loss: 0.2599\n",
            "Epoch 54/300\n",
            "59/59 [==============================] - 22s 377ms/step - loss: 0.2420 - val_loss: 0.2591\n",
            "Epoch 55/300\n",
            "59/59 [==============================] - 22s 377ms/step - loss: 0.2325 - val_loss: 0.2499\n",
            "Epoch 56/300\n",
            "59/59 [==============================] - 22s 378ms/step - loss: 0.2278 - val_loss: 0.2535\n",
            "Epoch 57/300\n",
            "59/59 [==============================] - 22s 378ms/step - loss: 0.2260 - val_loss: 0.2749\n",
            "Epoch 58/300\n",
            "59/59 [==============================] - 22s 377ms/step - loss: 0.2511 - val_loss: 0.2844\n",
            "Epoch 59/300\n",
            "59/59 [==============================] - 22s 377ms/step - loss: 0.2501 - val_loss: 0.2390\n",
            "Epoch 60/300\n",
            "59/59 [==============================] - 22s 377ms/step - loss: 0.2249 - val_loss: 0.2365\n",
            "Epoch 61/300\n",
            "59/59 [==============================] - 22s 377ms/step - loss: 0.2259 - val_loss: 0.2331\n",
            "Epoch 62/300\n",
            "59/59 [==============================] - 22s 378ms/step - loss: 0.2165 - val_loss: 0.2288\n",
            "Epoch 63/300\n",
            "59/59 [==============================] - 22s 377ms/step - loss: 0.2125 - val_loss: 0.2478\n",
            "Epoch 64/300\n",
            "59/59 [==============================] - 22s 377ms/step - loss: 0.2160 - val_loss: 0.2442\n",
            "Epoch 65/300\n",
            "59/59 [==============================] - 22s 377ms/step - loss: 0.2096 - val_loss: 0.2303\n",
            "Epoch 66/300\n",
            "59/59 [==============================] - 22s 377ms/step - loss: 0.2145 - val_loss: 0.2311\n",
            "Epoch 67/300\n",
            "59/59 [==============================] - 22s 376ms/step - loss: 0.2121 - val_loss: 0.2358\n",
            "Epoch 68/300\n",
            "59/59 [==============================] - 22s 378ms/step - loss: 0.2166 - val_loss: 0.2343\n",
            "Epoch 69/300\n",
            "59/59 [==============================] - 22s 377ms/step - loss: 0.2287 - val_loss: 0.2309\n",
            "Epoch 70/300\n",
            "59/59 [==============================] - 22s 380ms/step - loss: 0.2090 - val_loss: 0.2300\n",
            "Epoch 71/300\n",
            "59/59 [==============================] - 22s 379ms/step - loss: 0.2084 - val_loss: 0.2351\n",
            "Epoch 72/300\n",
            "59/59 [==============================] - 22s 378ms/step - loss: 0.2044 - val_loss: 0.2204\n",
            "Epoch 73/300\n",
            "59/59 [==============================] - 22s 378ms/step - loss: 0.1988 - val_loss: 0.2225\n",
            "Epoch 74/300\n",
            "59/59 [==============================] - 22s 376ms/step - loss: 0.2041 - val_loss: 0.2421\n",
            "Epoch 75/300\n",
            "59/59 [==============================] - 22s 377ms/step - loss: 0.2170 - val_loss: 0.2277\n",
            "Epoch 76/300\n",
            "59/59 [==============================] - 23s 385ms/step - loss: 0.2116 - val_loss: 0.2728\n",
            "Epoch 77/300\n",
            "59/59 [==============================] - 22s 377ms/step - loss: 0.2342 - val_loss: 0.2474\n",
            "Epoch 78/300\n",
            "59/59 [==============================] - 22s 377ms/step - loss: 0.2079 - val_loss: 0.2240\n",
            "Epoch 79/300\n",
            "59/59 [==============================] - 22s 377ms/step - loss: 0.1954 - val_loss: 0.2337\n",
            "Epoch 80/300\n",
            "59/59 [==============================] - 22s 377ms/step - loss: 0.2040 - val_loss: 0.2244\n",
            "Epoch 81/300\n",
            "59/59 [==============================] - 22s 376ms/step - loss: 0.2019 - val_loss: 0.2272\n",
            "Epoch 82/300\n",
            "59/59 [==============================] - 22s 377ms/step - loss: 0.2020 - val_loss: 0.2387\n",
            "\n",
            "Epoch 00082: ReduceLROnPlateau reducing learning rate to 0.000800000037997961.\n",
            "Epoch 83/300\n",
            "59/59 [==============================] - 22s 376ms/step - loss: 0.1988 - val_loss: 0.2121\n",
            "Epoch 84/300\n",
            "59/59 [==============================] - 22s 376ms/step - loss: 0.1790 - val_loss: 0.2041\n",
            "Epoch 85/300\n",
            "59/59 [==============================] - 22s 377ms/step - loss: 0.1753 - val_loss: 0.2019\n",
            "Epoch 86/300\n",
            "59/59 [==============================] - 22s 377ms/step - loss: 0.1724 - val_loss: 0.2032\n",
            "Epoch 87/300\n",
            "59/59 [==============================] - 22s 377ms/step - loss: 0.1710 - val_loss: 0.2027\n",
            "Epoch 88/300\n",
            "59/59 [==============================] - 22s 376ms/step - loss: 0.1677 - val_loss: 0.1987\n",
            "Epoch 89/300\n",
            "59/59 [==============================] - 22s 376ms/step - loss: 0.1735 - val_loss: 0.2081\n",
            "Epoch 90/300\n",
            "59/59 [==============================] - 22s 377ms/step - loss: 0.1707 - val_loss: 0.2059\n",
            "Epoch 91/300\n",
            "59/59 [==============================] - 22s 376ms/step - loss: 0.1681 - val_loss: 0.1999\n",
            "Epoch 92/300\n",
            "59/59 [==============================] - 22s 377ms/step - loss: 0.1719 - val_loss: 0.2000\n",
            "Epoch 93/300\n",
            "59/59 [==============================] - 22s 377ms/step - loss: 0.1654 - val_loss: 0.1969\n",
            "Epoch 94/300\n",
            "59/59 [==============================] - 22s 377ms/step - loss: 0.1668 - val_loss: 0.1987\n",
            "Epoch 95/300\n",
            "59/59 [==============================] - 22s 377ms/step - loss: 0.1665 - val_loss: 0.1997\n",
            "Epoch 96/300\n",
            "59/59 [==============================] - 22s 378ms/step - loss: 0.1659 - val_loss: 0.1962\n",
            "Epoch 97/300\n",
            "59/59 [==============================] - 22s 377ms/step - loss: 0.1612 - val_loss: 0.2049\n",
            "Epoch 98/300\n",
            "59/59 [==============================] - 22s 377ms/step - loss: 0.1750 - val_loss: 0.2188\n",
            "Epoch 99/300\n",
            "59/59 [==============================] - 22s 377ms/step - loss: 0.1827 - val_loss: 0.2087\n",
            "Epoch 100/300\n",
            "59/59 [==============================] - 22s 377ms/step - loss: 0.1734 - val_loss: 0.2093\n",
            "Epoch 101/300\n",
            "59/59 [==============================] - 22s 377ms/step - loss: 0.1706 - val_loss: 0.2103\n",
            "Epoch 102/300\n",
            "59/59 [==============================] - 22s 377ms/step - loss: 0.1708 - val_loss: 0.2129\n",
            "Epoch 103/300\n",
            "59/59 [==============================] - 22s 377ms/step - loss: 0.1713 - val_loss: 0.2087\n",
            "Epoch 104/300\n",
            "59/59 [==============================] - 22s 377ms/step - loss: 0.1665 - val_loss: 0.2016\n",
            "Epoch 105/300\n",
            "59/59 [==============================] - 22s 377ms/step - loss: 0.1646 - val_loss: 0.2350\n",
            "Epoch 106/300\n",
            "59/59 [==============================] - 22s 377ms/step - loss: 0.1827 - val_loss: 0.2125\n",
            "\n",
            "Epoch 00106: ReduceLROnPlateau reducing learning rate to 0.0006400000303983689.\n",
            "Epoch 107/300\n",
            "59/59 [==============================] - 22s 377ms/step - loss: 0.1669 - val_loss: 0.1991\n",
            "Epoch 108/300\n",
            "59/59 [==============================] - 22s 376ms/step - loss: 0.1501 - val_loss: 0.1934\n",
            "Epoch 109/300\n",
            "59/59 [==============================] - 22s 376ms/step - loss: 0.1519 - val_loss: 0.1987\n",
            "Epoch 110/300\n",
            "59/59 [==============================] - 22s 376ms/step - loss: 0.1545 - val_loss: 0.2054\n",
            "Epoch 111/300\n",
            "59/59 [==============================] - 23s 386ms/step - loss: 0.1565 - val_loss: 0.2056\n",
            "Epoch 112/300\n",
            "59/59 [==============================] - 22s 376ms/step - loss: 0.1532 - val_loss: 0.1897\n",
            "Epoch 113/300\n",
            "59/59 [==============================] - 22s 376ms/step - loss: 0.1481 - val_loss: 0.1969\n",
            "Epoch 114/300\n",
            "59/59 [==============================] - 22s 377ms/step - loss: 0.1502 - val_loss: 0.1976\n",
            "Epoch 115/300\n",
            "59/59 [==============================] - 22s 377ms/step - loss: 0.1466 - val_loss: 0.1920\n",
            "Epoch 116/300\n",
            "59/59 [==============================] - 22s 376ms/step - loss: 0.1479 - val_loss: 0.1974\n",
            "Epoch 117/300\n",
            "59/59 [==============================] - 22s 376ms/step - loss: 0.1482 - val_loss: 0.1890\n",
            "Epoch 118/300\n",
            "59/59 [==============================] - 22s 377ms/step - loss: 0.1475 - val_loss: 0.1966\n",
            "Epoch 119/300\n",
            "59/59 [==============================] - 22s 377ms/step - loss: 0.1441 - val_loss: 0.1914\n",
            "Epoch 120/300\n",
            "59/59 [==============================] - 22s 377ms/step - loss: 0.1420 - val_loss: 0.1882\n",
            "Epoch 121/300\n",
            "59/59 [==============================] - 22s 376ms/step - loss: 0.1422 - val_loss: 0.1896\n",
            "Epoch 122/300\n",
            "59/59 [==============================] - 22s 376ms/step - loss: 0.1411 - val_loss: 0.1880\n",
            "Epoch 123/300\n",
            "59/59 [==============================] - 22s 376ms/step - loss: 0.1412 - val_loss: 0.1892\n",
            "Epoch 124/300\n",
            "59/59 [==============================] - 22s 376ms/step - loss: 0.1386 - val_loss: 0.1899\n",
            "Epoch 125/300\n",
            "59/59 [==============================] - 22s 377ms/step - loss: 0.1382 - val_loss: 0.1888\n",
            "Epoch 126/300\n",
            "59/59 [==============================] - 22s 376ms/step - loss: 0.1341 - val_loss: 0.1867\n",
            "Epoch 127/300\n",
            "59/59 [==============================] - 22s 376ms/step - loss: 0.1360 - val_loss: 0.1948\n",
            "Epoch 128/300\n",
            "59/59 [==============================] - 22s 376ms/step - loss: 0.1356 - val_loss: 0.1911\n",
            "Epoch 129/300\n",
            "59/59 [==============================] - 22s 376ms/step - loss: 0.1372 - val_loss: 0.1885\n",
            "Epoch 130/300\n",
            "59/59 [==============================] - 22s 376ms/step - loss: 0.1356 - val_loss: 0.1868\n",
            "Epoch 131/300\n",
            "59/59 [==============================] - 22s 376ms/step - loss: 0.1319 - val_loss: 0.1870\n",
            "Epoch 132/300\n",
            "59/59 [==============================] - 22s 376ms/step - loss: 0.1313 - val_loss: 0.1878\n",
            "Epoch 133/300\n",
            "59/59 [==============================] - 22s 377ms/step - loss: 0.1349 - val_loss: 0.1859\n",
            "Epoch 134/300\n",
            "59/59 [==============================] - 22s 376ms/step - loss: 0.1303 - val_loss: 0.1868\n",
            "Epoch 135/300\n",
            "59/59 [==============================] - 22s 376ms/step - loss: 0.1297 - val_loss: 0.1863\n",
            "Epoch 136/300\n",
            "59/59 [==============================] - 22s 376ms/step - loss: 0.1314 - val_loss: 0.1869\n",
            "Epoch 137/300\n",
            "59/59 [==============================] - 22s 376ms/step - loss: 0.1316 - val_loss: 0.1890\n",
            "Epoch 138/300\n",
            "59/59 [==============================] - 22s 376ms/step - loss: 0.1325 - val_loss: 0.1901\n",
            "Epoch 139/300\n",
            "59/59 [==============================] - 22s 377ms/step - loss: 0.1320 - val_loss: 0.1910\n",
            "Epoch 140/300\n",
            "59/59 [==============================] - 22s 377ms/step - loss: 0.1304 - val_loss: 0.1954\n",
            "Epoch 141/300\n",
            "59/59 [==============================] - 22s 376ms/step - loss: 0.1288 - val_loss: 0.1854\n",
            "Epoch 142/300\n",
            "59/59 [==============================] - 22s 376ms/step - loss: 0.1257 - val_loss: 0.1864\n",
            "Epoch 143/300\n",
            "59/59 [==============================] - 22s 376ms/step - loss: 0.1273 - val_loss: 0.1936\n",
            "Epoch 144/300\n",
            "59/59 [==============================] - 22s 377ms/step - loss: 0.1284 - val_loss: 0.1928\n",
            "Epoch 145/300\n",
            "59/59 [==============================] - 22s 376ms/step - loss: 0.1284 - val_loss: 0.1870\n",
            "Epoch 146/300\n",
            "59/59 [==============================] - 22s 376ms/step - loss: 0.1255 - val_loss: 0.1909\n",
            "Epoch 147/300\n",
            "59/59 [==============================] - 22s 376ms/step - loss: 0.1282 - val_loss: 0.1853\n",
            "Epoch 148/300\n",
            "59/59 [==============================] - 22s 377ms/step - loss: 0.1240 - val_loss: 0.1882\n",
            "Epoch 149/300\n",
            "59/59 [==============================] - 22s 376ms/step - loss: 0.1277 - val_loss: 0.1870\n",
            "Epoch 150/300\n",
            "59/59 [==============================] - 22s 376ms/step - loss: 0.1236 - val_loss: 0.1880\n",
            "Epoch 151/300\n",
            "59/59 [==============================] - 22s 377ms/step - loss: 0.1255 - val_loss: 0.1873\n",
            "\n",
            "Epoch 00151: ReduceLROnPlateau reducing learning rate to 0.0005120000336319208.\n",
            "Epoch 152/300\n",
            "59/59 [==============================] - 22s 377ms/step - loss: 0.1162 - val_loss: 0.1823\n",
            "Epoch 153/300\n",
            "59/59 [==============================] - 22s 376ms/step - loss: 0.1114 - val_loss: 0.1859\n",
            "Epoch 154/300\n",
            "59/59 [==============================] - 23s 386ms/step - loss: 0.1119 - val_loss: 0.1826\n",
            "Epoch 155/300\n",
            "59/59 [==============================] - 22s 376ms/step - loss: 0.1125 - val_loss: 0.1833\n",
            "Epoch 156/300\n",
            "59/59 [==============================] - 22s 376ms/step - loss: 0.1115 - val_loss: 0.1846\n",
            "Epoch 157/300\n",
            "59/59 [==============================] - 22s 376ms/step - loss: 0.1129 - val_loss: 0.1868\n",
            "Epoch 158/300\n",
            "59/59 [==============================] - 22s 376ms/step - loss: 0.1133 - val_loss: 0.1840\n",
            "Epoch 159/300\n",
            "59/59 [==============================] - 22s 377ms/step - loss: 0.1104 - val_loss: 0.1849\n",
            "Epoch 160/300\n",
            "59/59 [==============================] - 22s 376ms/step - loss: 0.1113 - val_loss: 0.1825\n",
            "Epoch 161/300\n",
            "59/59 [==============================] - 22s 376ms/step - loss: 0.1093 - val_loss: 0.1846\n",
            "Epoch 162/300\n",
            "59/59 [==============================] - 22s 377ms/step - loss: 0.1106 - val_loss: 0.1866\n",
            "\n",
            "Epoch 00162: ReduceLROnPlateau reducing learning rate to 0.00040960004553198815.\n",
            "Epoch 163/300\n",
            "59/59 [==============================] - 22s 376ms/step - loss: 0.1063 - val_loss: 0.1845\n",
            "Epoch 164/300\n",
            "59/59 [==============================] - 22s 376ms/step - loss: 0.1036 - val_loss: 0.1819\n",
            "Epoch 165/300\n",
            "59/59 [==============================] - 22s 376ms/step - loss: 0.1019 - val_loss: 0.1832\n",
            "Epoch 166/300\n",
            "59/59 [==============================] - 22s 376ms/step - loss: 0.1027 - val_loss: 0.1829\n",
            "Epoch 167/300\n",
            "59/59 [==============================] - 22s 376ms/step - loss: 0.1013 - val_loss: 0.1811\n",
            "Epoch 168/300\n",
            "59/59 [==============================] - 22s 376ms/step - loss: 0.1003 - val_loss: 0.1845\n",
            "Epoch 169/300\n",
            "59/59 [==============================] - 22s 376ms/step - loss: 0.1025 - val_loss: 0.1834\n",
            "Epoch 170/300\n",
            "59/59 [==============================] - 22s 376ms/step - loss: 0.1018 - val_loss: 0.1824\n",
            "Epoch 171/300\n",
            "59/59 [==============================] - 22s 376ms/step - loss: 0.1004 - val_loss: 0.1815\n",
            "Epoch 172/300\n",
            "59/59 [==============================] - 22s 376ms/step - loss: 0.1013 - val_loss: 0.1835\n",
            "Epoch 173/300\n",
            "59/59 [==============================] - 22s 377ms/step - loss: 0.1014 - val_loss: 0.1836\n",
            "Epoch 174/300\n",
            "59/59 [==============================] - 22s 376ms/step - loss: 0.0997 - val_loss: 0.1822\n",
            "Epoch 175/300\n",
            "59/59 [==============================] - 22s 376ms/step - loss: 0.0995 - val_loss: 0.1840\n",
            "Epoch 176/300\n",
            "59/59 [==============================] - 22s 377ms/step - loss: 0.0998 - val_loss: 0.1820\n",
            "Epoch 177/300\n",
            "59/59 [==============================] - 22s 376ms/step - loss: 0.0989 - val_loss: 0.1838\n",
            "\n",
            "Epoch 00177: ReduceLROnPlateau reducing learning rate to 0.00032768002711236477.\n",
            "Epoch 178/300\n",
            "59/59 [==============================] - 22s 377ms/step - loss: 0.0955 - val_loss: 0.1821\n",
            "Epoch 179/300\n",
            "59/59 [==============================] - 22s 377ms/step - loss: 0.0912 - val_loss: 0.1815\n",
            "Epoch 180/300\n",
            "59/59 [==============================] - 22s 378ms/step - loss: 0.0908 - val_loss: 0.1819\n",
            "Epoch 181/300\n",
            "59/59 [==============================] - 22s 378ms/step - loss: 0.0925 - val_loss: 0.1811\n",
            "Epoch 182/300\n",
            "59/59 [==============================] - 22s 378ms/step - loss: 0.0918 - val_loss: 0.1818\n",
            "Epoch 183/300\n",
            "59/59 [==============================] - 22s 378ms/step - loss: 0.0913 - val_loss: 0.1826\n",
            "Epoch 184/300\n",
            "59/59 [==============================] - 22s 377ms/step - loss: 0.0904 - val_loss: 0.1834\n",
            "Epoch 185/300\n",
            "59/59 [==============================] - 22s 377ms/step - loss: 0.0903 - val_loss: 0.1824\n",
            "Epoch 186/300\n",
            "59/59 [==============================] - 22s 377ms/step - loss: 0.0910 - val_loss: 0.1826\n",
            "Epoch 187/300\n",
            "59/59 [==============================] - 22s 377ms/step - loss: 0.0907 - val_loss: 0.1828\n",
            "\n",
            "Epoch 00187: ReduceLROnPlateau reducing learning rate to 0.0002621440216898918.\n",
            "Epoch 188/300\n",
            "59/59 [==============================] - 22s 377ms/step - loss: 0.0871 - val_loss: 0.1813\n",
            "Epoch 189/300\n",
            "59/59 [==============================] - 22s 377ms/step - loss: 0.0855 - val_loss: 0.1810\n",
            "Epoch 190/300\n",
            "59/59 [==============================] - 22s 378ms/step - loss: 0.0848 - val_loss: 0.1813\n",
            "Epoch 191/300\n",
            "59/59 [==============================] - 22s 377ms/step - loss: 0.0839 - val_loss: 0.1822\n",
            "Epoch 192/300\n",
            "59/59 [==============================] - 23s 387ms/step - loss: 0.0845 - val_loss: 0.1815\n",
            "Epoch 193/300\n",
            "59/59 [==============================] - 22s 378ms/step - loss: 0.0836 - val_loss: 0.1819\n",
            "Epoch 194/300\n",
            "59/59 [==============================] - 22s 377ms/step - loss: 0.0847 - val_loss: 0.1831\n",
            "Epoch 195/300\n",
            "59/59 [==============================] - 22s 378ms/step - loss: 0.0852 - val_loss: 0.1820\n",
            "Epoch 196/300\n",
            "59/59 [==============================] - 22s 378ms/step - loss: 0.0840 - val_loss: 0.1825\n",
            "Epoch 197/300\n",
            "59/59 [==============================] - 22s 378ms/step - loss: 0.0831 - val_loss: 0.1825\n",
            "\n",
            "Epoch 00197: ReduceLROnPlateau reducing learning rate to 0.00020971521735191345.\n",
            "Epoch 198/300\n",
            "59/59 [==============================] - 22s 378ms/step - loss: 0.0811 - val_loss: 0.1809\n",
            "Epoch 199/300\n",
            "59/59 [==============================] - 22s 378ms/step - loss: 0.0793 - val_loss: 0.1816\n",
            "Epoch 200/300\n",
            "59/59 [==============================] - 22s 378ms/step - loss: 0.0791 - val_loss: 0.1818\n",
            "Epoch 201/300\n",
            "59/59 [==============================] - 22s 377ms/step - loss: 0.0788 - val_loss: 0.1813\n",
            "Epoch 202/300\n",
            "59/59 [==============================] - 22s 378ms/step - loss: 0.0785 - val_loss: 0.1815\n",
            "Epoch 203/300\n",
            "59/59 [==============================] - 22s 377ms/step - loss: 0.0797 - val_loss: 0.1818\n",
            "Epoch 204/300\n",
            "59/59 [==============================] - 22s 378ms/step - loss: 0.0787 - val_loss: 0.1826\n",
            "Epoch 205/300\n",
            "59/59 [==============================] - 22s 378ms/step - loss: 0.0783 - val_loss: 0.1820\n",
            "Epoch 206/300\n",
            "59/59 [==============================] - 22s 377ms/step - loss: 0.0777 - val_loss: 0.1825\n",
            "Epoch 207/300\n",
            "59/59 [==============================] - 22s 376ms/step - loss: 0.0784 - val_loss: 0.1831\n",
            "Epoch 208/300\n",
            "59/59 [==============================] - 22s 377ms/step - loss: 0.0783 - val_loss: 0.1826\n",
            "\n",
            "Epoch 00208: ReduceLROnPlateau reducing learning rate to 0.00016777217388153076.\n",
            "Epoch 209/300\n",
            "59/59 [==============================] - 22s 376ms/step - loss: 0.0766 - val_loss: 0.1818\n",
            "Epoch 210/300\n",
            "59/59 [==============================] - 22s 376ms/step - loss: 0.0740 - val_loss: 0.1816\n",
            "Epoch 211/300\n",
            "59/59 [==============================] - 22s 376ms/step - loss: 0.0740 - val_loss: 0.1819\n",
            "Epoch 212/300\n",
            "59/59 [==============================] - 22s 376ms/step - loss: 0.0737 - val_loss: 0.1822\n",
            "Epoch 213/300\n",
            "59/59 [==============================] - 22s 376ms/step - loss: 0.0739 - val_loss: 0.1818\n",
            "Epoch 214/300\n",
            "59/59 [==============================] - 22s 376ms/step - loss: 0.0731 - val_loss: 0.1822\n",
            "Epoch 215/300\n",
            "59/59 [==============================] - 22s 377ms/step - loss: 0.0733 - val_loss: 0.1821\n",
            "Epoch 216/300\n",
            "59/59 [==============================] - 22s 377ms/step - loss: 0.0734 - val_loss: 0.1825\n",
            "Epoch 217/300\n",
            "59/59 [==============================] - 22s 380ms/step - loss: 0.0729 - val_loss: 0.1823\n",
            "Epoch 218/300\n",
            "59/59 [==============================] - 22s 379ms/step - loss: 0.0731 - val_loss: 0.1822\n",
            "\n",
            "Epoch 00218: ReduceLROnPlateau reducing learning rate to 0.00013421773910522462.\n",
            "Epoch 219/300\n",
            "59/59 [==============================] - 22s 379ms/step - loss: 0.0716 - val_loss: 0.1821\n",
            "Epoch 220/300\n",
            "59/59 [==============================] - 22s 379ms/step - loss: 0.0707 - val_loss: 0.1822\n",
            "Epoch 221/300\n",
            "59/59 [==============================] - 22s 377ms/step - loss: 0.0703 - val_loss: 0.1826\n",
            "Epoch 222/300\n",
            "59/59 [==============================] - 22s 377ms/step - loss: 0.0707 - val_loss: 0.1823\n",
            "Epoch 223/300\n",
            "59/59 [==============================] - 22s 377ms/step - loss: 0.0698 - val_loss: 0.1826\n",
            "Epoch 224/300\n",
            "59/59 [==============================] - 22s 377ms/step - loss: 0.0693 - val_loss: 0.1826\n",
            "Epoch 225/300\n",
            "59/59 [==============================] - 22s 378ms/step - loss: 0.0696 - val_loss: 0.1826\n",
            "Epoch 226/300\n",
            "59/59 [==============================] - 22s 378ms/step - loss: 0.0694 - val_loss: 0.1830\n",
            "Epoch 227/300\n",
            "59/59 [==============================] - 22s 378ms/step - loss: 0.0695 - val_loss: 0.1828\n",
            "Epoch 228/300\n",
            "59/59 [==============================] - 22s 378ms/step - loss: 0.0687 - val_loss: 0.1827\n",
            "\n",
            "Epoch 00228: ReduceLROnPlateau reducing learning rate to 0.00010737419361248613.\n",
            "Epoch 229/300\n",
            "59/59 [==============================] - 22s 378ms/step - loss: 0.0684 - val_loss: 0.1827\n",
            "Epoch 230/300\n",
            "59/59 [==============================] - 22s 378ms/step - loss: 0.0672 - val_loss: 0.1827\n",
            "Epoch 231/300\n",
            "59/59 [==============================] - 22s 378ms/step - loss: 0.0672 - val_loss: 0.1829\n",
            "Epoch 232/300\n",
            "59/59 [==============================] - 22s 379ms/step - loss: 0.0670 - val_loss: 0.1829\n",
            "Epoch 233/300\n",
            "59/59 [==============================] - 22s 379ms/step - loss: 0.0665 - val_loss: 0.1829\n",
            "Restoring model weights from the end of the best epoch.\n",
            "Epoch 00233: early stopping\n"
          ]
        },
        {
          "output_type": "display_data",
          "data": {
            "image/png": "[encoded data removed]",
            "text/plain": [
              "<Figure size 864x360 with 1 Axes>"
            ]
          },
          "metadata": {
            "needs_background": "light"
          }
        },
        {
          "output_type": "display_data",
          "data": {
            "image/png": "[encoded data removed]",
            "text/plain": [
              "<Figure size 864x360 with 1 Axes>"
            ]
          },
          "metadata": {
            "needs_background": "light"
          }
        },
        {
          "output_type": "stream",
          "name": "stdout",
          "text": [
            "----------------------------------- Fold: 2 ------------------------------------\n",
            "Model: \"model_12\"\n",
            "_________________________________________________________________\n",
            "Layer (type)                 Output Shape              Param #   \n",
            "=================================================================\n",
            "input_14 (InputLayer)        [(None, 80, 50)]          0         \n",
            "_________________________________________________________________\n",
            "bidirectional_13 (Bidirectio (None, 80, 2048)          8806400   \n",
            "_________________________________________________________________\n",
            "tf.reshape_22 (TFOpLambda)   (None, 80, 128, 1, 16)    0         \n",
            "_________________________________________________________________\n",
            "conv_lst_m2d_36 (ConvLSTM2D) (None, 80, 256, 1, 16)    1967104   \n",
            "_________________________________________________________________\n",
            "conv_lst_m2d_37 (ConvLSTM2D) (None, 80, 128, 1, 16)    983552    \n",
            "_________________________________________________________________\n",
            "conv_lst_m2d_38 (ConvLSTM2D) (None, 80, 64, 1, 16)     246016    \n",
            "_________________________________________________________________\n",
            "tf.reshape_23 (TFOpLambda)   (None, 80, 1024)          0         \n",
            "_________________________________________________________________\n",
            "dense_16 (Dense)             (None, 80, 128)           131200    \n",
            "_________________________________________________________________\n",
            "dense_17 (Dense)             (None, 80, 1)             129       \n",
            "=================================================================\n",
            "Total params: 12,134,401\n",
            "Trainable params: 12,134,401\n",
            "Non-trainable params: 0\n",
            "_________________________________________________________________\n"
          ]
        },
        {
          "output_type": "display_data",
          "data": {
            "text/plain": [
              "None"
            ]
          },
          "metadata": {}
        },
        {
          "output_type": "stream",
          "name": "stdout",
          "text": [
            "Epoch 1/300\n",
            "59/59 [==============================] - 63s 697ms/step - loss: 4.6270 - val_loss: 1.6151\n",
            "Epoch 2/300\n",
            "59/59 [==============================] - 22s 377ms/step - loss: 1.5192 - val_loss: 1.1291\n",
            "Epoch 3/300\n",
            "59/59 [==============================] - 22s 377ms/step - loss: 1.0811 - val_loss: 1.0346\n",
            "Epoch 4/300\n",
            "59/59 [==============================] - 22s 377ms/step - loss: 0.9454 - val_loss: 0.8277\n",
            "Epoch 5/300\n",
            "59/59 [==============================] - 22s 378ms/step - loss: 0.8102 - val_loss: 0.7672\n",
            "Epoch 6/300\n",
            "59/59 [==============================] - 22s 377ms/step - loss: 0.7354 - val_loss: 0.7021\n",
            "Epoch 7/300\n",
            "59/59 [==============================] - 22s 378ms/step - loss: 0.6619 - val_loss: 0.5849\n",
            "Epoch 8/300\n",
            "59/59 [==============================] - 22s 377ms/step - loss: 0.5648 - val_loss: 0.5685\n",
            "Epoch 9/300\n",
            "59/59 [==============================] - 22s 377ms/step - loss: 0.5159 - val_loss: 0.4700\n",
            "Epoch 10/300\n",
            "59/59 [==============================] - 22s 377ms/step - loss: 0.4670 - val_loss: 0.4660\n",
            "Epoch 11/300\n",
            "59/59 [==============================] - 22s 377ms/step - loss: 0.4587 - val_loss: 0.5378\n",
            "Epoch 12/300\n",
            "59/59 [==============================] - 22s 377ms/step - loss: 0.4456 - val_loss: 0.4179\n",
            "Epoch 13/300\n",
            "59/59 [==============================] - 22s 378ms/step - loss: 0.3971 - val_loss: 0.4104\n",
            "Epoch 14/300\n",
            "59/59 [==============================] - 22s 377ms/step - loss: 0.4151 - val_loss: 0.4016\n",
            "Epoch 15/300\n",
            "59/59 [==============================] - 22s 376ms/step - loss: 0.3725 - val_loss: 0.4080\n",
            "Epoch 16/300\n",
            "59/59 [==============================] - 22s 377ms/step - loss: 0.3681 - val_loss: 0.3939\n",
            "Epoch 17/300\n",
            "59/59 [==============================] - 22s 379ms/step - loss: 0.3530 - val_loss: 0.3679\n",
            "Epoch 18/300\n",
            "59/59 [==============================] - 22s 378ms/step - loss: 0.3533 - val_loss: 0.3557\n",
            "Epoch 19/300\n",
            "59/59 [==============================] - 22s 377ms/step - loss: 0.3532 - val_loss: 0.3699\n",
            "Epoch 20/300\n",
            "59/59 [==============================] - 22s 377ms/step - loss: 0.3402 - val_loss: 0.4296\n",
            "Epoch 21/300\n",
            "59/59 [==============================] - 22s 377ms/step - loss: 0.3665 - val_loss: 0.3379\n",
            "Epoch 22/300\n",
            "59/59 [==============================] - 22s 377ms/step - loss: 0.3316 - val_loss: 0.3283\n",
            "Epoch 23/300\n",
            "59/59 [==============================] - 22s 377ms/step - loss: 0.3257 - val_loss: 0.3241\n",
            "Epoch 24/300\n",
            "59/59 [==============================] - 22s 378ms/step - loss: 0.3062 - val_loss: 0.3367\n",
            "Epoch 25/300\n",
            "59/59 [==============================] - 22s 377ms/step - loss: 0.3077 - val_loss: 0.3277\n",
            "Epoch 26/300\n",
            "59/59 [==============================] - 22s 377ms/step - loss: 0.3015 - val_loss: 0.3400\n",
            "Epoch 27/300\n",
            "59/59 [==============================] - 22s 377ms/step - loss: 0.2944 - val_loss: 0.3200\n",
            "Epoch 28/300\n",
            "59/59 [==============================] - 22s 377ms/step - loss: 0.2998 - val_loss: 0.3066\n",
            "Epoch 29/300\n",
            "59/59 [==============================] - 22s 377ms/step - loss: 0.3092 - val_loss: 0.3131\n",
            "Epoch 30/300\n",
            "59/59 [==============================] - 22s 377ms/step - loss: 0.2929 - val_loss: 0.3097\n",
            "Epoch 31/300\n",
            "59/59 [==============================] - 22s 378ms/step - loss: 0.2842 - val_loss: 0.3227\n",
            "Epoch 32/300\n",
            "59/59 [==============================] - 22s 378ms/step - loss: 0.3480 - val_loss: 0.3442\n",
            "Epoch 33/300\n",
            "59/59 [==============================] - 22s 378ms/step - loss: 0.3063 - val_loss: 0.2971\n",
            "Epoch 34/300\n",
            "59/59 [==============================] - 22s 379ms/step - loss: 0.2783 - val_loss: 0.3156\n",
            "Epoch 35/300\n",
            "59/59 [==============================] - 22s 378ms/step - loss: 0.2743 - val_loss: 0.2930\n",
            "Epoch 36/300\n",
            "59/59 [==============================] - 22s 378ms/step - loss: 0.2753 - val_loss: 0.2842\n",
            "Epoch 37/300\n",
            "59/59 [==============================] - 22s 378ms/step - loss: 0.2582 - val_loss: 0.2740\n",
            "Epoch 38/300\n",
            "59/59 [==============================] - 22s 378ms/step - loss: 0.2622 - val_loss: 0.2660\n",
            "Epoch 39/300\n",
            "59/59 [==============================] - 22s 378ms/step - loss: 0.2505 - val_loss: 0.2794\n",
            "Epoch 40/300\n",
            "59/59 [==============================] - 22s 379ms/step - loss: 0.2535 - val_loss: 0.2812\n",
            "Epoch 41/300\n",
            "59/59 [==============================] - 22s 378ms/step - loss: 0.2517 - val_loss: 0.2883\n",
            "Epoch 42/300\n",
            "59/59 [==============================] - 22s 378ms/step - loss: 0.2520 - val_loss: 0.2725\n",
            "Epoch 43/300\n",
            "59/59 [==============================] - 22s 378ms/step - loss: 0.2427 - val_loss: 0.3041\n",
            "Epoch 44/300\n",
            "59/59 [==============================] - 22s 378ms/step - loss: 0.2601 - val_loss: 0.2648\n",
            "Epoch 45/300\n",
            "59/59 [==============================] - 22s 378ms/step - loss: 0.2419 - val_loss: 0.2635\n",
            "Epoch 46/300\n",
            "59/59 [==============================] - 22s 379ms/step - loss: 0.2465 - val_loss: 0.2719\n",
            "Epoch 47/300\n",
            "59/59 [==============================] - 22s 378ms/step - loss: 0.2327 - val_loss: 0.2697\n",
            "Epoch 48/300\n",
            "59/59 [==============================] - 22s 379ms/step - loss: 0.2356 - val_loss: 0.2564\n",
            "Epoch 49/300\n",
            "59/59 [==============================] - 22s 379ms/step - loss: 0.2335 - val_loss: 0.2437\n",
            "Epoch 50/300\n",
            "59/59 [==============================] - 22s 379ms/step - loss: 0.2326 - val_loss: 0.2486\n",
            "Epoch 51/300\n",
            "59/59 [==============================] - 22s 379ms/step - loss: 0.2224 - val_loss: 0.2625\n",
            "Epoch 52/300\n",
            "59/59 [==============================] - 22s 378ms/step - loss: 0.2274 - val_loss: 0.2478\n",
            "Epoch 53/300\n",
            "59/59 [==============================] - 22s 378ms/step - loss: 0.2283 - val_loss: 0.2475\n",
            "Epoch 54/300\n",
            "59/59 [==============================] - 22s 378ms/step - loss: 0.2224 - val_loss: 0.2395\n",
            "Epoch 55/300\n",
            "59/59 [==============================] - 22s 378ms/step - loss: 0.2246 - val_loss: 0.2817\n",
            "Epoch 56/300\n",
            "59/59 [==============================] - 22s 378ms/step - loss: 0.2296 - val_loss: 0.2523\n",
            "Epoch 57/300\n",
            "59/59 [==============================] - 23s 392ms/step - loss: 0.2289 - val_loss: 0.2498\n",
            "Epoch 58/300\n",
            "59/59 [==============================] - 22s 378ms/step - loss: 0.2355 - val_loss: 0.2433\n",
            "Epoch 59/300\n",
            "59/59 [==============================] - 22s 377ms/step - loss: 0.2117 - val_loss: 0.2500\n",
            "Epoch 60/300\n",
            "59/59 [==============================] - 22s 378ms/step - loss: 0.2163 - val_loss: 0.2466\n",
            "Epoch 61/300\n",
            "59/59 [==============================] - 22s 378ms/step - loss: 0.2101 - val_loss: 0.2329\n",
            "Epoch 62/300\n",
            "59/59 [==============================] - 22s 378ms/step - loss: 0.2048 - val_loss: 0.2491\n",
            "Epoch 63/300\n",
            "59/59 [==============================] - 22s 378ms/step - loss: 0.2072 - val_loss: 0.2285\n",
            "Epoch 64/300\n",
            "59/59 [==============================] - 22s 378ms/step - loss: 0.2000 - val_loss: 0.2246\n",
            "Epoch 65/300\n",
            "59/59 [==============================] - 22s 377ms/step - loss: 0.1971 - val_loss: 0.2473\n",
            "Epoch 66/300\n",
            "59/59 [==============================] - 22s 378ms/step - loss: 0.2120 - val_loss: 0.2265\n",
            "Epoch 67/300\n",
            "59/59 [==============================] - 22s 377ms/step - loss: 0.2009 - val_loss: 0.2436\n",
            "Epoch 68/300\n",
            "59/59 [==============================] - 22s 377ms/step - loss: 0.2001 - val_loss: 0.2278\n",
            "Epoch 69/300\n",
            "59/59 [==============================] - 22s 377ms/step - loss: 0.1950 - val_loss: 0.2536\n",
            "Epoch 70/300\n",
            "59/59 [==============================] - 22s 377ms/step - loss: 0.1969 - val_loss: 0.2242\n",
            "Epoch 71/300\n",
            "59/59 [==============================] - 22s 378ms/step - loss: 0.1947 - val_loss: 0.2424\n",
            "Epoch 72/300\n",
            "59/59 [==============================] - 22s 377ms/step - loss: 0.1944 - val_loss: 0.2228\n",
            "Epoch 73/300\n",
            "59/59 [==============================] - 22s 378ms/step - loss: 0.1896 - val_loss: 0.2223\n",
            "Epoch 74/300\n",
            "59/59 [==============================] - 22s 378ms/step - loss: 0.1961 - val_loss: 0.2384\n",
            "Epoch 75/300\n",
            "59/59 [==============================] - 22s 377ms/step - loss: 0.1885 - val_loss: 0.2151\n",
            "Epoch 76/300\n",
            "59/59 [==============================] - 22s 377ms/step - loss: 0.1821 - val_loss: 0.2265\n",
            "Epoch 77/300\n",
            "59/59 [==============================] - 22s 377ms/step - loss: 0.1872 - val_loss: 0.2326\n",
            "Epoch 78/300\n",
            "59/59 [==============================] - 22s 377ms/step - loss: 0.1931 - val_loss: 0.2415\n",
            "Epoch 79/300\n",
            "59/59 [==============================] - 22s 377ms/step - loss: 0.2059 - val_loss: 0.2276\n",
            "Epoch 80/300\n",
            "59/59 [==============================] - 22s 377ms/step - loss: 0.1915 - val_loss: 0.2261\n",
            "Epoch 81/300\n",
            "59/59 [==============================] - 22s 377ms/step - loss: 0.1878 - val_loss: 0.2216\n",
            "Epoch 82/300\n",
            "59/59 [==============================] - 22s 377ms/step - loss: 0.1883 - val_loss: 0.2194\n",
            "Epoch 83/300\n",
            "59/59 [==============================] - 22s 378ms/step - loss: 0.1847 - val_loss: 0.2331\n",
            "Epoch 84/300\n",
            "59/59 [==============================] - 22s 377ms/step - loss: 0.1894 - val_loss: 0.2182\n",
            "Epoch 85/300\n",
            "59/59 [==============================] - 22s 378ms/step - loss: 0.1791 - val_loss: 0.2352\n",
            "\n",
            "Epoch 00085: ReduceLROnPlateau reducing learning rate to 0.000800000037997961.\n",
            "Epoch 86/300\n",
            "59/59 [==============================] - 22s 378ms/step - loss: 0.1751 - val_loss: 0.2072\n",
            "Epoch 87/300\n",
            "59/59 [==============================] - 22s 377ms/step - loss: 0.1594 - val_loss: 0.2037\n",
            "Epoch 88/300\n",
            "59/59 [==============================] - 22s 378ms/step - loss: 0.1603 - val_loss: 0.2200\n",
            "Epoch 89/300\n",
            "59/59 [==============================] - 22s 378ms/step - loss: 0.1676 - val_loss: 0.2080\n",
            "Epoch 90/300\n",
            "59/59 [==============================] - 22s 378ms/step - loss: 0.1594 - val_loss: 0.2081\n",
            "Epoch 91/300\n",
            "59/59 [==============================] - 22s 378ms/step - loss: 0.1637 - val_loss: 0.2065\n",
            "Epoch 92/300\n",
            "59/59 [==============================] - 22s 378ms/step - loss: 0.1589 - val_loss: 0.2193\n",
            "Epoch 93/300\n",
            "59/59 [==============================] - 22s 378ms/step - loss: 0.1650 - val_loss: 0.2089\n",
            "Epoch 94/300\n",
            "59/59 [==============================] - 22s 378ms/step - loss: 0.1555 - val_loss: 0.2059\n",
            "Epoch 95/300\n",
            "59/59 [==============================] - 22s 377ms/step - loss: 0.1602 - val_loss: 0.2026\n",
            "Epoch 96/300\n",
            "59/59 [==============================] - 22s 377ms/step - loss: 0.1553 - val_loss: 0.2092\n",
            "Epoch 97/300\n",
            "59/59 [==============================] - 22s 378ms/step - loss: 0.1535 - val_loss: 0.2029\n",
            "Epoch 98/300\n",
            "59/59 [==============================] - 22s 377ms/step - loss: 0.1538 - val_loss: 0.2046\n",
            "Epoch 99/300\n",
            "59/59 [==============================] - 22s 378ms/step - loss: 0.1520 - val_loss: 0.2099\n",
            "Epoch 100/300\n",
            "59/59 [==============================] - 22s 377ms/step - loss: 0.1562 - val_loss: 0.2073\n",
            "Epoch 101/300\n",
            "59/59 [==============================] - 22s 379ms/step - loss: 0.1535 - val_loss: 0.2115\n",
            "Epoch 102/300\n",
            "59/59 [==============================] - 22s 378ms/step - loss: 0.1537 - val_loss: 0.2064\n",
            "Epoch 103/300\n",
            "59/59 [==============================] - 22s 378ms/step - loss: 0.1524 - val_loss: 0.2011\n",
            "Epoch 104/300\n",
            "59/59 [==============================] - 22s 378ms/step - loss: 0.1509 - val_loss: 0.2138\n",
            "Epoch 105/300\n",
            "59/59 [==============================] - 22s 378ms/step - loss: 0.1566 - val_loss: 0.2129\n",
            "Epoch 106/300\n",
            "59/59 [==============================] - 22s 378ms/step - loss: 0.1608 - val_loss: 0.2044\n",
            "Epoch 107/300\n",
            "59/59 [==============================] - 22s 377ms/step - loss: 0.1498 - val_loss: 0.2195\n",
            "Epoch 108/300\n",
            "59/59 [==============================] - 23s 390ms/step - loss: 0.1576 - val_loss: 0.2072\n",
            "Epoch 109/300\n",
            "59/59 [==============================] - 22s 378ms/step - loss: 0.1493 - val_loss: 0.2117\n",
            "Epoch 110/300\n",
            "59/59 [==============================] - 22s 379ms/step - loss: 0.1462 - val_loss: 0.2010\n",
            "Epoch 111/300\n",
            "59/59 [==============================] - 22s 377ms/step - loss: 0.1522 - val_loss: 0.2059\n",
            "Epoch 112/300\n",
            "59/59 [==============================] - 22s 378ms/step - loss: 0.1423 - val_loss: 0.2026\n",
            "Epoch 113/300\n",
            "59/59 [==============================] - 22s 378ms/step - loss: 0.1465 - val_loss: 0.2108\n",
            "Epoch 114/300\n",
            "59/59 [==============================] - 22s 379ms/step - loss: 0.1461 - val_loss: 0.2085\n",
            "Epoch 115/300\n",
            "59/59 [==============================] - 22s 379ms/step - loss: 0.1432 - val_loss: 0.1972\n",
            "Epoch 116/300\n",
            "59/59 [==============================] - 22s 379ms/step - loss: 0.1404 - val_loss: 0.2034\n",
            "Epoch 117/300\n",
            "59/59 [==============================] - 22s 378ms/step - loss: 0.1431 - val_loss: 0.2004\n",
            "Epoch 118/300\n",
            "59/59 [==============================] - 22s 378ms/step - loss: 0.1444 - val_loss: 0.1995\n",
            "Epoch 119/300\n",
            "59/59 [==============================] - 22s 378ms/step - loss: 0.1364 - val_loss: 0.1982\n",
            "Epoch 120/300\n",
            "59/59 [==============================] - 22s 379ms/step - loss: 0.1376 - val_loss: 0.2018\n",
            "Epoch 121/300\n",
            "59/59 [==============================] - 22s 378ms/step - loss: 0.1378 - val_loss: 0.1999\n",
            "Epoch 122/300\n",
            "59/59 [==============================] - 22s 378ms/step - loss: 0.1389 - val_loss: 0.1976\n",
            "Epoch 123/300\n",
            "59/59 [==============================] - 22s 377ms/step - loss: 0.1387 - val_loss: 0.2016\n",
            "Epoch 124/300\n",
            "59/59 [==============================] - 22s 377ms/step - loss: 0.1370 - val_loss: 0.1992\n",
            "Epoch 125/300\n",
            "59/59 [==============================] - 22s 378ms/step - loss: 0.1361 - val_loss: 0.2022\n",
            "\n",
            "Epoch 00125: ReduceLROnPlateau reducing learning rate to 0.0006400000303983689.\n",
            "Epoch 126/300\n",
            "59/59 [==============================] - 22s 378ms/step - loss: 0.1303 - val_loss: 0.2006\n",
            "Epoch 127/300\n",
            "59/59 [==============================] - 22s 378ms/step - loss: 0.1266 - val_loss: 0.1935\n",
            "Epoch 128/300\n",
            "59/59 [==============================] - 22s 378ms/step - loss: 0.1213 - val_loss: 0.1960\n",
            "Epoch 129/300\n",
            "59/59 [==============================] - 22s 378ms/step - loss: 0.1225 - val_loss: 0.1972\n",
            "Epoch 130/300\n",
            "59/59 [==============================] - 22s 378ms/step - loss: 0.1241 - val_loss: 0.2016\n",
            "Epoch 131/300\n",
            "59/59 [==============================] - 22s 377ms/step - loss: 0.1217 - val_loss: 0.1979\n",
            "Epoch 132/300\n",
            "59/59 [==============================] - 22s 377ms/step - loss: 0.1202 - val_loss: 0.1948\n",
            "Epoch 133/300\n",
            "59/59 [==============================] - 22s 378ms/step - loss: 0.1225 - val_loss: 0.1963\n",
            "Epoch 134/300\n",
            "59/59 [==============================] - 22s 378ms/step - loss: 0.1193 - val_loss: 0.1965\n",
            "Epoch 135/300\n",
            "59/59 [==============================] - 22s 377ms/step - loss: 0.1212 - val_loss: 0.1956\n",
            "Epoch 136/300\n",
            "59/59 [==============================] - 22s 377ms/step - loss: 0.1187 - val_loss: 0.1999\n",
            "Epoch 137/300\n",
            "59/59 [==============================] - 22s 377ms/step - loss: 0.1206 - val_loss: 0.1955\n",
            "\n",
            "Epoch 00137: ReduceLROnPlateau reducing learning rate to 0.0005120000336319208.\n",
            "Epoch 138/300\n",
            "59/59 [==============================] - 22s 377ms/step - loss: 0.1125 - val_loss: 0.1923\n",
            "Epoch 139/300\n",
            "59/59 [==============================] - 22s 377ms/step - loss: 0.1086 - val_loss: 0.1918\n",
            "Epoch 140/300\n",
            "59/59 [==============================] - 22s 377ms/step - loss: 0.1109 - val_loss: 0.1930\n",
            "Epoch 141/300\n",
            "59/59 [==============================] - 22s 377ms/step - loss: 0.1097 - val_loss: 0.1923\n",
            "Epoch 142/300\n",
            "59/59 [==============================] - 22s 377ms/step - loss: 0.1098 - val_loss: 0.1958\n",
            "Epoch 143/300\n",
            "59/59 [==============================] - 22s 378ms/step - loss: 0.1107 - val_loss: 0.1929\n",
            "Epoch 144/300\n",
            "59/59 [==============================] - 22s 377ms/step - loss: 0.1091 - val_loss: 0.1969\n",
            "Epoch 145/300\n",
            "59/59 [==============================] - 22s 377ms/step - loss: 0.1112 - val_loss: 0.1915\n",
            "Epoch 146/300\n",
            "59/59 [==============================] - 22s 377ms/step - loss: 0.1091 - val_loss: 0.1917\n",
            "Epoch 147/300\n",
            "59/59 [==============================] - 22s 376ms/step - loss: 0.1084 - val_loss: 0.1928\n",
            "Epoch 148/300\n",
            "59/59 [==============================] - 22s 377ms/step - loss: 0.1064 - val_loss: 0.2004\n",
            "Epoch 149/300\n",
            "59/59 [==============================] - 22s 377ms/step - loss: 0.1107 - val_loss: 0.1929\n",
            "Epoch 150/300\n",
            "59/59 [==============================] - 22s 377ms/step - loss: 0.1051 - val_loss: 0.1930\n",
            "Epoch 151/300\n",
            "59/59 [==============================] - 22s 378ms/step - loss: 0.1057 - val_loss: 0.1920\n",
            "Epoch 152/300\n",
            "59/59 [==============================] - 22s 377ms/step - loss: 0.1045 - val_loss: 0.1962\n",
            "Epoch 153/300\n",
            "59/59 [==============================] - 22s 377ms/step - loss: 0.1071 - val_loss: 0.1950\n",
            "Epoch 154/300\n",
            "59/59 [==============================] - 22s 378ms/step - loss: 0.1056 - val_loss: 0.1920\n",
            "Epoch 155/300\n",
            "59/59 [==============================] - 22s 378ms/step - loss: 0.1047 - val_loss: 0.1918\n",
            "\n",
            "Epoch 00155: ReduceLROnPlateau reducing learning rate to 0.00040960004553198815.\n",
            "Epoch 156/300\n",
            "59/59 [==============================] - 22s 378ms/step - loss: 0.0991 - val_loss: 0.1900\n",
            "Epoch 157/300\n",
            "59/59 [==============================] - 22s 379ms/step - loss: 0.0976 - val_loss: 0.1903\n",
            "Epoch 158/300\n",
            "59/59 [==============================] - 22s 379ms/step - loss: 0.0956 - val_loss: 0.1924\n",
            "Epoch 159/300\n",
            "59/59 [==============================] - 22s 380ms/step - loss: 0.0976 - val_loss: 0.1907\n",
            "Epoch 160/300\n",
            "59/59 [==============================] - 22s 379ms/step - loss: 0.0970 - val_loss: 0.1924\n",
            "Epoch 161/300\n",
            "59/59 [==============================] - 22s 379ms/step - loss: 0.0952 - val_loss: 0.1924\n",
            "Epoch 162/300\n",
            "59/59 [==============================] - 22s 378ms/step - loss: 0.0971 - val_loss: 0.1936\n",
            "Epoch 163/300\n",
            "59/59 [==============================] - 22s 377ms/step - loss: 0.0959 - val_loss: 0.1928\n",
            "Epoch 164/300\n",
            "59/59 [==============================] - 22s 378ms/step - loss: 0.0935 - val_loss: 0.1928\n",
            "Epoch 165/300\n",
            "59/59 [==============================] - 22s 378ms/step - loss: 0.0961 - val_loss: 0.1942\n",
            "Epoch 166/300\n",
            "59/59 [==============================] - 22s 378ms/step - loss: 0.0948 - val_loss: 0.1904\n",
            "\n",
            "Epoch 00166: ReduceLROnPlateau reducing learning rate to 0.00032768002711236477.\n",
            "Epoch 167/300\n",
            "59/59 [==============================] - 22s 378ms/step - loss: 0.0891 - val_loss: 0.1901\n",
            "Epoch 168/300\n",
            "59/59 [==============================] - 22s 378ms/step - loss: 0.0869 - val_loss: 0.1901\n",
            "Epoch 169/300\n",
            "59/59 [==============================] - 22s 378ms/step - loss: 0.0874 - val_loss: 0.1906\n",
            "Epoch 170/300\n",
            "59/59 [==============================] - 22s 379ms/step - loss: 0.0882 - val_loss: 0.1903\n",
            "Epoch 171/300\n",
            "59/59 [==============================] - 22s 379ms/step - loss: 0.0872 - val_loss: 0.1913\n",
            "Epoch 172/300\n",
            "59/59 [==============================] - 22s 378ms/step - loss: 0.0869 - val_loss: 0.1905\n",
            "Epoch 173/300\n",
            "59/59 [==============================] - 23s 391ms/step - loss: 0.0866 - val_loss: 0.1909\n",
            "Epoch 174/300\n",
            "59/59 [==============================] - 22s 378ms/step - loss: 0.0877 - val_loss: 0.1911\n",
            "Epoch 175/300\n",
            "59/59 [==============================] - 22s 378ms/step - loss: 0.0861 - val_loss: 0.1906\n",
            "Epoch 176/300\n",
            "59/59 [==============================] - 22s 378ms/step - loss: 0.0873 - val_loss: 0.1940\n",
            "\n",
            "Epoch 00176: ReduceLROnPlateau reducing learning rate to 0.0002621440216898918.\n",
            "Epoch 177/300\n",
            "59/59 [==============================] - 22s 378ms/step - loss: 0.0852 - val_loss: 0.1895\n",
            "Epoch 178/300\n",
            "59/59 [==============================] - 22s 378ms/step - loss: 0.0812 - val_loss: 0.1899\n",
            "Epoch 179/300\n",
            "59/59 [==============================] - 22s 378ms/step - loss: 0.0812 - val_loss: 0.1899\n",
            "Epoch 180/300\n",
            "59/59 [==============================] - 22s 378ms/step - loss: 0.0805 - val_loss: 0.1901\n",
            "Epoch 181/300\n",
            "59/59 [==============================] - 22s 378ms/step - loss: 0.0799 - val_loss: 0.1896\n",
            "Epoch 182/300\n",
            "59/59 [==============================] - 22s 378ms/step - loss: 0.0803 - val_loss: 0.1909\n",
            "Epoch 183/300\n",
            "25/59 [===========>..................] - ETA: 11s - loss: 0.0812"
          ]
        }
      ]
    },
    {
      "cell_type": "code",
      "metadata": {
        "colab": {
          "base_uri": "https://localhost:8080/"
        },
        "id": "m73VwznGBh5R",
        "outputId": "9f0a8850-f388-49b6-9ce5-263a25df5b63"
      },
      "source": [
        "print(\"mae:\", oof.eval(\"abs(pressure - pred)\").mean())\n",
        "print(\"mae inspiratory:\", oof.query(\"u_out == 0\").eval(\"abs(pressure - pred)\").mean())\n",
        "print(\"mae expiratory :\", oof.query(\"u_out == 1\").eval(\"abs(pressure - pred)\").mean())"
      ],
      "execution_count": null,
      "outputs": [
        {
          "output_type": "stream",
          "name": "stdout",
          "text": [
            "mae: 0.1700748569735916\n",
            "mae inspiratory: 0.18324426831174476\n",
            "mae expiratory : 0.16202780215683016\n"
          ]
        }
      ]
    },
    {
      "cell_type": "markdown",
      "metadata": {
        "id": "SUZhpUwnmkg0"
      },
      "source": [
        "lstm_v6\n",
        "- mae: 0.1700748569735916\n",
        "- mae inspiratory: 0.18324426831174476\n",
        "- mae expiratory : 0.16202780215683016"
      ]
    },
    {
      "cell_type": "markdown",
      "metadata": {
        "id": "dZ5xAxLlAjOu"
      },
      "source": [
        "lstm_v5\n",
        "- mae: 0.19870362716674497\n",
        "- mae inspiratory: 0.24693164942887788\n",
        "- mae expiratory : 0.169200847028661"
      ]
    },
    {
      "cell_type": "markdown",
      "metadata": {
        "id": "mG7AXnOa3VXC"
      },
      "source": [
        "lstm_v4\n",
        "- mae: 0.19910630745529212\n",
        "- mae inspiratory: 0.24139623415898287\n",
        "- mae expiratory : 0.1732360695506279"
      ]
    },
    {
      "cell_type": "markdown",
      "metadata": {
        "id": "5hZm2Ebs5_0x"
      },
      "source": [
        "lstm_v3\n",
        "- mae: 0.1894350191416654\n",
        "- mae inspiratory: 0.22527142074094628\n",
        "- mae expiratory : 0.16751262988059495"
      ]
    },
    {
      "cell_type": "markdown",
      "metadata": {
        "id": "URMkZHrri_1y"
      },
      "source": [
        "lstm_v2\n",
        "- mae: 0.20938487189579605\n",
        "- mae inspiratory: 0.2124941942660988\n",
        "- mae expiratory : 0.19958701148249222"
      ]
    },
    {
      "cell_type": "markdown",
      "metadata": {
        "id": "EbQNEX6sk4lN"
      },
      "source": [
        "lstm_v1\n",
        "- mae: 0.18086928169783648\n",
        "- mae inpiratory: 0.2031012730817264\n",
        "- mae expiratory: 0.16726918940573152"
      ]
    },
    {
      "cell_type": "markdown",
      "metadata": {
        "id": "Zo8ooYNAQsCy"
      },
      "source": [
        "***\n",
        "## sub generation"
      ]
    },
    {
      "cell_type": "code",
      "metadata": {
        "id": "eSGjBh2qQraV"
      },
      "source": [
        "all_preds = list()\n",
        "test_tf = tf.convert_to_tensor(test, dtype=tf.float32)\n",
        "\n",
        "for model in models_by_fold:\n",
        "    preds = model.call(test_tf, training=False).numpy().squeeze().ravel()\n",
        "    all_preds.append(preds)\n",
        "\n",
        "test_raw[\"pressure\"] = np.mean(all_preds, axis=0)"
      ],
      "execution_count": null,
      "outputs": []
    },
    {
      "cell_type": "code",
      "metadata": {
        "id": "VpBQRKIXi7Qo"
      },
      "source": [
        "# saves final sub\n",
        "sub = pd.merge(submission[\"id\"], test_raw[[\"id\",\"pressure\"]], how=\"left\", on=\"id\")\n",
        "sub[\"pressure\"] = sub[\"pressure\"].fillna(0)\n",
        "sub.to_csv(f\"{subs_path}/sub_lstm.csv\", index=False)"
      ],
      "execution_count": null,
      "outputs": []
    },
    {
      "cell_type": "code",
      "metadata": {
        "id": "81gmgjMIfjAT"
      },
      "source": [
        "# saves oof preds\n",
        "oof.to_csv(f\"{results_path}/oof_lstm.csv\", index=False)"
      ],
      "execution_count": null,
      "outputs": []
    },
    {
      "cell_type": "code",
      "metadata": {
        "id": "Uo6W9e1QxlOV"
      },
      "source": [
        "# saves each model preds (pseudo labels)\n",
        "for fold,preds in enumerate(all_preds):\n",
        "    _sub = submission.copy()\n",
        "    _test = test_raw[[\"id\",\"pressure\"]].copy()\n",
        "    _test[\"pressure\"] = preds\n",
        "    _sub = pd.merge(_sub[\"id\"], _test[[\"id\",\"pressure\"]], how=\"left\", on=\"id\")\n",
        "    _sub[\"pressure\"] = _sub[\"pressure\"].fillna(0)\n",
        "    _sub.to_csv(f\"{results_path}/plabels_lstm_{fold}.csv\", index=False)"
      ],
      "execution_count": null,
      "outputs": []
    },
    {
      "cell_type": "markdown",
      "metadata": {
        "id": "d-EK2rCThxOr"
      },
      "source": [
        "***"
      ]
    }
  ]
}