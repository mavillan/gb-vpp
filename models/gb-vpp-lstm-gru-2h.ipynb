{
  "nbformat": 4,
  "nbformat_minor": 0,
  "metadata": {
    "accelerator": "TPU",
    "colab": {
      "name": "gb-vpp-lstm-gru-2h.ipynb",
      "provenance": [],
      "collapsed_sections": [],
      "machine_shape": "hm",
      "include_colab_link": true
    },
    "kernelspec": {
      "display_name": "Python 3",
      "name": "python3"
    },
    "language_info": {
      "name": "python"
    }
  },
  "cells": [
    {
      "cell_type": "markdown",
      "metadata": {
        "id": "view-in-github",
        "colab_type": "text"
      },
      "source": [
        "<a href=\"https://colab.research.google.com/github/mavillan/gb-vpp/blob/main/models/gb-vpp-lstm-gru-2h.ipynb\" target=\"_parent\"><img src=\"https://colab.research.google.com/assets/colab-badge.svg\" alt=\"Open In Colab\"/></a>"
      ]
    },
    {
      "cell_type": "code",
      "metadata": {
        "colab": {
          "base_uri": "https://localhost:8080/"
        },
        "id": "d_q1A_uRF_Jc",
        "outputId": "459f858c-72b3-43fb-f941-147ec523f04d"
      },
      "source": [
        "from google.colab import drive\n",
        "from google.colab import files\n",
        "drive.mount('/content/drive', force_remount=True)\n",
        "\n",
        "!pip install --upgrade kaggle > /dev/null 2>&1\n",
        "!mkdir -p ~/.kaggle/ && cp /content/drive/MyDrive/kaggle/kaggle.json ~/.kaggle/ && chmod 600 ~/.kaggle/kaggle.json"
      ],
      "execution_count": null,
      "outputs": [
        {
          "output_type": "stream",
          "name": "stdout",
          "text": [
            "Mounted at /content/drive\n"
          ]
        }
      ]
    },
    {
      "cell_type": "code",
      "metadata": {
        "colab": {
          "base_uri": "https://localhost:8080/"
        },
        "id": "LsJC-_8FViFK",
        "outputId": "72ee8fea-fd53-4ea6-d21f-739cebc0b016"
      },
      "source": [
        "!pip uninstall -y tensorflow \n",
        "!pip install tensorflow==2.4.3 > /dev/null 2>&1\n",
        "!pip install tensorflow-addons > /dev/null 2>&1\n",
        "!pip install --upgrade pandas > /dev/null 2>&1\n",
        "\n",
        "import tensorflow as tf\n",
        "print(\"Tensorflow version \" + tf.__version__)\n",
        "\n",
        "try:\n",
        "  tpu = tf.distribute.cluster_resolver.TPUClusterResolver()  # TPU detection\n",
        "  tf.config.experimental_connect_to_cluster(tpu)\n",
        "  tf.tpu.experimental.initialize_tpu_system(tpu)\n",
        "  tpu_strategy = tf.distribute.experimental.TPUStrategy(tpu)\n",
        "  print('Running on TPU ', tpu.cluster_spec().as_dict()['worker'])\n",
        "except ValueError:\n",
        "  raise BaseException('ERROR: Not connected to a TPU runtime; please see the previous cell in this notebook for instructions!')\n",
        "\n",
        "import os\n",
        "from tensorflow.python.profiler import profiler_client\n",
        "#tpu_profile_service_address = os.environ['COLAB_TPU_ADDR'].replace('8470', '8466')\n",
        "#print(profiler_client.monitor(tpu_profile_service_address, 100, 2))"
      ],
      "execution_count": null,
      "outputs": [
        {
          "output_type": "stream",
          "name": "stdout",
          "text": [
            "Found existing installation: tensorflow 2.4.3\n",
            "Uninstalling tensorflow-2.4.3:\n",
            "  Successfully uninstalled tensorflow-2.4.3\n",
            "Tensorflow version 2.4.3\n",
            "INFO:tensorflow:Initializing the TPU system: grpc://10.23.211.154:8470\n"
          ]
        },
        {
          "output_type": "stream",
          "name": "stderr",
          "text": [
            "INFO:tensorflow:Initializing the TPU system: grpc://10.23.211.154:8470\n"
          ]
        },
        {
          "output_type": "stream",
          "name": "stdout",
          "text": [
            "INFO:tensorflow:Clearing out eager caches\n"
          ]
        },
        {
          "output_type": "stream",
          "name": "stderr",
          "text": [
            "INFO:tensorflow:Clearing out eager caches\n"
          ]
        },
        {
          "output_type": "stream",
          "name": "stdout",
          "text": [
            "INFO:tensorflow:Finished initializing TPU system.\n"
          ]
        },
        {
          "output_type": "stream",
          "name": "stderr",
          "text": [
            "INFO:tensorflow:Finished initializing TPU system.\n",
            "WARNING:absl:`tf.distribute.experimental.TPUStrategy` is deprecated, please use  the non experimental symbol `tf.distribute.TPUStrategy` instead.\n"
          ]
        },
        {
          "output_type": "stream",
          "name": "stdout",
          "text": [
            "INFO:tensorflow:Found TPU system:\n"
          ]
        },
        {
          "output_type": "stream",
          "name": "stderr",
          "text": [
            "INFO:tensorflow:Found TPU system:\n"
          ]
        },
        {
          "output_type": "stream",
          "name": "stdout",
          "text": [
            "INFO:tensorflow:*** Num TPU Cores: 8\n"
          ]
        },
        {
          "output_type": "stream",
          "name": "stderr",
          "text": [
            "INFO:tensorflow:*** Num TPU Cores: 8\n"
          ]
        },
        {
          "output_type": "stream",
          "name": "stdout",
          "text": [
            "INFO:tensorflow:*** Num TPU Workers: 1\n"
          ]
        },
        {
          "output_type": "stream",
          "name": "stderr",
          "text": [
            "INFO:tensorflow:*** Num TPU Workers: 1\n"
          ]
        },
        {
          "output_type": "stream",
          "name": "stdout",
          "text": [
            "INFO:tensorflow:*** Num TPU Cores Per Worker: 8\n"
          ]
        },
        {
          "output_type": "stream",
          "name": "stderr",
          "text": [
            "INFO:tensorflow:*** Num TPU Cores Per Worker: 8\n"
          ]
        },
        {
          "output_type": "stream",
          "name": "stdout",
          "text": [
            "INFO:tensorflow:*** Available Device: _DeviceAttributes(/job:localhost/replica:0/task:0/device:CPU:0, CPU, 0, 0)\n"
          ]
        },
        {
          "output_type": "stream",
          "name": "stderr",
          "text": [
            "INFO:tensorflow:*** Available Device: _DeviceAttributes(/job:localhost/replica:0/task:0/device:CPU:0, CPU, 0, 0)\n"
          ]
        },
        {
          "output_type": "stream",
          "name": "stdout",
          "text": [
            "INFO:tensorflow:*** Available Device: _DeviceAttributes(/job:worker/replica:0/task:0/device:CPU:0, CPU, 0, 0)\n"
          ]
        },
        {
          "output_type": "stream",
          "name": "stderr",
          "text": [
            "INFO:tensorflow:*** Available Device: _DeviceAttributes(/job:worker/replica:0/task:0/device:CPU:0, CPU, 0, 0)\n"
          ]
        },
        {
          "output_type": "stream",
          "name": "stdout",
          "text": [
            "INFO:tensorflow:*** Available Device: _DeviceAttributes(/job:worker/replica:0/task:0/device:TPU:0, TPU, 0, 0)\n"
          ]
        },
        {
          "output_type": "stream",
          "name": "stderr",
          "text": [
            "INFO:tensorflow:*** Available Device: _DeviceAttributes(/job:worker/replica:0/task:0/device:TPU:0, TPU, 0, 0)\n"
          ]
        },
        {
          "output_type": "stream",
          "name": "stdout",
          "text": [
            "INFO:tensorflow:*** Available Device: _DeviceAttributes(/job:worker/replica:0/task:0/device:TPU:1, TPU, 0, 0)\n"
          ]
        },
        {
          "output_type": "stream",
          "name": "stderr",
          "text": [
            "INFO:tensorflow:*** Available Device: _DeviceAttributes(/job:worker/replica:0/task:0/device:TPU:1, TPU, 0, 0)\n"
          ]
        },
        {
          "output_type": "stream",
          "name": "stdout",
          "text": [
            "INFO:tensorflow:*** Available Device: _DeviceAttributes(/job:worker/replica:0/task:0/device:TPU:2, TPU, 0, 0)\n"
          ]
        },
        {
          "output_type": "stream",
          "name": "stderr",
          "text": [
            "INFO:tensorflow:*** Available Device: _DeviceAttributes(/job:worker/replica:0/task:0/device:TPU:2, TPU, 0, 0)\n"
          ]
        },
        {
          "output_type": "stream",
          "name": "stdout",
          "text": [
            "INFO:tensorflow:*** Available Device: _DeviceAttributes(/job:worker/replica:0/task:0/device:TPU:3, TPU, 0, 0)\n"
          ]
        },
        {
          "output_type": "stream",
          "name": "stderr",
          "text": [
            "INFO:tensorflow:*** Available Device: _DeviceAttributes(/job:worker/replica:0/task:0/device:TPU:3, TPU, 0, 0)\n"
          ]
        },
        {
          "output_type": "stream",
          "name": "stdout",
          "text": [
            "INFO:tensorflow:*** Available Device: _DeviceAttributes(/job:worker/replica:0/task:0/device:TPU:4, TPU, 0, 0)\n"
          ]
        },
        {
          "output_type": "stream",
          "name": "stderr",
          "text": [
            "INFO:tensorflow:*** Available Device: _DeviceAttributes(/job:worker/replica:0/task:0/device:TPU:4, TPU, 0, 0)\n"
          ]
        },
        {
          "output_type": "stream",
          "name": "stdout",
          "text": [
            "INFO:tensorflow:*** Available Device: _DeviceAttributes(/job:worker/replica:0/task:0/device:TPU:5, TPU, 0, 0)\n"
          ]
        },
        {
          "output_type": "stream",
          "name": "stderr",
          "text": [
            "INFO:tensorflow:*** Available Device: _DeviceAttributes(/job:worker/replica:0/task:0/device:TPU:5, TPU, 0, 0)\n"
          ]
        },
        {
          "output_type": "stream",
          "name": "stdout",
          "text": [
            "INFO:tensorflow:*** Available Device: _DeviceAttributes(/job:worker/replica:0/task:0/device:TPU:6, TPU, 0, 0)\n"
          ]
        },
        {
          "output_type": "stream",
          "name": "stderr",
          "text": [
            "INFO:tensorflow:*** Available Device: _DeviceAttributes(/job:worker/replica:0/task:0/device:TPU:6, TPU, 0, 0)\n"
          ]
        },
        {
          "output_type": "stream",
          "name": "stdout",
          "text": [
            "INFO:tensorflow:*** Available Device: _DeviceAttributes(/job:worker/replica:0/task:0/device:TPU:7, TPU, 0, 0)\n"
          ]
        },
        {
          "output_type": "stream",
          "name": "stderr",
          "text": [
            "INFO:tensorflow:*** Available Device: _DeviceAttributes(/job:worker/replica:0/task:0/device:TPU:7, TPU, 0, 0)\n"
          ]
        },
        {
          "output_type": "stream",
          "name": "stdout",
          "text": [
            "INFO:tensorflow:*** Available Device: _DeviceAttributes(/job:worker/replica:0/task:0/device:TPU_SYSTEM:0, TPU_SYSTEM, 0, 0)\n"
          ]
        },
        {
          "output_type": "stream",
          "name": "stderr",
          "text": [
            "INFO:tensorflow:*** Available Device: _DeviceAttributes(/job:worker/replica:0/task:0/device:TPU_SYSTEM:0, TPU_SYSTEM, 0, 0)\n"
          ]
        },
        {
          "output_type": "stream",
          "name": "stdout",
          "text": [
            "INFO:tensorflow:*** Available Device: _DeviceAttributes(/job:worker/replica:0/task:0/device:XLA_CPU:0, XLA_CPU, 0, 0)\n"
          ]
        },
        {
          "output_type": "stream",
          "name": "stderr",
          "text": [
            "INFO:tensorflow:*** Available Device: _DeviceAttributes(/job:worker/replica:0/task:0/device:XLA_CPU:0, XLA_CPU, 0, 0)\n"
          ]
        },
        {
          "output_type": "stream",
          "name": "stdout",
          "text": [
            "Running on TPU  ['10.23.211.154:8470']\n"
          ]
        }
      ]
    },
    {
      "cell_type": "code",
      "metadata": {
        "colab": {
          "base_uri": "https://localhost:8080/"
        },
        "id": "eFa9wQ2IGrRR",
        "outputId": "5d7ad972-0cf4-4e25-bc07-3630fc8b40b7"
      },
      "source": [
        "!mkdir -p input/\n",
        "!kaggle competitions download -c ventilator-pressure-prediction -p input/ --force\n",
        "\n",
        "!unzip -o input/sample_submission.csv.zip -d input/\n",
        "!unzip -o input/train.csv.zip -d input/\n",
        "!unzip -o input/test.csv.zip -d input/"
      ],
      "execution_count": null,
      "outputs": [
        {
          "output_type": "stream",
          "name": "stdout",
          "text": [
            "Warning: Looks like you're using an outdated API Version, please consider updating (server 1.5.12 / client 1.5.4)\n",
            "Downloading train.csv.zip to input\n",
            " 83% 116M/139M [00:01<00:00, 95.0MB/s]\n",
            "100% 139M/139M [00:01<00:00, 115MB/s] \n",
            "Downloading test.csv.zip to input\n",
            " 99% 75.0M/75.4M [00:00<00:00, 71.2MB/s]\n",
            "100% 75.4M/75.4M [00:00<00:00, 103MB/s] \n",
            "Downloading sample_submission.csv.zip to input\n",
            "  0% 0.00/8.50M [00:00<?, ?B/s]\n",
            "100% 8.50M/8.50M [00:00<00:00, 78.0MB/s]\n",
            "Archive:  input/sample_submission.csv.zip\n",
            "  inflating: input/sample_submission.csv  \n",
            "Archive:  input/train.csv.zip\n",
            "  inflating: input/train.csv         \n",
            "Archive:  input/test.csv.zip\n",
            "  inflating: input/test.csv          \n"
          ]
        }
      ]
    },
    {
      "cell_type": "code",
      "metadata": {
        "id": "-hEWJqeFGonH"
      },
      "source": [
        "input_path = \"input\"\n",
        "subs_path = \"/content/drive/MyDrive/kaggle/gb-vpp/subs\"\n",
        "results_path = \"/content/drive/MyDrive/kaggle/gb-vpp/results\"\n",
        "artifacts_path = \"/content/drive/MyDrive/kaggle/gb-vpp/artifacts\""
      ],
      "execution_count": null,
      "outputs": []
    },
    {
      "cell_type": "code",
      "metadata": {
        "colab": {
          "base_uri": "https://localhost:8080/"
        },
        "id": "TmYA-MfZW6s5",
        "outputId": "ec4cd770-d733-481f-be92-5a8bf01f62df"
      },
      "source": [
        "!kaggle datasets download --unzip --force -d mavillan/gb-vpp-folds-split"
      ],
      "execution_count": null,
      "outputs": [
        {
          "output_type": "stream",
          "name": "stdout",
          "text": [
            "Downloading gb-vpp-folds-split.zip to /content\n",
            "\r  0% 0.00/11.5M [00:00<?, ?B/s]\r 78% 9.00M/11.5M [00:00<00:00, 48.5MB/s]\n",
            "\r100% 11.5M/11.5M [00:00<00:00, 56.5MB/s]\n"
          ]
        }
      ]
    },
    {
      "cell_type": "code",
      "metadata": {
        "colab": {
          "base_uri": "https://localhost:8080/"
        },
        "id": "EMEW2ZqZN5c8",
        "outputId": "fa307ed5-ab4a-4e1e-84c8-f7025c8b2558"
      },
      "source": [
        "!free -h"
      ],
      "execution_count": null,
      "outputs": [
        {
          "output_type": "stream",
          "name": "stdout",
          "text": [
            "              total        used        free      shared  buff/cache   available\n",
            "Mem:            35G        1.2G         23G        1.2M         10G         33G\n",
            "Swap:            0B          0B          0B\n"
          ]
        }
      ]
    },
    {
      "cell_type": "markdown",
      "metadata": {
        "id": "nD2JeSsUJjyJ"
      },
      "source": [
        "***"
      ]
    },
    {
      "cell_type": "code",
      "metadata": {
        "id": "qdrij3cGJi79"
      },
      "source": [
        "from glob import glob\n",
        "import gc\n",
        "import numpy as np\n",
        "import pandas as pd\n",
        "import matplotlib.pyplot as plt\n",
        "import pickle\n",
        "from tqdm import tqdm\n",
        "\n",
        "import tensorflow as tf\n",
        "import tensorflow_addons as tfa\n",
        "from tensorflow import keras\n",
        "from tensorflow.keras import layers\n",
        "from tensorflow.keras.callbacks import EarlyStopping\n",
        "from tensorflow.keras.callbacks import LearningRateScheduler, ReduceLROnPlateau\n",
        "from tensorflow.keras.optimizers.schedules import ExponentialDecay\n",
        "from tensorflow.keras.callbacks import Callback\n",
        "\n",
        "from sklearn.metrics import mean_absolute_error as mae\n",
        "from sklearn.preprocessing import RobustScaler, normalize\n",
        "from sklearn.model_selection import train_test_split, GroupKFold, KFold\n",
        "from sklearn.preprocessing import LabelEncoder\n",
        "\n",
        "from IPython.display import display"
      ],
      "execution_count": null,
      "outputs": []
    },
    {
      "cell_type": "code",
      "metadata": {
        "id": "j0sVE7QjveV0"
      },
      "source": [
        "def reduce_mem_usage(df, verbose=False):\n",
        "    \"\"\"\n",
        "    Utility function to reduce the memory usage of pandas dataframes\n",
        "    \n",
        "    Parameters\n",
        "    ----------\n",
        "    df: pandas.Dataframe\n",
        "    verbose: Boolean\n",
        "    \"\"\"\n",
        "    numerics = ['int16', 'int32', 'int64', 'float16', 'float32', 'float64']\n",
        "    start_mem = df.memory_usage().sum() / 1024**2    \n",
        "    for col in df.columns:\n",
        "        col_type = df[col].dtypes\n",
        "        if col_type in numerics:\n",
        "            c_min = df[col].min()\n",
        "            c_max = df[col].max()\n",
        "            if str(col_type)[:3] == 'int':\n",
        "                if c_min > np.iinfo(np.int8).min and c_max < np.iinfo(np.int8).max:\n",
        "                    df[col] = df[col].astype(np.int8)\n",
        "                elif c_min > np.iinfo(np.int16).min and c_max < np.iinfo(np.int16).max:\n",
        "                    df[col] = df[col].astype(np.int16)\n",
        "                elif c_min > np.iinfo(np.int32).min and c_max < np.iinfo(np.int32).max:\n",
        "                    df[col] = df[col].astype(np.int32)\n",
        "                elif c_min > np.iinfo(np.int64).min and c_max < np.iinfo(np.int64).max:\n",
        "                    df[col] = df[col].astype(np.int64)  \n",
        "            else:\n",
        "                if c_min > np.finfo(np.float32).min and c_max < np.finfo(np.float32).max:\n",
        "                    df[col] = df[col].astype(np.float32)\n",
        "                else:\n",
        "                    df[col] = df[col].astype(np.float64)    \n",
        "    end_mem = df.memory_usage().sum() / 1024**2\n",
        "    if verbose: \n",
        "        print('Mem. usage decreased to {:5.2f} Mb ({:.1f}% reduction)'.format(end_mem, 100 * (start_mem - end_mem) / start_mem))\n",
        "    return df"
      ],
      "execution_count": null,
      "outputs": []
    },
    {
      "cell_type": "markdown",
      "metadata": {
        "id": "HhdojM-wJ9HM"
      },
      "source": [
        "***\n",
        "## data preparation"
      ]
    },
    {
      "cell_type": "code",
      "metadata": {
        "id": "RuScHGBrhkWT"
      },
      "source": [
        "class config:\n",
        "    # data params\n",
        "    SEQ_LEN = 80\n",
        "\n",
        "    # train params\n",
        "    EPOCHS = 300\n",
        "    BATCH_SIZE = 512\n",
        "    # for ReduceLROnPlateu\n",
        "    SCHEDULER_PATIENCE = 10\n",
        "    SCHEDULER_FACTOR = 0.8\n",
        "    STOPPING_PATIENCE = 35\n",
        "    # for cyclical schedulers\n",
        "    INIT_LR = 1e-4\n",
        "    MAX_LR = 1e-3\n",
        "    \n",
        "    # others\n",
        "    MODEL_ID = \"lstm-gru-2h\"\n",
        "    DEBUG = False\n",
        "    \n",
        "if config.DEBUG:\n",
        "    config.EPOCHS = 2"
      ],
      "execution_count": null,
      "outputs": []
    },
    {
      "cell_type": "code",
      "metadata": {
        "id": "cslJVsgiXKzW"
      },
      "source": [
        "with open(\"./split_10folds_seed23.pkl\", \"rb\") as file:\n",
        "    split = pickle.load(file)"
      ],
      "execution_count": null,
      "outputs": []
    },
    {
      "cell_type": "code",
      "metadata": {
        "id": "vc0m-MxQJ02u"
      },
      "source": [
        "train_raw = pd.read_csv(f'{input_path}/train.csv')\n",
        "test_raw = pd.read_csv(f'{input_path}/test.csv')\n",
        "submission = pd.read_csv(f'{input_path}/sample_submission.csv')"
      ],
      "execution_count": null,
      "outputs": []
    },
    {
      "cell_type": "code",
      "metadata": {
        "id": "hLdqQ0napDqK"
      },
      "source": [
        "PRESSURE_VALUES = np.sort(train_raw.pressure.unique())\n",
        "\n",
        "PRESSURE_MIN = train_raw.pressure.min()\n",
        "PRESSURE_MAX = train_raw.pressure.max()\n",
        "PRESSURE_STEP = PRESSURE_VALUES[1]-PRESSURE_VALUES[0]\n",
        "\n",
        "def pressure_to_idx(array):\n",
        "    return ((array - PRESSURE_MIN) / PRESSURE_STEP).astype(int)\n",
        "\n",
        "def idx_to_pressure(array):\n",
        "    return (array * PRESSURE_STEP) + PRESSURE_MIN"
      ],
      "execution_count": null,
      "outputs": []
    },
    {
      "cell_type": "code",
      "metadata": {
        "id": "cLMXEGnoPTCL"
      },
      "source": [
        "mapping = {j:i for i,j in enumerate(train_raw.breath_id.unique())}\n",
        "train_raw[\"breath_id\"] = train_raw.breath_id.map(mapping)\n",
        "\n",
        "if config.SEQ_LEN < 80:\n",
        "\n",
        "    train_raw = (\n",
        "        train_raw\n",
        "        .sort_values([\"breath_id\",\"time_step\"])\n",
        "        .groupby(\"breath_id\")\n",
        "        .head(config.SEQ_LEN)\n",
        "        .reset_index(drop=True)\n",
        "    )\n",
        "    test_raw = (\n",
        "        test_raw\n",
        "        .sort_values([\"breath_id\",\"time_step\"])\n",
        "        .groupby(\"breath_id\")\n",
        "        .head(config.SEQ_LEN)\n",
        "        .reset_index(drop=True)\n",
        "    )"
      ],
      "execution_count": null,
      "outputs": []
    },
    {
      "cell_type": "code",
      "metadata": {
        "colab": {
          "base_uri": "https://localhost:8080/"
        },
        "id": "CoLpe4gxZuYO",
        "outputId": "220d636d-6255-40ea-97ba-32fe5ad2b3eb"
      },
      "source": [
        "def compute_feats(df):\n",
        "    df['cross1']= df['u_in'] * df['u_out']\n",
        "    df['cross2']= df['u_in'] * (1-df['u_out'])\n",
        "    \n",
        "    df['area'] = df['time_step'] * df['u_in']\n",
        "    df['area'] = df.groupby('breath_id')['area'].cumsum()\n",
        "    df['u_in_cumsum'] = (df['u_in']).groupby(df['breath_id']).cumsum()\n",
        "    df['u_in_cummean'] = df['u_in_cumsum'] / (df.groupby(\"breath_id\")[\"id\"].cumcount()+1)\n",
        "\n",
        "    df['time_since_expiratory']= df['time_step']*df['u_out']\n",
        "    df[\"time_diff\"] = df.groupby(\"breath_id\")[\"time_step\"].diff()\n",
        "\n",
        "    df['vol_diff'] = (df['time_diff']*df['u_in']).fillna(0)\n",
        "    df['vol_diff_cumsum'] = df.groupby('breath_id')['vol_diff'].cumsum()\n",
        "    df[\"time_diff\"] = df[\"time_diff\"].fillna(method=\"bfill\")\n",
        "    print(\"Step-1...Completed\")\n",
        "    \n",
        "    df['u_in_lag1'] = df.groupby('breath_id')['u_in'].shift(1)\n",
        "    df['u_in_lag2'] = df.groupby('breath_id')['u_in'].shift(2)\n",
        "    df['u_in_lag3'] = df.groupby('breath_id')['u_in'].shift(3)\n",
        "    df['u_in_lag4'] = df.groupby('breath_id')['u_in'].shift(4)\n",
        "    df['u_in_lag5'] = df.groupby('breath_id')['u_in'].shift(5)\n",
        "\n",
        "    df['u_out_lag1'] = df.groupby('breath_id')['u_out'].shift(1)\n",
        "    df['u_out_lag2'] = df.groupby('breath_id')['u_out'].shift(2)\n",
        "    df['u_out_lag3'] = df.groupby('breath_id')['u_out'].shift(3)\n",
        "    df['u_out_lag4'] = df.groupby('breath_id')['u_out'].shift(4)\n",
        "    df['u_out_lag5'] = df.groupby('breath_id')['u_out'].shift(5)\n",
        "\n",
        "    df['u_in_lag_back1'] = df.groupby('breath_id')['u_in'].shift(-1)\n",
        "    df['u_in_lag_back2'] = df.groupby('breath_id')['u_in'].shift(-2)\n",
        "    df['u_in_lag_back3'] = df.groupby('breath_id')['u_in'].shift(-3)\n",
        "    df['u_in_lag_back4'] = df.groupby('breath_id')['u_in'].shift(-4)\n",
        "    df['u_in_lag_back5'] = df.groupby('breath_id')['u_in'].shift(-5)\n",
        "\n",
        "    df['u_out_lag_back1'] = df.groupby('breath_id')['u_out'].shift(-1)\n",
        "    df['u_out_lag_back2'] = df.groupby('breath_id')['u_out'].shift(-2)\n",
        "    df['u_out_lag_back3'] = df.groupby('breath_id')['u_out'].shift(-3)\n",
        "    df['u_out_lag_back4'] = df.groupby('breath_id')['u_out'].shift(-4)\n",
        "    df['u_out_lag_back5'] = df.groupby('breath_id')['u_out'].shift(-5)\n",
        "\n",
        "    df = df.fillna(0)\n",
        "    print(\"Step-2...Completed\")\n",
        "    \n",
        "    df['breath_id__u_in__max'] = df.groupby(['breath_id'])['u_in'].transform('max')\n",
        "    df['breath_id__u_in__diffmax'] = df[\"breath_id__u_in__max\"] - df['u_in']\n",
        "    df['breath_id__u_in__diffmean'] = df.groupby(['breath_id'])['u_in'].transform('mean') - df['u_in']\n",
        "    print(\"Step-3...Completed\")\n",
        "    \n",
        "    df['u_in_diff1'] = df['u_in'] - df['u_in_lag1']\n",
        "    df['u_in_diff2'] = df['u_in'] - df['u_in_lag2']\n",
        "    df['u_in_diff3'] = df['u_in'] - df['u_in_lag3']\n",
        "    df['u_in_diff4'] = df['u_in'] - df['u_in_lag4']\n",
        "    df['u_in_diff5'] = df['u_in'] - df['u_in_lag5']\n",
        "\n",
        "    df['u_out_diff1'] = df['u_out'] - df['u_out_lag1']\n",
        "    df['u_out_diff2'] = df['u_out'] - df['u_out_lag2']\n",
        "    df['u_out_diff3'] = df['u_out'] - df['u_out_lag3']\n",
        "    df['u_out_diff4'] = df['u_out'] - df['u_out_lag4']\n",
        "    df['u_out_diff5'] = df['u_out'] - df['u_out_lag5']\n",
        "    print(\"Step-4...Completed\")\n",
        "    \n",
        "    df['ewm_u_in_mean'] = (\n",
        "        df\n",
        "        .groupby('breath_id')['u_in']\n",
        "        .ewm(halflife=9)\n",
        "        .mean()\n",
        "        .reset_index(level=0,drop=True)\n",
        "    )\n",
        "    df[[\"15_in_sum\",\"15_in_min\",\"15_in_max\",\"15_in_mean\"]] = (\n",
        "        df.groupby('breath_id')['u_in']\n",
        "        .rolling(window=15,min_periods=1)\n",
        "        .agg({\n",
        "            \"15_in_sum\":\"sum\",\n",
        "            \"15_in_min\":\"min\",\n",
        "            \"15_in_max\":\"max\",\n",
        "            \"15_in_mean\":\"mean\"})\n",
        "        .reset_index(level=0,drop=True)\n",
        "    )\n",
        "    df[[\"7_in_sum\",\"7_in_min\",\"7_in_max\",\"7_in_mean\"]] = (\n",
        "        df.groupby('breath_id')['u_in']\n",
        "        .rolling(window=7,min_periods=1)\n",
        "        .agg({\n",
        "            \"7_in_sum\":\"sum\",\n",
        "            \"7_in_min\":\"min\",\n",
        "            \"7_in_max\":\"max\",\n",
        "            \"7_in_mean\":\"mean\"})\n",
        "        .reset_index(level=0,drop=True)\n",
        "    )\n",
        "    print(\"Step-5...Completed\")\n",
        "    \n",
        "    df['u_in_lagback_diff1'] = df['u_in'] - df['u_in_lag_back1']\n",
        "    df['u_in_lagback_diff2'] = df['u_in'] - df['u_in_lag_back2']\n",
        "    df['u_out_lagback_diff1'] = df['u_out'] - df['u_out_lag_back1']\n",
        "    df['u_out_lagback_diff2'] = df['u_out'] - df['u_out_lag_back2']\n",
        "    print(\"Step-6...Completed\")\n",
        "    \n",
        "    df['R'] = df['R'].astype(str)\n",
        "    df['C'] = df['C'].astype(str)\n",
        "    df['R__C'] = df[\"R\"].astype(str) + '__' + df[\"C\"].astype(str)\n",
        "    df = pd.get_dummies(df)\n",
        "    print(\"Step-7...Completed\")\n",
        "    \n",
        "    return df\n",
        "\n",
        "print(\"Train data...\\n\")\n",
        "train = compute_feats(train_raw)\n",
        "train = reduce_mem_usage(train, verbose=True)\n",
        "print(\"\\nTest data...\\n\")\n",
        "test = compute_feats(test_raw)\n",
        "test = reduce_mem_usage(test, verbose=True)\n",
        "\n",
        "del train_raw,test_raw\n",
        "gc.collect()"
      ],
      "execution_count": null,
      "outputs": [
        {
          "output_type": "stream",
          "name": "stdout",
          "text": [
            "Train data...\n",
            "\n",
            "Step-1...Completed\n",
            "Step-2...Completed\n",
            "Step-3...Completed\n",
            "Step-4...Completed\n",
            "Step-5...Completed\n",
            "Step-6...Completed\n",
            "Step-7...Completed\n",
            "Mem. usage decreased to 1473.63 Mb (49.1% reduction)\n",
            "\n",
            "Test data...\n",
            "\n",
            "Step-1...Completed\n",
            "Step-2...Completed\n",
            "Step-3...Completed\n",
            "Step-4...Completed\n",
            "Step-5...Completed\n",
            "Step-6...Completed\n",
            "Step-7...Completed\n",
            "Mem. usage decreased to 967.07 Mb (49.1% reduction)\n"
          ]
        },
        {
          "output_type": "execute_result",
          "data": {
            "text/plain": [
              "0"
            ]
          },
          "metadata": {},
          "execution_count": 14
        }
      ]
    },
    {
      "cell_type": "code",
      "metadata": {
        "id": "FydxTC2zKb3r"
      },
      "source": [
        "targets = train[['pressure']].to_numpy().reshape(-1, config.SEQ_LEN)\n",
        "mask_out = train[[\"u_out\"]].to_numpy().reshape(-1, config.SEQ_LEN)\n",
        "mask_in = 1-mask_out\n",
        "\n",
        "oof = train[[\"id\",\"breath_id\",\"u_out\",\"pressure\"]].copy()\n",
        "test_raw = test[[\"id\"]].copy()\n",
        "\n",
        "cols_to_exclude_train = [\n",
        "    'pressure','id', 'breath_id',\n",
        "]\n",
        "cols_to_exclude_test = [\n",
        "    'id', 'breath_id',\n",
        "]\n",
        "\n",
        "train.drop(cols_to_exclude_train, axis=1, inplace=True)\n",
        "test.drop(cols_to_exclude_test, axis=1, inplace=True)\n",
        "\n",
        "train.insert(0, \"u_in\", train.pop(\"u_in\").values)\n",
        "train.insert(1, \"u_out\", train.pop(\"u_out\").values)\n",
        "\n",
        "test.insert(0, \"u_in\", test.pop(\"u_in\").values)\n",
        "test.insert(1, \"u_out\", test.pop(\"u_out\").values)\n",
        "\n",
        "assert (train.columns == test.columns).all()"
      ],
      "execution_count": null,
      "outputs": []
    },
    {
      "cell_type": "code",
      "metadata": {
        "id": "Io3GQtSIUCGq"
      },
      "source": [
        "categorical_cols = [\n",
        "    \"R_5\",\"R_20\",\"R_50\",\"C_10\",\"C_20\",\"C_50\",\n",
        "    \"R__C_20__10\",\"R__C_20__20\",\"R__C_20__50\",\n",
        "    \"R__C_50__10\",\"R__C_50__20\",\"R__C_50__50\",\n",
        "    \"R__C_5__10\",\"R__C_5__20\",\"R__C_5__50\",\n",
        "    \"u_out\",\n",
        "\n",
        "    #\"u_out_lag1\",\n",
        "    #\"u_out_lag2\",\n",
        "    #\"u_out_lag3\",\n",
        "    #\"u_out_lag4\",\n",
        "    #\"u_out_lag5\",\n",
        "\n",
        "    #\"u_out_diff1\",\n",
        "    #\"u_out_diff2\",\n",
        "    #\"u_out_diff3\",\n",
        "    #\"u_out_diff4\",\n",
        "    #\"u_out_diff5\",\n",
        "\n",
        "    #\"u_out_lag_back1\",\n",
        "    #\"u_out_lag_back2\",\n",
        "    #\"u_out_lag_back3\",\n",
        "    #\"u_out_lag_back4\",\n",
        "    #\"u_out_lag_back5\",\n",
        "\n",
        "    #\"u_out_lagback_diff1\",\n",
        "    #\"u_out_lagback_diff2\",\n",
        "]\n",
        "numerical_cols = list(set(train.columns) - set(categorical_cols))"
      ],
      "execution_count": null,
      "outputs": []
    },
    {
      "cell_type": "code",
      "metadata": {
        "id": "v4Npy3KApzM8"
      },
      "source": [
        "merged = pd.concat([train[numerical_cols], test[numerical_cols]], axis=0, ignore_index=True)\n",
        "\n",
        "scaler = RobustScaler()\n",
        "#scaler = GaussRankScaler()\n",
        "scaler.fit(merged.values)\n",
        "\n",
        "train[numerical_cols] = scaler.transform(train[numerical_cols].values)\n",
        "test[numerical_cols] = scaler.transform(test[numerical_cols].values)"
      ],
      "execution_count": null,
      "outputs": []
    },
    {
      "cell_type": "code",
      "metadata": {
        "id": "s92aZcf_J9m5"
      },
      "source": [
        "train = train.values.reshape(-1, config.SEQ_LEN, train.shape[1])\n",
        "test =  test.values.reshape(-1, config.SEQ_LEN, train.shape[2])"
      ],
      "execution_count": null,
      "outputs": []
    },
    {
      "cell_type": "markdown",
      "metadata": {
        "id": "y7-mHNoyLkNR"
      },
      "source": [
        "***\n",
        "## model training"
      ]
    },
    {
      "cell_type": "code",
      "metadata": {
        "id": "BM_l0sCn5y9v"
      },
      "source": [
        "class LossWeightScheduler(keras.callbacks.Callback):\n",
        "    def __init__(self, alpha_start, alpha_min, start_epoch, decay_epochs):\n",
        "\n",
        "        super(LossWeightScheduler, self).__init__()\n",
        "        self.alpha_start = alpha_start\n",
        "        self.alpha_min = alpha_min\n",
        "        self.start_epoch = start_epoch\n",
        "        self.decay_epochs = decay_epochs\n",
        "    \n",
        "    def on_train_begin(self, logs=None):\n",
        "        self.model.alpha = self.alpha_start\n",
        "\n",
        "    def on_epoch_start(self, epoch, logs=None):\n",
        "        if epoch >= self.start_epoch:\n",
        "            alpha_update = self.cosine_decay(epoch - self.start_epoch + 1)\n",
        "            self.model.alpha = alpha_update\n",
        "\n",
        "    def cosine_decay(self, epoch):\n",
        "        epoch = min(epoch, self.decay_epochs)\n",
        "        cosine_decay = 0.5 * (1 + np.cos(np.pi * epoch / self.decay_epochs))\n",
        "        decayed = (1 - self.alpha_min) * cosine_decay + self.alpha_min\n",
        "        return self.alpha_start * decayed"
      ],
      "execution_count": null,
      "outputs": []
    },
    {
      "cell_type": "code",
      "metadata": {
        "id": "nQzdI_SJRPdq"
      },
      "source": [
        "def masked_l1_loss(y_true, y_pred, mask):\n",
        "    return tf.keras.losses.mae(tf.boolean_mask(y_true, mask), tf.boolean_mask(y_pred, mask))\n",
        "\n",
        "class LSTMGRU2Heads(tf.keras.Model):\n",
        "\n",
        "    def __init__(self):\n",
        "        super(LSTMGRU2Heads, self).__init__()\n",
        "\n",
        "        self.alpha = 1.\n",
        "\n",
        "        # feature extrators on u_in\n",
        "        self.conv1 = layers.Conv1D(32, 5, padding=\"same\", activation='tanh')\n",
        "        \n",
        "        self.lstm1 = layers.Bidirectional(layers.LSTM(units=768, return_sequences=True, recurrent_dropout=0.))\n",
        "        self.lstm2 = layers.Bidirectional(layers.LSTM(units=512, return_sequences=True, recurrent_dropout=0.))\n",
        "        self.lstm3 = layers.Bidirectional(layers.LSTM(units=256, return_sequences=True, recurrent_dropout=0.))\n",
        "        self.lstm4 = layers.Bidirectional(layers.LSTM(units=128, return_sequences=True, recurrent_dropout=0.1))\n",
        "\n",
        "        self.gru1 = layers.Bidirectional(layers.GRU(units=256, return_sequences=True, recurrent_dropout=0.1))\n",
        "        self.gru2 = layers.Bidirectional(layers.GRU(units=128, return_sequences=True, recurrent_dropout=0.1))\n",
        "        self.gru3 = layers.Bidirectional(layers.GRU(units=64, return_sequences=True,  recurrent_dropout=0.1))\n",
        "\n",
        "        self.dense1 = tfa.layers.WeightNormalization(layers.Dense(units=128, activation='selu',))\n",
        "        self.head1 = tfa.layers.WeightNormalization(layers.Dense(units=1))\n",
        "        self.head2 = tfa.layers.WeightNormalization(layers.Dense(units=1))\n",
        "\n",
        "        self.tracker_loss = tf.keras.metrics.Mean(name=\"loss\")\n",
        "        self.tracker_mae_in = tf.keras.metrics.Mean(name=\"mae_in\")\n",
        "        self.tracker_mae_out = tf.keras.metrics.Mean(name=\"mae_out\")\n",
        "\n",
        "    def call(self, inputs):\n",
        "        \n",
        "        # features extracted over u_in with conv layers\n",
        "        u_in = tf.expand_dims(inputs[:,:,0], axis=-1)\n",
        "        u_in_k5 = self.conv1(u_in)\n",
        "\n",
        "        x = tf.concat([inputs, u_in_k5], axis=-1)\n",
        "\n",
        "        x1 = self.lstm1(x)\n",
        "        x2 = self.lstm2(x1)\n",
        "        x3 = self.lstm3(x2)\n",
        "        x4 = self.lstm4(x3)\n",
        "        \n",
        "        z2 = self.gru1(x2)\n",
        "        z3 = self.gru2(x3+z2)\n",
        "        z4 = self.gru3(x4+z3)\n",
        "        \n",
        "        x = tf.concat([x4, z2, z3, z4], axis=-1)\n",
        "        x = self.dense1(x)\n",
        "        \n",
        "        output_in = self.head1(x)\n",
        "        output_out = self.head2(x)\n",
        "\n",
        "        return output_in,output_out\n",
        "\n",
        "    def train_step(self, data):\n",
        "        X,y = data\n",
        "        x,mask_in,mask_out = X\n",
        "\n",
        "        with tf.GradientTape() as tape:\n",
        "            y_pred_in,y_pred_out = self(x, training=True)\n",
        "            y_pred_in = tf.squeeze(y_pred_in)\n",
        "            y_pred_out = tf.squeeze(y_pred_out)\n",
        "            # compute the loss value\n",
        "            loss1 = masked_l1_loss(y, y_pred_in, mask_in)\n",
        "            loss2 = masked_l1_loss(y, y_pred_out, mask_out)\n",
        "            loss_reg = tf.math.reduce_sum(self.losses)\n",
        "            loss = (loss1 + self.alpha*loss2)/(1 + self.alpha) + loss_reg\n",
        "\n",
        "        # compute gradients\n",
        "        trainable_vars = self.trainable_variables\n",
        "        gradients = tape.gradient(loss, trainable_vars)\n",
        "        # update weights\n",
        "        self.optimizer.apply_gradients(zip(gradients, trainable_vars))\n",
        "\n",
        "        # update metrics (includes the metric that tracks the loss)\n",
        "        self.tracker_loss.update_state(loss)\n",
        "        self.tracker_mae_in.update_state(loss1)\n",
        "        self.tracker_mae_out.update_state(loss2)\n",
        "\n",
        "        return {\n",
        "            \"loss\": self.tracker_loss.result(), \n",
        "            \"mae_in\": self.tracker_mae_in.result(),\n",
        "            \"mae_out\": self.tracker_mae_out.result(),   \n",
        "        }\n",
        "\n",
        "    @property\n",
        "    def metrics(self):\n",
        "        return [self.tracker_loss, self.tracker_mae_in, self.tracker_mae_out]\n",
        "\n",
        "    def test_step(self, data):\n",
        "        X,y = data\n",
        "        x, mask_in, mask_out = X\n",
        "        # compute predictions\n",
        "        y_pred_in,y_pred_out = self(x, training=False)\n",
        "        y_pred_in = tf.squeeze(y_pred_in)\n",
        "        y_pred_out = tf.squeeze(y_pred_out)\n",
        "        # compute loss\n",
        "        loss1 = masked_l1_loss(y, y_pred_in, mask_in)\n",
        "        loss2 = masked_l1_loss(y, y_pred_out, mask_out)\n",
        "        loss = (loss1 + self.alpha*loss2)/(1 + self.alpha)\n",
        "        #loss = tf.keras.losses.mae(y, y_pred_in)\n",
        "        # updates the metrics\n",
        "        self.tracker_loss.update_state(loss)\n",
        "        self.tracker_mae_in.update_state(loss1)\n",
        "        self.tracker_mae_out.update_state(loss2)\n",
        "        \n",
        "        return {\n",
        "            \"loss\": self.tracker_loss.result(), \n",
        "            \"mae_in\": self.tracker_mae_in.result(),\n",
        "            \"mae_out\": self.tracker_mae_out.result(),   \n",
        "        }\n",
        "\n",
        "    def predict_step(self, data):\n",
        "        y_pred_in,y_pred_out = self(data, training=False)\n",
        "        return y_pred_in"
      ],
      "execution_count": null,
      "outputs": []
    },
    {
      "cell_type": "code",
      "metadata": {
        "colab": {
          "base_uri": "https://localhost:8080/",
          "height": 1000
        },
        "id": "qsvyLFEZSXVK",
        "outputId": "d124721e-5753-430f-ca2e-421d92e9d443"
      },
      "source": [
        "models_by_fold = list()\n",
        "\n",
        "for fold in range(len(split)):\n",
        "    print(f\" Fold: {fold+1} \".center(80, \"-\"))\n",
        "    \n",
        "    train_idx = split[f\"fold-{fold}\"][\"train\"]\n",
        "    valid_idx = split[f\"fold-{fold}\"][\"valid\"]\n",
        "\n",
        "    X_train, X_valid = train[train_idx], train[valid_idx]\n",
        "    y_train, y_valid = targets[train_idx], targets[valid_idx]\n",
        "\n",
        "    mask_in_train, mask_in_valid = mask_in[train_idx], mask_in[valid_idx]\n",
        "    mask_out_train, mask_out_valid = mask_out[train_idx], mask_out[valid_idx]\n",
        "\n",
        "    model_path = f\"{artifacts_path}/{config.MODEL_ID}_fold{fold}\"\n",
        "\n",
        "    if len(glob(f\"{model_path}*\")) == 2:\n",
        "        print(\"Found an already trained model!\")\n",
        "        with tpu_strategy.scope():\n",
        "            model = LSTMGRU2Heads()\n",
        "            load_locally = tf.saved_model.LoadOptions(experimental_io_device='/job:localhost')\n",
        "            model.load_weights(model_path, options=load_locally)\n",
        "        do_train = False\n",
        "    else:\n",
        "        do_train = True\n",
        "\n",
        "    if do_train:\n",
        "\n",
        "        lr = ReduceLROnPlateau(\n",
        "            monitor=\"val_mae_in\", \n",
        "            factor=config.SCHEDULER_FACTOR, \n",
        "            patience=config.SCHEDULER_PATIENCE, \n",
        "            verbose=1,\n",
        "            min_lr=1e-4,\n",
        "            min_delta=0.0001,\n",
        "        )\n",
        "        es = EarlyStopping(\n",
        "            monitor='val_mae_in', \n",
        "            mode='min', \n",
        "            patience=config.STOPPING_PATIENCE, \n",
        "            min_delta=0.0001,\n",
        "            verbose=1,\n",
        "            restore_best_weights=True,\n",
        "        )\n",
        "\n",
        "        with tpu_strategy.scope():\n",
        "            model = LSTMGRU2Heads()\n",
        "            optimizer = tf.optimizers.Adam(learning_rate=1e-3)\n",
        "            model.compile(optimizer=optimizer,)\n",
        "\n",
        "            history = model.fit(\n",
        "                [X_train,mask_in_train,mask_out_train], \n",
        "                y_train, \n",
        "                validation_data=([X_valid,mask_in_valid,mask_out_valid], y_valid), \n",
        "                epochs=config.EPOCHS,\n",
        "                batch_size=config.BATCH_SIZE, \n",
        "                callbacks=[es,lr],\n",
        "                shuffle=True,\n",
        "                verbose=1,\n",
        "            )\n",
        "\n",
        "        save_locally = tf.saved_model.SaveOptions(experimental_io_device='/job:localhost')\n",
        "        model.save_weights(model_path, options=save_locally, overwrite=True, save_format=\"tf\")\n",
        "\n",
        "        # metrics from epoch 0 ->\n",
        "        plt.figure(figsize=(24,5))\n",
        "        plt.subplot(1,2,1)\n",
        "        plt.title(\"train metrics\")\n",
        "        plt.plot(history.history[\"loss\"], \"o--\", label=\"loss\")\n",
        "        plt.plot(history.history[\"mae_in\"], \"o--\", label=\"mae_in\")\n",
        "        plt.plot(history.history[\"mae_out\"], \"o--\", label=\"mae_out\")\n",
        "        plt.grid()\n",
        "        plt.legend(loc=\"best\")\n",
        "\n",
        "        plt.subplot(1,2,2)\n",
        "        plt.title(\"valid metrics\")\n",
        "        plt.plot(history.history[\"val_loss\"], \"o--\", label=\"val_loss\")\n",
        "        plt.plot(history.history[\"val_mae_in\"], \"o--\", label=\"val_mae_in\")\n",
        "        plt.plot(history.history[\"val_mae_out\"], \"o--\", label=\"val_mae_out\")\n",
        "        plt.grid()\n",
        "        plt.legend(loc=\"best\")\n",
        "        plt.show()\n",
        "\n",
        "        # metrics from epoch 50 ->\n",
        "        plt.figure(figsize=(24,5))\n",
        "        plt.subplot(1,2,1)\n",
        "        plt.title(\"train metrics - zoom\")\n",
        "        plt.plot(history.history[\"loss\"][50:], \"o--\", label=\"loss\")\n",
        "        plt.plot(history.history[\"mae_in\"][50:], \"o--\", label=\"mae_in\")\n",
        "        plt.plot(history.history[\"mae_out\"][50:], \"o--\", label=\"mae_out\")\n",
        "        plt.grid()\n",
        "        plt.legend(loc=\"best\")\n",
        "\n",
        "        plt.subplot(1,2,2)\n",
        "        plt.title(\"valid metrics - zoom\")\n",
        "        plt.plot(history.history[\"val_loss\"][50:], \"o--\", label=\"val_loss\")\n",
        "        plt.plot(history.history[\"val_mae_in\"][50:], \"o--\", label=\"val_mae_in\")\n",
        "        plt.plot(history.history[\"val_mae_out\"][50:], \"o--\", label=\"val_mae_out\")\n",
        "        plt.grid()\n",
        "        plt.legend(loc=\"best\")\n",
        "        plt.show()\n",
        "\n",
        "    # generate the oof predictions\n",
        "    oof_preds = model(tf.convert_to_tensor(X_valid))[0].numpy().squeeze()\n",
        "    idx = oof.query(\"breath_id in @valid_idx\").index\n",
        "    oof.loc[idx, \"pred\"] = oof_preds.ravel()\n",
        "    oof.loc[idx, \"fold\"] = fold\n",
        "\n",
        "    mae = oof.loc[idx].query(\"u_out == 0\").eval(\"abs(pressure - pred)\").mean()\n",
        "    print(f\"Fold{fold} mae: {mae}\")\n",
        "    \n",
        "    models_by_fold.append(model)"
      ],
      "execution_count": null,
      "outputs": [
        {
          "output_type": "stream",
          "name": "stdout",
          "text": [
            "----------------------------------- Fold: 1 ------------------------------------\n",
            "Found an already trained model!\n",
            "Fold0 mae: 0.15446750819683075\n",
            "----------------------------------- Fold: 2 ------------------------------------\n",
            "Found an already trained model!\n",
            "Fold1 mae: 0.16111542284488678\n",
            "----------------------------------- Fold: 3 ------------------------------------\n",
            "Found an already trained model!\n",
            "Fold2 mae: 0.15887627005577087\n",
            "----------------------------------- Fold: 4 ------------------------------------\n",
            "Found an already trained model!\n",
            "Fold3 mae: 0.16199253499507904\n",
            "----------------------------------- Fold: 5 ------------------------------------\n",
            "Found an already trained model!\n",
            "Fold4 mae: 0.15652745962142944\n",
            "----------------------------------- Fold: 6 ------------------------------------\n",
            "Found an already trained model!\n",
            "Fold5 mae: 0.16231118142604828\n",
            "----------------------------------- Fold: 7 ------------------------------------\n",
            "Found an already trained model!\n",
            "Fold6 mae: 0.15748578310012817\n",
            "----------------------------------- Fold: 8 ------------------------------------\n",
            "Found an already trained model!\n",
            "Fold7 mae: 0.1631268560886383\n",
            "----------------------------------- Fold: 9 ------------------------------------\n",
            "Found an already trained model!\n",
            "Fold8 mae: 0.1565980762243271\n",
            "----------------------------------- Fold: 10 -----------------------------------\n",
            "Epoch 1/300\n",
            "133/133 [==============================] - 130s 495ms/step - loss: 1.8726 - mae_in: 2.6449 - mae_out: 1.1003 - val_loss: 0.9218 - val_mae_in: 1.2581 - val_mae_out: 0.5855\n",
            "Epoch 2/300\n",
            "133/133 [==============================] - 27s 201ms/step - loss: 0.7799 - mae_in: 1.0738 - mae_out: 0.4861 - val_loss: 0.7010 - val_mae_in: 0.9491 - val_mae_out: 0.4530\n",
            "Epoch 3/300\n",
            "133/133 [==============================] - 27s 200ms/step - loss: 0.6603 - mae_in: 0.9040 - mae_out: 0.4167 - val_loss: 0.6032 - val_mae_in: 0.8421 - val_mae_out: 0.3644\n",
            "Epoch 4/300\n",
            "133/133 [==============================] - 27s 203ms/step - loss: 0.6005 - mae_in: 0.8349 - mae_out: 0.3660 - val_loss: 0.5384 - val_mae_in: 0.7541 - val_mae_out: 0.3227\n",
            "Epoch 5/300\n",
            "133/133 [==============================] - 27s 201ms/step - loss: 0.5455 - mae_in: 0.7628 - mae_out: 0.3283 - val_loss: 0.5614 - val_mae_in: 0.7938 - val_mae_out: 0.3289\n",
            "Epoch 6/300\n",
            "133/133 [==============================] - 27s 201ms/step - loss: 0.5123 - mae_in: 0.7087 - mae_out: 0.3159 - val_loss: 0.4790 - val_mae_in: 0.6587 - val_mae_out: 0.2993\n",
            "Epoch 7/300\n",
            "133/133 [==============================] - 27s 201ms/step - loss: 0.4863 - mae_in: 0.6685 - mae_out: 0.3041 - val_loss: 0.4962 - val_mae_in: 0.7031 - val_mae_out: 0.2893\n",
            "Epoch 8/300\n",
            "133/133 [==============================] - 27s 202ms/step - loss: 0.4505 - mae_in: 0.6116 - mae_out: 0.2894 - val_loss: 0.4544 - val_mae_in: 0.5981 - val_mae_out: 0.3107\n",
            "Epoch 9/300\n",
            "133/133 [==============================] - 27s 201ms/step - loss: 0.4292 - mae_in: 0.5772 - mae_out: 0.2813 - val_loss: 0.4085 - val_mae_in: 0.5496 - val_mae_out: 0.2674\n",
            "Epoch 10/300\n",
            "133/133 [==============================] - 27s 201ms/step - loss: 0.4208 - mae_in: 0.5684 - mae_out: 0.2733 - val_loss: 0.3997 - val_mae_in: 0.5339 - val_mae_out: 0.2655\n",
            "Epoch 11/300\n",
            "133/133 [==============================] - 27s 201ms/step - loss: 0.3984 - mae_in: 0.5291 - mae_out: 0.2676 - val_loss: 0.4017 - val_mae_in: 0.5379 - val_mae_out: 0.2655\n",
            "Epoch 12/300\n",
            "133/133 [==============================] - 27s 201ms/step - loss: 0.3904 - mae_in: 0.5200 - mae_out: 0.2608 - val_loss: 0.4519 - val_mae_in: 0.6421 - val_mae_out: 0.2617\n",
            "Epoch 13/300\n",
            "133/133 [==============================] - 27s 201ms/step - loss: 0.3665 - mae_in: 0.4792 - mae_out: 0.2539 - val_loss: 0.3829 - val_mae_in: 0.5199 - val_mae_out: 0.2458\n",
            "Epoch 14/300\n",
            "133/133 [==============================] - 27s 200ms/step - loss: 0.3743 - mae_in: 0.4942 - mae_out: 0.2545 - val_loss: 0.3911 - val_mae_in: 0.5394 - val_mae_out: 0.2427\n",
            "Epoch 15/300\n",
            "133/133 [==============================] - 27s 200ms/step - loss: 0.3648 - mae_in: 0.4813 - mae_out: 0.2483 - val_loss: 0.3571 - val_mae_in: 0.4696 - val_mae_out: 0.2446\n",
            "Epoch 16/300\n",
            "133/133 [==============================] - 27s 201ms/step - loss: 0.3457 - mae_in: 0.4466 - mae_out: 0.2448 - val_loss: 0.4022 - val_mae_in: 0.5397 - val_mae_out: 0.2648\n",
            "Epoch 17/300\n",
            "133/133 [==============================] - 27s 201ms/step - loss: 0.3469 - mae_in: 0.4480 - mae_out: 0.2458 - val_loss: 0.3498 - val_mae_in: 0.4604 - val_mae_out: 0.2391\n",
            "Epoch 18/300\n",
            "133/133 [==============================] - 27s 201ms/step - loss: 0.3397 - mae_in: 0.4376 - mae_out: 0.2417 - val_loss: 0.3337 - val_mae_in: 0.4227 - val_mae_out: 0.2447\n",
            "Epoch 19/300\n",
            "133/133 [==============================] - 27s 201ms/step - loss: 0.3209 - mae_in: 0.4038 - mae_out: 0.2379 - val_loss: 0.3449 - val_mae_in: 0.4545 - val_mae_out: 0.2353\n",
            "Epoch 20/300\n",
            "133/133 [==============================] - 27s 201ms/step - loss: 0.3199 - mae_in: 0.4050 - mae_out: 0.2349 - val_loss: 0.3874 - val_mae_in: 0.5328 - val_mae_out: 0.2420\n",
            "Epoch 21/300\n",
            "133/133 [==============================] - 27s 201ms/step - loss: 0.3166 - mae_in: 0.4016 - mae_out: 0.2316 - val_loss: 0.3373 - val_mae_in: 0.4439 - val_mae_out: 0.2308\n",
            "Epoch 22/300\n",
            "133/133 [==============================] - 27s 201ms/step - loss: 0.3178 - mae_in: 0.4069 - mae_out: 0.2286 - val_loss: 0.3318 - val_mae_in: 0.4366 - val_mae_out: 0.2271\n",
            "Epoch 23/300\n",
            "133/133 [==============================] - 27s 201ms/step - loss: 0.2986 - mae_in: 0.3708 - mae_out: 0.2263 - val_loss: 0.3147 - val_mae_in: 0.3993 - val_mae_out: 0.2302\n",
            "Epoch 24/300\n",
            "133/133 [==============================] - 27s 201ms/step - loss: 0.2884 - mae_in: 0.3552 - mae_out: 0.2215 - val_loss: 0.2909 - val_mae_in: 0.3665 - val_mae_out: 0.2154\n",
            "Epoch 25/300\n",
            "133/133 [==============================] - 27s 201ms/step - loss: 0.2943 - mae_in: 0.3674 - mae_out: 0.2211 - val_loss: 0.3471 - val_mae_in: 0.4687 - val_mae_out: 0.2255\n",
            "Epoch 26/300\n",
            "133/133 [==============================] - 27s 201ms/step - loss: 0.2989 - mae_in: 0.3777 - mae_out: 0.2202 - val_loss: 0.2842 - val_mae_in: 0.3542 - val_mae_out: 0.2142\n",
            "Epoch 27/300\n",
            "133/133 [==============================] - 27s 201ms/step - loss: 0.2810 - mae_in: 0.3447 - mae_out: 0.2173 - val_loss: 0.2748 - val_mae_in: 0.3317 - val_mae_out: 0.2179\n",
            "Epoch 28/300\n",
            "133/133 [==============================] - 27s 200ms/step - loss: 0.2743 - mae_in: 0.3372 - mae_out: 0.2115 - val_loss: 0.2756 - val_mae_in: 0.3466 - val_mae_out: 0.2046\n",
            "Epoch 29/300\n",
            "133/133 [==============================] - 27s 200ms/step - loss: 0.2749 - mae_in: 0.3410 - mae_out: 0.2088 - val_loss: 0.3065 - val_mae_in: 0.3957 - val_mae_out: 0.2173\n",
            "Epoch 30/300\n",
            "133/133 [==============================] - 27s 201ms/step - loss: 0.2717 - mae_in: 0.3374 - mae_out: 0.2061 - val_loss: 0.2908 - val_mae_in: 0.3813 - val_mae_out: 0.2003\n",
            "Epoch 31/300\n",
            "133/133 [==============================] - 27s 201ms/step - loss: 0.2761 - mae_in: 0.3510 - mae_out: 0.2011 - val_loss: 0.2826 - val_mae_in: 0.3652 - val_mae_out: 0.1999\n",
            "Epoch 32/300\n",
            "133/133 [==============================] - 27s 201ms/step - loss: 0.2679 - mae_in: 0.3319 - mae_out: 0.2039 - val_loss: 0.2767 - val_mae_in: 0.3532 - val_mae_out: 0.2002\n",
            "Epoch 33/300\n",
            "133/133 [==============================] - 27s 201ms/step - loss: 0.2630 - mae_in: 0.3233 - mae_out: 0.2026 - val_loss: 0.2835 - val_mae_in: 0.3565 - val_mae_out: 0.2106\n",
            "Epoch 34/300\n",
            "133/133 [==============================] - 27s 201ms/step - loss: 0.2587 - mae_in: 0.3183 - mae_out: 0.1990 - val_loss: 0.3330 - val_mae_in: 0.4472 - val_mae_out: 0.2187\n",
            "Epoch 35/300\n",
            "133/133 [==============================] - 27s 201ms/step - loss: 0.2629 - mae_in: 0.3267 - mae_out: 0.1990 - val_loss: 0.2568 - val_mae_in: 0.3213 - val_mae_out: 0.1923\n",
            "Epoch 36/300\n",
            "133/133 [==============================] - 27s 201ms/step - loss: 0.2539 - mae_in: 0.3133 - mae_out: 0.1945 - val_loss: 0.2577 - val_mae_in: 0.3244 - val_mae_out: 0.1910\n",
            "Epoch 37/300\n",
            "133/133 [==============================] - 27s 201ms/step - loss: 0.2431 - mae_in: 0.2960 - mae_out: 0.1901 - val_loss: 0.2601 - val_mae_in: 0.3332 - val_mae_out: 0.1871\n",
            "Epoch 38/300\n",
            "133/133 [==============================] - 27s 201ms/step - loss: 0.2342 - mae_in: 0.2801 - mae_out: 0.1884 - val_loss: 0.2496 - val_mae_in: 0.2998 - val_mae_out: 0.1994\n",
            "Epoch 39/300\n",
            "133/133 [==============================] - 27s 201ms/step - loss: 0.2371 - mae_in: 0.2870 - mae_out: 0.1873 - val_loss: 0.2519 - val_mae_in: 0.3151 - val_mae_out: 0.1886\n",
            "Epoch 40/300\n",
            "133/133 [==============================] - 27s 201ms/step - loss: 0.2281 - mae_in: 0.2716 - mae_out: 0.1845 - val_loss: 0.2477 - val_mae_in: 0.3019 - val_mae_out: 0.1935\n",
            "Epoch 41/300\n",
            "133/133 [==============================] - 27s 201ms/step - loss: 0.2355 - mae_in: 0.2836 - mae_out: 0.1874 - val_loss: 0.2373 - val_mae_in: 0.2913 - val_mae_out: 0.1834\n",
            "Epoch 42/300\n",
            "133/133 [==============================] - 27s 201ms/step - loss: 0.2353 - mae_in: 0.2840 - mae_out: 0.1865 - val_loss: 0.2440 - val_mae_in: 0.3046 - val_mae_out: 0.1834\n",
            "Epoch 43/300\n",
            "133/133 [==============================] - 27s 201ms/step - loss: 0.2247 - mae_in: 0.2694 - mae_out: 0.1799 - val_loss: 0.2467 - val_mae_in: 0.3018 - val_mae_out: 0.1916\n",
            "Epoch 44/300\n",
            "133/133 [==============================] - 27s 201ms/step - loss: 0.2349 - mae_in: 0.2865 - mae_out: 0.1833 - val_loss: 0.2286 - val_mae_in: 0.2758 - val_mae_out: 0.1813\n",
            "Epoch 45/300\n",
            "133/133 [==============================] - 27s 201ms/step - loss: 0.2254 - mae_in: 0.2700 - mae_out: 0.1807 - val_loss: 0.2399 - val_mae_in: 0.3003 - val_mae_out: 0.1795\n",
            "Epoch 46/300\n",
            "133/133 [==============================] - 27s 201ms/step - loss: 0.2373 - mae_in: 0.2920 - mae_out: 0.1825 - val_loss: 0.2342 - val_mae_in: 0.2824 - val_mae_out: 0.1861\n",
            "Epoch 47/300\n",
            "133/133 [==============================] - 27s 201ms/step - loss: 0.2208 - mae_in: 0.2620 - mae_out: 0.1797 - val_loss: 0.2444 - val_mae_in: 0.3035 - val_mae_out: 0.1854\n",
            "Epoch 48/300\n",
            "133/133 [==============================] - 27s 201ms/step - loss: 0.2182 - mae_in: 0.2562 - mae_out: 0.1801 - val_loss: 0.2223 - val_mae_in: 0.2674 - val_mae_out: 0.1772\n",
            "Epoch 49/300\n",
            "133/133 [==============================] - 27s 201ms/step - loss: 0.2292 - mae_in: 0.2798 - mae_out: 0.1786 - val_loss: 0.2390 - val_mae_in: 0.2928 - val_mae_out: 0.1852\n",
            "Epoch 50/300\n",
            "133/133 [==============================] - 27s 201ms/step - loss: 0.2208 - mae_in: 0.2629 - mae_out: 0.1787 - val_loss: 0.2369 - val_mae_in: 0.2957 - val_mae_out: 0.1781\n",
            "Epoch 51/300\n",
            "133/133 [==============================] - 27s 201ms/step - loss: 0.2285 - mae_in: 0.2794 - mae_out: 0.1777 - val_loss: 0.2288 - val_mae_in: 0.2764 - val_mae_out: 0.1811\n",
            "Epoch 52/300\n",
            "133/133 [==============================] - 27s 201ms/step - loss: 0.2122 - mae_in: 0.2454 - mae_out: 0.1789 - val_loss: 0.2259 - val_mae_in: 0.2735 - val_mae_out: 0.1783\n",
            "Epoch 53/300\n",
            "133/133 [==============================] - 27s 201ms/step - loss: 0.2052 - mae_in: 0.2378 - mae_out: 0.1726 - val_loss: 0.2279 - val_mae_in: 0.2774 - val_mae_out: 0.1784\n",
            "Epoch 54/300\n",
            "133/133 [==============================] - 27s 201ms/step - loss: 0.2299 - mae_in: 0.2822 - mae_out: 0.1776 - val_loss: 0.2875 - val_mae_in: 0.3818 - val_mae_out: 0.1931\n",
            "Epoch 55/300\n",
            "133/133 [==============================] - 27s 201ms/step - loss: 0.2237 - mae_in: 0.2679 - mae_out: 0.1794 - val_loss: 0.2502 - val_mae_in: 0.3149 - val_mae_out: 0.1855\n",
            "Epoch 56/300\n",
            "133/133 [==============================] - 27s 201ms/step - loss: 0.2116 - mae_in: 0.2481 - mae_out: 0.1751 - val_loss: 0.2355 - val_mae_in: 0.2807 - val_mae_out: 0.1904\n",
            "Epoch 57/300\n",
            "133/133 [==============================] - 27s 201ms/step - loss: 0.2084 - mae_in: 0.2430 - mae_out: 0.1737 - val_loss: 0.2259 - val_mae_in: 0.2756 - val_mae_out: 0.1762\n",
            "Epoch 58/300\n",
            "133/133 [==============================] - 27s 201ms/step - loss: 0.2089 - mae_in: 0.2439 - mae_out: 0.1740 - val_loss: 0.2255 - val_mae_in: 0.2732 - val_mae_out: 0.1779\n",
            "\n",
            "Epoch 00058: ReduceLROnPlateau reducing learning rate to 0.000800000037997961.\n",
            "Epoch 59/300\n",
            "133/133 [==============================] - 27s 201ms/step - loss: 0.1895 - mae_in: 0.2136 - mae_out: 0.1655 - val_loss: 0.2053 - val_mae_in: 0.2407 - val_mae_out: 0.1699\n",
            "Epoch 60/300\n",
            "133/133 [==============================] - 27s 200ms/step - loss: 0.1936 - mae_in: 0.2206 - mae_out: 0.1666 - val_loss: 0.2085 - val_mae_in: 0.2370 - val_mae_out: 0.1801\n",
            "Epoch 61/300\n",
            "133/133 [==============================] - 27s 200ms/step - loss: 0.1802 - mae_in: 0.1976 - mae_out: 0.1627 - val_loss: 0.2022 - val_mae_in: 0.2365 - val_mae_out: 0.1679\n",
            "Epoch 62/300\n",
            "133/133 [==============================] - 27s 201ms/step - loss: 0.1814 - mae_in: 0.2019 - mae_out: 0.1609 - val_loss: 0.2088 - val_mae_in: 0.2493 - val_mae_out: 0.1682\n",
            "Epoch 63/300\n",
            "133/133 [==============================] - 27s 201ms/step - loss: 0.1808 - mae_in: 0.1997 - mae_out: 0.1620 - val_loss: 0.1989 - val_mae_in: 0.2301 - val_mae_out: 0.1677\n",
            "Epoch 64/300\n",
            "133/133 [==============================] - 27s 201ms/step - loss: 0.1742 - mae_in: 0.1883 - mae_out: 0.1601 - val_loss: 0.2101 - val_mae_in: 0.2424 - val_mae_out: 0.1779\n",
            "Epoch 65/300\n",
            "133/133 [==============================] - 27s 201ms/step - loss: 0.1738 - mae_in: 0.1875 - mae_out: 0.1600 - val_loss: 0.1942 - val_mae_in: 0.2210 - val_mae_out: 0.1674\n",
            "Epoch 66/300\n",
            "133/133 [==============================] - 27s 201ms/step - loss: 0.1682 - mae_in: 0.1790 - mae_out: 0.1575 - val_loss: 0.1939 - val_mae_in: 0.2207 - val_mae_out: 0.1672\n",
            "Epoch 67/300\n",
            "133/133 [==============================] - 27s 201ms/step - loss: 0.1757 - mae_in: 0.1908 - mae_out: 0.1607 - val_loss: 0.1926 - val_mae_in: 0.2185 - val_mae_out: 0.1668\n",
            "Epoch 68/300\n",
            "133/133 [==============================] - 27s 201ms/step - loss: 0.1660 - mae_in: 0.1764 - mae_out: 0.1557 - val_loss: 0.1971 - val_mae_in: 0.2255 - val_mae_out: 0.1688\n",
            "Epoch 69/300\n",
            "133/133 [==============================] - 27s 201ms/step - loss: 0.1626 - mae_in: 0.1689 - mae_out: 0.1563 - val_loss: 0.1918 - val_mae_in: 0.2203 - val_mae_out: 0.1632\n",
            "Epoch 70/300\n",
            "133/133 [==============================] - 27s 201ms/step - loss: 0.1670 - mae_in: 0.1769 - mae_out: 0.1570 - val_loss: 0.1899 - val_mae_in: 0.2155 - val_mae_out: 0.1643\n",
            "Epoch 71/300\n",
            "133/133 [==============================] - 27s 201ms/step - loss: 0.1767 - mae_in: 0.1953 - mae_out: 0.1580 - val_loss: 0.2177 - val_mae_in: 0.2690 - val_mae_out: 0.1664\n",
            "Epoch 72/300\n",
            "133/133 [==============================] - 27s 201ms/step - loss: 0.1696 - mae_in: 0.1823 - mae_out: 0.1569 - val_loss: 0.2028 - val_mae_in: 0.2365 - val_mae_out: 0.1691\n",
            "Epoch 73/300\n",
            "133/133 [==============================] - 27s 201ms/step - loss: 0.1724 - mae_in: 0.1881 - mae_out: 0.1568 - val_loss: 0.1920 - val_mae_in: 0.2198 - val_mae_out: 0.1642\n",
            "Epoch 74/300\n",
            "133/133 [==============================] - 27s 201ms/step - loss: 0.1651 - mae_in: 0.1761 - mae_out: 0.1541 - val_loss: 0.1985 - val_mae_in: 0.2287 - val_mae_out: 0.1683\n",
            "Epoch 75/300\n",
            "133/133 [==============================] - 27s 201ms/step - loss: 0.1658 - mae_in: 0.1775 - mae_out: 0.1541 - val_loss: 0.2069 - val_mae_in: 0.2407 - val_mae_out: 0.1732\n",
            "Epoch 76/300\n",
            "133/133 [==============================] - 27s 201ms/step - loss: 0.1654 - mae_in: 0.1765 - mae_out: 0.1544 - val_loss: 0.1875 - val_mae_in: 0.2108 - val_mae_out: 0.1642\n",
            "Epoch 77/300\n",
            "133/133 [==============================] - 27s 201ms/step - loss: 0.1737 - mae_in: 0.1943 - mae_out: 0.1531 - val_loss: 0.1917 - val_mae_in: 0.2212 - val_mae_out: 0.1623\n",
            "Epoch 78/300\n",
            "133/133 [==============================] - 27s 201ms/step - loss: 0.1539 - mae_in: 0.1580 - mae_out: 0.1498 - val_loss: 0.2017 - val_mae_in: 0.2361 - val_mae_out: 0.1672\n",
            "Epoch 79/300\n",
            "133/133 [==============================] - 27s 201ms/step - loss: 0.1572 - mae_in: 0.1637 - mae_out: 0.1508 - val_loss: 0.1901 - val_mae_in: 0.2156 - val_mae_out: 0.1647\n",
            "Epoch 80/300\n",
            "133/133 [==============================] - 27s 201ms/step - loss: 0.1512 - mae_in: 0.1540 - mae_out: 0.1483 - val_loss: 0.1877 - val_mae_in: 0.2147 - val_mae_out: 0.1607\n",
            "Epoch 81/300\n",
            "133/133 [==============================] - 27s 201ms/step - loss: 0.1554 - mae_in: 0.1603 - mae_out: 0.1505 - val_loss: 0.1941 - val_mae_in: 0.2236 - val_mae_out: 0.1646\n",
            "Epoch 82/300\n",
            "133/133 [==============================] - 27s 201ms/step - loss: 0.1615 - mae_in: 0.1722 - mae_out: 0.1508 - val_loss: 0.1876 - val_mae_in: 0.2040 - val_mae_out: 0.1713\n",
            "Epoch 83/300\n",
            "133/133 [==============================] - 27s 201ms/step - loss: 0.1514 - mae_in: 0.1546 - mae_out: 0.1482 - val_loss: 0.1930 - val_mae_in: 0.2189 - val_mae_out: 0.1672\n",
            "Epoch 84/300\n",
            "133/133 [==============================] - 27s 201ms/step - loss: 0.1549 - mae_in: 0.1598 - mae_out: 0.1500 - val_loss: 0.1817 - val_mae_in: 0.2016 - val_mae_out: 0.1619\n",
            "Epoch 85/300\n",
            "133/133 [==============================] - 27s 201ms/step - loss: 0.1489 - mae_in: 0.1522 - mae_out: 0.1457 - val_loss: 0.1881 - val_mae_in: 0.2165 - val_mae_out: 0.1598\n",
            "Epoch 86/300\n",
            "133/133 [==============================] - 27s 200ms/step - loss: 0.1483 - mae_in: 0.1511 - mae_out: 0.1456 - val_loss: 0.1887 - val_mae_in: 0.2067 - val_mae_out: 0.1707\n",
            "Epoch 87/300\n",
            "133/133 [==============================] - 27s 201ms/step - loss: 0.1456 - mae_in: 0.1469 - mae_out: 0.1442 - val_loss: 0.1796 - val_mae_in: 0.1995 - val_mae_out: 0.1598\n",
            "Epoch 88/300\n",
            "133/133 [==============================] - 27s 201ms/step - loss: 0.1467 - mae_in: 0.1482 - mae_out: 0.1453 - val_loss: 0.1778 - val_mae_in: 0.1951 - val_mae_out: 0.1605\n",
            "Epoch 89/300\n",
            "133/133 [==============================] - 27s 202ms/step - loss: 0.1422 - mae_in: 0.1418 - mae_out: 0.1426 - val_loss: 0.1876 - val_mae_in: 0.2124 - val_mae_out: 0.1628\n",
            "Epoch 90/300\n",
            "133/133 [==============================] - 27s 201ms/step - loss: 0.1438 - mae_in: 0.1440 - mae_out: 0.1435 - val_loss: 0.1865 - val_mae_in: 0.2117 - val_mae_out: 0.1612\n",
            "Epoch 91/300\n",
            "133/133 [==============================] - 27s 201ms/step - loss: 0.1580 - mae_in: 0.1688 - mae_out: 0.1472 - val_loss: 0.1866 - val_mae_in: 0.2102 - val_mae_out: 0.1629\n",
            "Epoch 92/300\n",
            "133/133 [==============================] - 27s 201ms/step - loss: 0.1447 - mae_in: 0.1462 - mae_out: 0.1432 - val_loss: 0.1787 - val_mae_in: 0.1952 - val_mae_out: 0.1622\n",
            "Epoch 93/300\n",
            "133/133 [==============================] - 27s 201ms/step - loss: 0.1428 - mae_in: 0.1441 - mae_out: 0.1415 - val_loss: 0.1813 - val_mae_in: 0.2016 - val_mae_out: 0.1611\n",
            "Epoch 94/300\n",
            "133/133 [==============================] - 27s 201ms/step - loss: 0.1416 - mae_in: 0.1424 - mae_out: 0.1407 - val_loss: 0.1813 - val_mae_in: 0.2022 - val_mae_out: 0.1603\n",
            "Epoch 95/300\n",
            "133/133 [==============================] - 27s 201ms/step - loss: 0.1412 - mae_in: 0.1410 - mae_out: 0.1414 - val_loss: 0.2006 - val_mae_in: 0.2401 - val_mae_out: 0.1610\n",
            "Epoch 96/300\n",
            "133/133 [==============================] - 27s 201ms/step - loss: 0.1377 - mae_in: 0.1368 - mae_out: 0.1386 - val_loss: 0.1766 - val_mae_in: 0.1913 - val_mae_out: 0.1619\n",
            "Epoch 97/300\n",
            "133/133 [==============================] - 27s 201ms/step - loss: 0.1402 - mae_in: 0.1402 - mae_out: 0.1402 - val_loss: 0.1803 - val_mae_in: 0.1957 - val_mae_out: 0.1648\n",
            "Epoch 98/300\n",
            "133/133 [==============================] - 27s 201ms/step - loss: 0.1486 - mae_in: 0.1547 - mae_out: 0.1426 - val_loss: 0.1894 - val_mae_in: 0.2163 - val_mae_out: 0.1626\n",
            "Epoch 99/300\n",
            "133/133 [==============================] - 27s 201ms/step - loss: 0.1553 - mae_in: 0.1652 - mae_out: 0.1453 - val_loss: 0.1876 - val_mae_in: 0.2116 - val_mae_out: 0.1637\n",
            "Epoch 100/300\n",
            "133/133 [==============================] - 27s 201ms/step - loss: 0.1453 - mae_in: 0.1497 - mae_out: 0.1409 - val_loss: 0.1832 - val_mae_in: 0.2064 - val_mae_out: 0.1601\n",
            "Epoch 101/300\n",
            "133/133 [==============================] - 27s 201ms/step - loss: 0.1457 - mae_in: 0.1514 - mae_out: 0.1401 - val_loss: 0.1854 - val_mae_in: 0.2083 - val_mae_out: 0.1625\n",
            "Epoch 102/300\n",
            "133/133 [==============================] - 27s 201ms/step - loss: 0.1495 - mae_in: 0.1554 - mae_out: 0.1436 - val_loss: 0.2145 - val_mae_in: 0.2618 - val_mae_out: 0.1673\n",
            "Epoch 103/300\n",
            "133/133 [==============================] - 27s 201ms/step - loss: 0.1460 - mae_in: 0.1506 - mae_out: 0.1413 - val_loss: 0.1863 - val_mae_in: 0.2092 - val_mae_out: 0.1634\n",
            "Epoch 104/300\n",
            "133/133 [==============================] - 27s 201ms/step - loss: 0.1491 - mae_in: 0.1562 - mae_out: 0.1419 - val_loss: 0.1830 - val_mae_in: 0.2065 - val_mae_out: 0.1595\n",
            "Epoch 105/300\n",
            "133/133 [==============================] - 27s 201ms/step - loss: 0.1408 - mae_in: 0.1441 - mae_out: 0.1376 - val_loss: 0.1834 - val_mae_in: 0.2060 - val_mae_out: 0.1608\n",
            "Epoch 106/300\n",
            "133/133 [==============================] - 27s 201ms/step - loss: 0.1413 - mae_in: 0.1451 - mae_out: 0.1376 - val_loss: 0.1772 - val_mae_in: 0.1945 - val_mae_out: 0.1600\n",
            "\n",
            "Epoch 00106: ReduceLROnPlateau reducing learning rate to 0.0006400000303983689.\n",
            "Epoch 107/300\n",
            "133/133 [==============================] - 27s 201ms/step - loss: 0.1259 - mae_in: 0.1198 - mae_out: 0.1320 - val_loss: 0.1681 - val_mae_in: 0.1800 - val_mae_out: 0.1563\n",
            "Epoch 108/300\n",
            "133/133 [==============================] - 27s 200ms/step - loss: 0.1206 - mae_in: 0.1126 - mae_out: 0.1287 - val_loss: 0.1690 - val_mae_in: 0.1816 - val_mae_out: 0.1564\n",
            "Epoch 109/300\n",
            "133/133 [==============================] - 27s 201ms/step - loss: 0.1197 - mae_in: 0.1118 - mae_out: 0.1276 - val_loss: 0.1705 - val_mae_in: 0.1837 - val_mae_out: 0.1572\n",
            "Epoch 110/300\n",
            "133/133 [==============================] - 27s 201ms/step - loss: 0.1184 - mae_in: 0.1105 - mae_out: 0.1263 - val_loss: 0.1706 - val_mae_in: 0.1839 - val_mae_out: 0.1573\n",
            "Epoch 111/300\n",
            "133/133 [==============================] - 27s 200ms/step - loss: 0.1219 - mae_in: 0.1154 - mae_out: 0.1284 - val_loss: 0.1709 - val_mae_in: 0.1840 - val_mae_out: 0.1579\n",
            "Epoch 112/300\n",
            "133/133 [==============================] - 27s 201ms/step - loss: 0.1196 - mae_in: 0.1134 - mae_out: 0.1257 - val_loss: 0.1670 - val_mae_in: 0.1777 - val_mae_out: 0.1562\n",
            "Epoch 113/300\n",
            "133/133 [==============================] - 27s 201ms/step - loss: 0.1184 - mae_in: 0.1112 - mae_out: 0.1256 - val_loss: 0.1707 - val_mae_in: 0.1843 - val_mae_out: 0.1572\n",
            "Epoch 114/300\n",
            "133/133 [==============================] - 27s 201ms/step - loss: 0.1156 - mae_in: 0.1068 - mae_out: 0.1244 - val_loss: 0.1703 - val_mae_in: 0.1794 - val_mae_out: 0.1613\n",
            "Epoch 115/300\n",
            "133/133 [==============================] - 27s 201ms/step - loss: 0.1149 - mae_in: 0.1071 - mae_out: 0.1226 - val_loss: 0.1697 - val_mae_in: 0.1818 - val_mae_out: 0.1575\n",
            "Epoch 116/300\n",
            "133/133 [==============================] - 27s 201ms/step - loss: 0.1141 - mae_in: 0.1039 - mae_out: 0.1242 - val_loss: 0.1684 - val_mae_in: 0.1794 - val_mae_out: 0.1575\n",
            "Epoch 117/300\n",
            "133/133 [==============================] - 27s 200ms/step - loss: 0.1174 - mae_in: 0.1126 - mae_out: 0.1222 - val_loss: 0.1672 - val_mae_in: 0.1785 - val_mae_out: 0.1559\n",
            "Epoch 118/300\n",
            "133/133 [==============================] - 27s 201ms/step - loss: 0.1125 - mae_in: 0.1038 - mae_out: 0.1212 - val_loss: 0.1690 - val_mae_in: 0.1815 - val_mae_out: 0.1565\n",
            "Epoch 119/300\n",
            "133/133 [==============================] - 27s 201ms/step - loss: 0.1130 - mae_in: 0.1063 - mae_out: 0.1197 - val_loss: 0.1668 - val_mae_in: 0.1754 - val_mae_out: 0.1582\n",
            "Epoch 120/300\n",
            "133/133 [==============================] - 27s 201ms/step - loss: 0.1122 - mae_in: 0.1045 - mae_out: 0.1199 - val_loss: 0.1659 - val_mae_in: 0.1744 - val_mae_out: 0.1573\n",
            "Epoch 121/300\n",
            "133/133 [==============================] - 27s 201ms/step - loss: 0.1102 - mae_in: 0.1005 - mae_out: 0.1200 - val_loss: 0.1719 - val_mae_in: 0.1857 - val_mae_out: 0.1581\n",
            "Epoch 122/300\n",
            "133/133 [==============================] - 27s 201ms/step - loss: 0.1096 - mae_in: 0.1006 - mae_out: 0.1187 - val_loss: 0.1723 - val_mae_in: 0.1841 - val_mae_out: 0.1606\n",
            "Epoch 123/300\n",
            "133/133 [==============================] - 27s 202ms/step - loss: 0.1100 - mae_in: 0.1019 - mae_out: 0.1180 - val_loss: 0.1770 - val_mae_in: 0.1962 - val_mae_out: 0.1579\n",
            "Epoch 124/300\n",
            "133/133 [==============================] - 27s 202ms/step - loss: 0.1122 - mae_in: 0.1050 - mae_out: 0.1193 - val_loss: 0.1659 - val_mae_in: 0.1742 - val_mae_out: 0.1575\n",
            "Epoch 125/300\n",
            "133/133 [==============================] - 27s 201ms/step - loss: 0.1089 - mae_in: 0.1006 - mae_out: 0.1172 - val_loss: 0.1694 - val_mae_in: 0.1773 - val_mae_out: 0.1616\n",
            "Epoch 126/300\n",
            "133/133 [==============================] - 27s 201ms/step - loss: 0.1098 - mae_in: 0.1037 - mae_out: 0.1160 - val_loss: 0.1669 - val_mae_in: 0.1770 - val_mae_out: 0.1568\n",
            "Epoch 127/300\n",
            "133/133 [==============================] - 27s 201ms/step - loss: 0.1064 - mae_in: 0.0974 - mae_out: 0.1154 - val_loss: 0.1701 - val_mae_in: 0.1817 - val_mae_out: 0.1585\n",
            "Epoch 128/300\n",
            "133/133 [==============================] - 27s 202ms/step - loss: 0.1057 - mae_in: 0.0975 - mae_out: 0.1139 - val_loss: 0.1696 - val_mae_in: 0.1803 - val_mae_out: 0.1589\n",
            "Epoch 129/300\n",
            "133/133 [==============================] - 27s 201ms/step - loss: 0.1057 - mae_in: 0.0974 - mae_out: 0.1141 - val_loss: 0.1799 - val_mae_in: 0.2008 - val_mae_out: 0.1590\n",
            "Epoch 130/300\n",
            "133/133 [==============================] - 27s 201ms/step - loss: 0.1117 - mae_in: 0.1095 - mae_out: 0.1139 - val_loss: 0.1785 - val_mae_in: 0.1974 - val_mae_out: 0.1596\n",
            "Epoch 131/300\n",
            "133/133 [==============================] - 27s 201ms/step - loss: 0.1081 - mae_in: 0.1030 - mae_out: 0.1132 - val_loss: 0.1683 - val_mae_in: 0.1800 - val_mae_out: 0.1567\n",
            "Epoch 132/300\n",
            "133/133 [==============================] - 27s 201ms/step - loss: 0.1088 - mae_in: 0.1050 - mae_out: 0.1125 - val_loss: 0.1995 - val_mae_in: 0.2353 - val_mae_out: 0.1637\n",
            "Epoch 133/300\n",
            "133/133 [==============================] - 27s 201ms/step - loss: 0.1148 - mae_in: 0.1177 - mae_out: 0.1119 - val_loss: 0.1675 - val_mae_in: 0.1723 - val_mae_out: 0.1626\n",
            "Epoch 134/300\n",
            "133/133 [==============================] - 27s 201ms/step - loss: 0.1010 - mae_in: 0.0908 - mae_out: 0.1113 - val_loss: 0.1681 - val_mae_in: 0.1788 - val_mae_out: 0.1574\n",
            "Epoch 135/300\n",
            "133/133 [==============================] - 27s 202ms/step - loss: 0.1005 - mae_in: 0.0905 - mae_out: 0.1105 - val_loss: 0.1636 - val_mae_in: 0.1696 - val_mae_out: 0.1575\n",
            "Epoch 136/300\n",
            "133/133 [==============================] - 27s 201ms/step - loss: 0.1019 - mae_in: 0.0930 - mae_out: 0.1108 - val_loss: 0.1679 - val_mae_in: 0.1736 - val_mae_out: 0.1622\n",
            "Epoch 137/300\n",
            "133/133 [==============================] - 27s 201ms/step - loss: 0.0998 - mae_in: 0.0912 - mae_out: 0.1085 - val_loss: 0.1694 - val_mae_in: 0.1792 - val_mae_out: 0.1596\n",
            "Epoch 138/300\n",
            "133/133 [==============================] - 27s 201ms/step - loss: 0.1023 - mae_in: 0.0953 - mae_out: 0.1094 - val_loss: 0.1654 - val_mae_in: 0.1723 - val_mae_out: 0.1585\n",
            "Epoch 139/300\n",
            "133/133 [==============================] - 27s 201ms/step - loss: 0.1039 - mae_in: 0.0960 - mae_out: 0.1118 - val_loss: 0.1719 - val_mae_in: 0.1823 - val_mae_out: 0.1616\n",
            "Epoch 140/300\n",
            "133/133 [==============================] - 27s 201ms/step - loss: 0.1027 - mae_in: 0.0945 - mae_out: 0.1109 - val_loss: 0.1679 - val_mae_in: 0.1776 - val_mae_out: 0.1582\n",
            "Epoch 141/300\n",
            "133/133 [==============================] - 27s 201ms/step - loss: 0.0999 - mae_in: 0.0925 - mae_out: 0.1073 - val_loss: 0.1658 - val_mae_in: 0.1731 - val_mae_out: 0.1584\n",
            "Epoch 142/300\n",
            "133/133 [==============================] - 27s 201ms/step - loss: 0.1013 - mae_in: 0.0959 - mae_out: 0.1066 - val_loss: 0.1662 - val_mae_in: 0.1736 - val_mae_out: 0.1589\n",
            "Epoch 143/300\n",
            "133/133 [==============================] - 27s 200ms/step - loss: 0.0981 - mae_in: 0.0892 - mae_out: 0.1069 - val_loss: 0.1671 - val_mae_in: 0.1755 - val_mae_out: 0.1588\n",
            "Epoch 144/300\n",
            "133/133 [==============================] - 27s 201ms/step - loss: 0.0981 - mae_in: 0.0910 - mae_out: 0.1051 - val_loss: 0.1667 - val_mae_in: 0.1751 - val_mae_out: 0.1583\n",
            "Epoch 145/300\n",
            "133/133 [==============================] - 27s 201ms/step - loss: 0.0986 - mae_in: 0.0915 - mae_out: 0.1056 - val_loss: 0.1693 - val_mae_in: 0.1787 - val_mae_out: 0.1600\n",
            "\n",
            "Epoch 00145: ReduceLROnPlateau reducing learning rate to 0.0005120000336319208.\n",
            "Epoch 146/300\n",
            "133/133 [==============================] - 27s 201ms/step - loss: 0.0897 - mae_in: 0.0798 - mae_out: 0.0996 - val_loss: 0.1624 - val_mae_in: 0.1668 - val_mae_out: 0.1580\n",
            "Epoch 147/300\n",
            "133/133 [==============================] - 27s 201ms/step - loss: 0.0881 - mae_in: 0.0785 - mae_out: 0.0977 - val_loss: 0.1653 - val_mae_in: 0.1700 - val_mae_out: 0.1605\n",
            "Epoch 148/300\n",
            "133/133 [==============================] - 27s 201ms/step - loss: 0.0865 - mae_in: 0.0765 - mae_out: 0.0966 - val_loss: 0.1614 - val_mae_in: 0.1645 - val_mae_out: 0.1582\n",
            "Epoch 149/300\n",
            "133/133 [==============================] - 27s 201ms/step - loss: 0.0870 - mae_in: 0.0776 - mae_out: 0.0965 - val_loss: 0.1653 - val_mae_in: 0.1718 - val_mae_out: 0.1588\n",
            "Epoch 150/300\n",
            "133/133 [==============================] - 27s 201ms/step - loss: 0.0869 - mae_in: 0.0778 - mae_out: 0.0961 - val_loss: 0.1627 - val_mae_in: 0.1665 - val_mae_out: 0.1589\n",
            "Epoch 151/300\n",
            "133/133 [==============================] - 27s 201ms/step - loss: 0.0854 - mae_in: 0.0755 - mae_out: 0.0953 - val_loss: 0.1669 - val_mae_in: 0.1747 - val_mae_out: 0.1591\n",
            "Epoch 152/300\n",
            "133/133 [==============================] - 27s 201ms/step - loss: 0.0874 - mae_in: 0.0790 - mae_out: 0.0959 - val_loss: 0.1622 - val_mae_in: 0.1662 - val_mae_out: 0.1583\n",
            "Epoch 153/300\n",
            "133/133 [==============================] - 27s 201ms/step - loss: 0.0870 - mae_in: 0.0787 - mae_out: 0.0952 - val_loss: 0.1673 - val_mae_in: 0.1740 - val_mae_out: 0.1606\n",
            "Epoch 154/300\n",
            "133/133 [==============================] - 27s 201ms/step - loss: 0.0857 - mae_in: 0.0778 - mae_out: 0.0936 - val_loss: 0.1651 - val_mae_in: 0.1717 - val_mae_out: 0.1586\n",
            "Epoch 155/300\n",
            "133/133 [==============================] - 27s 201ms/step - loss: 0.0835 - mae_in: 0.0739 - mae_out: 0.0932 - val_loss: 0.1624 - val_mae_in: 0.1653 - val_mae_out: 0.1594\n",
            "Epoch 156/300\n",
            "133/133 [==============================] - 27s 201ms/step - loss: 0.0846 - mae_in: 0.0764 - mae_out: 0.0928 - val_loss: 0.1648 - val_mae_in: 0.1700 - val_mae_out: 0.1596\n",
            "Epoch 157/300\n",
            "133/133 [==============================] - 27s 201ms/step - loss: 0.0835 - mae_in: 0.0754 - mae_out: 0.0915 - val_loss: 0.1622 - val_mae_in: 0.1648 - val_mae_out: 0.1597\n",
            "Epoch 158/300\n",
            "133/133 [==============================] - 27s 201ms/step - loss: 0.0841 - mae_in: 0.0763 - mae_out: 0.0920 - val_loss: 0.1627 - val_mae_in: 0.1653 - val_mae_out: 0.1600\n",
            "\n",
            "Epoch 00158: ReduceLROnPlateau reducing learning rate to 0.00040960004553198815.\n",
            "Epoch 159/300\n",
            "133/133 [==============================] - 27s 201ms/step - loss: 0.0774 - mae_in: 0.0673 - mae_out: 0.0875 - val_loss: 0.1616 - val_mae_in: 0.1640 - val_mae_out: 0.1592\n",
            "Epoch 160/300\n",
            "133/133 [==============================] - 27s 201ms/step - loss: 0.0764 - mae_in: 0.0662 - mae_out: 0.0866 - val_loss: 0.1604 - val_mae_in: 0.1624 - val_mae_out: 0.1584\n",
            "Epoch 161/300\n",
            "133/133 [==============================] - 27s 201ms/step - loss: 0.0765 - mae_in: 0.0673 - mae_out: 0.0858 - val_loss: 0.1609 - val_mae_in: 0.1630 - val_mae_out: 0.1589\n",
            "Epoch 162/300\n",
            "133/133 [==============================] - 27s 201ms/step - loss: 0.0753 - mae_in: 0.0655 - mae_out: 0.0852 - val_loss: 0.1617 - val_mae_in: 0.1641 - val_mae_out: 0.1593\n",
            "Epoch 163/300\n",
            "133/133 [==============================] - 27s 201ms/step - loss: 0.0760 - mae_in: 0.0666 - mae_out: 0.0853 - val_loss: 0.1614 - val_mae_in: 0.1631 - val_mae_out: 0.1597\n",
            "Epoch 164/300\n",
            "133/133 [==============================] - 27s 201ms/step - loss: 0.0750 - mae_in: 0.0655 - mae_out: 0.0845 - val_loss: 0.1619 - val_mae_in: 0.1638 - val_mae_out: 0.1600\n",
            "Epoch 165/300\n",
            "133/133 [==============================] - 27s 201ms/step - loss: 0.0753 - mae_in: 0.0666 - mae_out: 0.0841 - val_loss: 0.1620 - val_mae_in: 0.1653 - val_mae_out: 0.1586\n",
            "Epoch 166/300\n",
            "133/133 [==============================] - 27s 201ms/step - loss: 0.0748 - mae_in: 0.0653 - mae_out: 0.0842 - val_loss: 0.1652 - val_mae_in: 0.1698 - val_mae_out: 0.1606\n",
            "Epoch 167/300\n",
            "133/133 [==============================] - 27s 201ms/step - loss: 0.0747 - mae_in: 0.0651 - mae_out: 0.0843 - val_loss: 0.1620 - val_mae_in: 0.1632 - val_mae_out: 0.1608\n",
            "Epoch 168/300\n",
            "133/133 [==============================] - 27s 201ms/step - loss: 0.0734 - mae_in: 0.0636 - mae_out: 0.0832 - val_loss: 0.1621 - val_mae_in: 0.1641 - val_mae_out: 0.1601\n",
            "Epoch 169/300\n",
            "133/133 [==============================] - 27s 201ms/step - loss: 0.0725 - mae_in: 0.0633 - mae_out: 0.0818 - val_loss: 0.1639 - val_mae_in: 0.1654 - val_mae_out: 0.1623\n",
            "Epoch 170/300\n",
            "133/133 [==============================] - 27s 202ms/step - loss: 0.0728 - mae_in: 0.0640 - mae_out: 0.0817 - val_loss: 0.1615 - val_mae_in: 0.1637 - val_mae_out: 0.1593\n",
            "\n",
            "Epoch 00170: ReduceLROnPlateau reducing learning rate to 0.00032768002711236477.\n",
            "Epoch 171/300\n",
            "133/133 [==============================] - 27s 201ms/step - loss: 0.0679 - mae_in: 0.0572 - mae_out: 0.0785 - val_loss: 0.1602 - val_mae_in: 0.1611 - val_mae_out: 0.1593\n",
            "Epoch 172/300\n",
            "133/133 [==============================] - 27s 201ms/step - loss: 0.0660 - mae_in: 0.0554 - mae_out: 0.0765 - val_loss: 0.1611 - val_mae_in: 0.1624 - val_mae_out: 0.1598\n",
            "Epoch 173/300\n",
            "133/133 [==============================] - 27s 201ms/step - loss: 0.0665 - mae_in: 0.0564 - mae_out: 0.0766 - val_loss: 0.1599 - val_mae_in: 0.1602 - val_mae_out: 0.1597\n",
            "Epoch 174/300\n",
            "133/133 [==============================] - 27s 201ms/step - loss: 0.0672 - mae_in: 0.0578 - mae_out: 0.0765 - val_loss: 0.1610 - val_mae_in: 0.1620 - val_mae_out: 0.1600\n",
            "Epoch 175/300\n",
            "133/133 [==============================] - 27s 201ms/step - loss: 0.0666 - mae_in: 0.0569 - mae_out: 0.0763 - val_loss: 0.1606 - val_mae_in: 0.1609 - val_mae_out: 0.1603\n",
            "Epoch 176/300\n",
            "133/133 [==============================] - 27s 200ms/step - loss: 0.0657 - mae_in: 0.0557 - mae_out: 0.0756 - val_loss: 0.1610 - val_mae_in: 0.1621 - val_mae_out: 0.1600\n",
            "Epoch 177/300\n",
            "133/133 [==============================] - 27s 201ms/step - loss: 0.0653 - mae_in: 0.0553 - mae_out: 0.0753 - val_loss: 0.1619 - val_mae_in: 0.1628 - val_mae_out: 0.1610\n",
            "Epoch 178/300\n",
            "133/133 [==============================] - 27s 201ms/step - loss: 0.0653 - mae_in: 0.0557 - mae_out: 0.0748 - val_loss: 0.1611 - val_mae_in: 0.1621 - val_mae_out: 0.1601\n",
            "Epoch 179/300\n",
            "133/133 [==============================] - 27s 201ms/step - loss: 0.0653 - mae_in: 0.0559 - mae_out: 0.0748 - val_loss: 0.1604 - val_mae_in: 0.1595 - val_mae_out: 0.1613\n",
            "Epoch 180/300\n",
            "133/133 [==============================] - 27s 201ms/step - loss: 0.0650 - mae_in: 0.0556 - mae_out: 0.0744 - val_loss: 0.1608 - val_mae_in: 0.1615 - val_mae_out: 0.1601\n",
            "Epoch 181/300\n",
            "133/133 [==============================] - 27s 201ms/step - loss: 0.0652 - mae_in: 0.0562 - mae_out: 0.0742 - val_loss: 0.1612 - val_mae_in: 0.1610 - val_mae_out: 0.1614\n",
            "Epoch 182/300\n",
            "133/133 [==============================] - 27s 202ms/step - loss: 0.0640 - mae_in: 0.0545 - mae_out: 0.0735 - val_loss: 0.1618 - val_mae_in: 0.1629 - val_mae_out: 0.1606\n",
            "Epoch 183/300\n",
            "133/133 [==============================] - 27s 201ms/step - loss: 0.0647 - mae_in: 0.0555 - mae_out: 0.0739 - val_loss: 0.1625 - val_mae_in: 0.1629 - val_mae_out: 0.1620\n",
            "Epoch 184/300\n",
            "133/133 [==============================] - 27s 201ms/step - loss: 0.0638 - mae_in: 0.0549 - mae_out: 0.0728 - val_loss: 0.1627 - val_mae_in: 0.1647 - val_mae_out: 0.1606\n",
            "Epoch 185/300\n",
            "133/133 [==============================] - 27s 201ms/step - loss: 0.0651 - mae_in: 0.0571 - mae_out: 0.0730 - val_loss: 0.1615 - val_mae_in: 0.1619 - val_mae_out: 0.1611\n",
            "Epoch 186/300\n",
            "133/133 [==============================] - 27s 201ms/step - loss: 0.0632 - mae_in: 0.0546 - mae_out: 0.0718 - val_loss: 0.1608 - val_mae_in: 0.1608 - val_mae_out: 0.1608\n",
            "Epoch 187/300\n",
            "133/133 [==============================] - 27s 201ms/step - loss: 0.0629 - mae_in: 0.0543 - mae_out: 0.0716 - val_loss: 0.1605 - val_mae_in: 0.1603 - val_mae_out: 0.1608\n",
            "Epoch 188/300\n",
            "133/133 [==============================] - 27s 201ms/step - loss: 0.0619 - mae_in: 0.0529 - mae_out: 0.0710 - val_loss: 0.1607 - val_mae_in: 0.1600 - val_mae_out: 0.1615\n",
            "Epoch 189/300\n",
            "133/133 [==============================] - 27s 201ms/step - loss: 0.0618 - mae_in: 0.0530 - mae_out: 0.0707 - val_loss: 0.1622 - val_mae_in: 0.1630 - val_mae_out: 0.1614\n",
            "\n",
            "Epoch 00189: ReduceLROnPlateau reducing learning rate to 0.0002621440216898918.\n",
            "Epoch 190/300\n",
            "133/133 [==============================] - 27s 201ms/step - loss: 0.0588 - mae_in: 0.0491 - mae_out: 0.0684 - val_loss: 0.1597 - val_mae_in: 0.1587 - val_mae_out: 0.1606\n",
            "Epoch 191/300\n",
            "133/133 [==============================] - 27s 201ms/step - loss: 0.0574 - mae_in: 0.0476 - mae_out: 0.0671 - val_loss: 0.1600 - val_mae_in: 0.1593 - val_mae_out: 0.1607\n",
            "Epoch 192/300\n",
            "133/133 [==============================] - 27s 201ms/step - loss: 0.0572 - mae_in: 0.0477 - mae_out: 0.0667 - val_loss: 0.1604 - val_mae_in: 0.1594 - val_mae_out: 0.1614\n",
            "Epoch 193/300\n",
            "133/133 [==============================] - 27s 201ms/step - loss: 0.0570 - mae_in: 0.0473 - mae_out: 0.0667 - val_loss: 0.1602 - val_mae_in: 0.1594 - val_mae_out: 0.1611\n",
            "Epoch 194/300\n",
            "133/133 [==============================] - 27s 201ms/step - loss: 0.0587 - mae_in: 0.0496 - mae_out: 0.0677 - val_loss: 0.1606 - val_mae_in: 0.1597 - val_mae_out: 0.1615\n",
            "Epoch 195/300\n",
            "133/133 [==============================] - 27s 201ms/step - loss: 0.0593 - mae_in: 0.0485 - mae_out: 0.0701 - val_loss: 0.1602 - val_mae_in: 0.1594 - val_mae_out: 0.1611\n",
            "Epoch 196/300\n",
            "133/133 [==============================] - 27s 202ms/step - loss: 0.0575 - mae_in: 0.0478 - mae_out: 0.0671 - val_loss: 0.1607 - val_mae_in: 0.1601 - val_mae_out: 0.1613\n",
            "Epoch 197/300\n",
            "133/133 [==============================] - 27s 201ms/step - loss: 0.0570 - mae_in: 0.0477 - mae_out: 0.0662 - val_loss: 0.1609 - val_mae_in: 0.1602 - val_mae_out: 0.1616\n",
            "Epoch 198/300\n",
            "133/133 [==============================] - 27s 201ms/step - loss: 0.0574 - mae_in: 0.0485 - mae_out: 0.0663 - val_loss: 0.1612 - val_mae_in: 0.1605 - val_mae_out: 0.1618\n",
            "Epoch 199/300\n",
            "133/133 [==============================] - 27s 201ms/step - loss: 0.0564 - mae_in: 0.0472 - mae_out: 0.0656 - val_loss: 0.1600 - val_mae_in: 0.1585 - val_mae_out: 0.1614\n",
            "Epoch 200/300\n",
            "133/133 [==============================] - 27s 201ms/step - loss: 0.0562 - mae_in: 0.0468 - mae_out: 0.0656 - val_loss: 0.1614 - val_mae_in: 0.1608 - val_mae_out: 0.1619\n",
            "Epoch 201/300\n",
            "133/133 [==============================] - 27s 201ms/step - loss: 0.0564 - mae_in: 0.0478 - mae_out: 0.0650 - val_loss: 0.1605 - val_mae_in: 0.1595 - val_mae_out: 0.1615\n",
            "Epoch 202/300\n",
            "133/133 [==============================] - 27s 201ms/step - loss: 0.0551 - mae_in: 0.0462 - mae_out: 0.0641 - val_loss: 0.1631 - val_mae_in: 0.1641 - val_mae_out: 0.1622\n",
            "Epoch 203/300\n",
            "133/133 [==============================] - 27s 201ms/step - loss: 0.0563 - mae_in: 0.0484 - mae_out: 0.0643 - val_loss: 0.1608 - val_mae_in: 0.1595 - val_mae_out: 0.1621\n",
            "Epoch 204/300\n",
            "133/133 [==============================] - 27s 201ms/step - loss: 0.0547 - mae_in: 0.0457 - mae_out: 0.0636 - val_loss: 0.1601 - val_mae_in: 0.1586 - val_mae_out: 0.1616\n",
            "Epoch 205/300\n",
            "133/133 [==============================] - 27s 202ms/step - loss: 0.0555 - mae_in: 0.0477 - mae_out: 0.0633 - val_loss: 0.1606 - val_mae_in: 0.1590 - val_mae_out: 0.1622\n",
            "Epoch 206/300\n",
            "133/133 [==============================] - 27s 201ms/step - loss: 0.0545 - mae_in: 0.0459 - mae_out: 0.0630 - val_loss: 0.1609 - val_mae_in: 0.1598 - val_mae_out: 0.1621\n",
            "Epoch 207/300\n",
            "133/133 [==============================] - 27s 201ms/step - loss: 0.0545 - mae_in: 0.0461 - mae_out: 0.0628 - val_loss: 0.1608 - val_mae_in: 0.1594 - val_mae_out: 0.1622\n",
            "Epoch 208/300\n",
            "133/133 [==============================] - 27s 201ms/step - loss: 0.0542 - mae_in: 0.0456 - mae_out: 0.0628 - val_loss: 0.1608 - val_mae_in: 0.1592 - val_mae_out: 0.1625\n",
            "Epoch 209/300\n",
            "133/133 [==============================] - 27s 201ms/step - loss: 0.0541 - mae_in: 0.0458 - mae_out: 0.0624 - val_loss: 0.1606 - val_mae_in: 0.1591 - val_mae_out: 0.1620\n",
            "\n",
            "Epoch 00209: ReduceLROnPlateau reducing learning rate to 0.00020971521735191345.\n",
            "Epoch 210/300\n",
            "133/133 [==============================] - 27s 201ms/step - loss: 0.0513 - mae_in: 0.0422 - mae_out: 0.0604 - val_loss: 0.1599 - val_mae_in: 0.1579 - val_mae_out: 0.1618\n",
            "Epoch 211/300\n",
            "133/133 [==============================] - 27s 201ms/step - loss: 0.0506 - mae_in: 0.0415 - mae_out: 0.0597 - val_loss: 0.1604 - val_mae_in: 0.1587 - val_mae_out: 0.1621\n",
            "Epoch 212/300\n",
            "133/133 [==============================] - 27s 201ms/step - loss: 0.0505 - mae_in: 0.0417 - mae_out: 0.0594 - val_loss: 0.1609 - val_mae_in: 0.1595 - val_mae_out: 0.1624\n",
            "Epoch 213/300\n",
            "133/133 [==============================] - 27s 205ms/step - loss: 0.0504 - mae_in: 0.0417 - mae_out: 0.0592 - val_loss: 0.1603 - val_mae_in: 0.1583 - val_mae_out: 0.1622\n",
            "Epoch 214/300\n",
            "133/133 [==============================] - 27s 201ms/step - loss: 0.0506 - mae_in: 0.0420 - mae_out: 0.0591 - val_loss: 0.1617 - val_mae_in: 0.1597 - val_mae_out: 0.1638\n",
            "Epoch 215/300\n",
            "133/133 [==============================] - 27s 201ms/step - loss: 0.0505 - mae_in: 0.0420 - mae_out: 0.0589 - val_loss: 0.1605 - val_mae_in: 0.1587 - val_mae_out: 0.1623\n",
            "Epoch 216/300\n",
            "133/133 [==============================] - 27s 202ms/step - loss: 0.0504 - mae_in: 0.0420 - mae_out: 0.0588 - val_loss: 0.1606 - val_mae_in: 0.1584 - val_mae_out: 0.1628\n",
            "Epoch 217/300\n",
            "133/133 [==============================] - 27s 201ms/step - loss: 0.0499 - mae_in: 0.0413 - mae_out: 0.0584 - val_loss: 0.1606 - val_mae_in: 0.1586 - val_mae_out: 0.1626\n",
            "Epoch 218/300\n",
            "133/133 [==============================] - 27s 201ms/step - loss: 0.0497 - mae_in: 0.0411 - mae_out: 0.0583 - val_loss: 0.1610 - val_mae_in: 0.1591 - val_mae_out: 0.1630\n",
            "Epoch 219/300\n",
            "133/133 [==============================] - 27s 201ms/step - loss: 0.0500 - mae_in: 0.0418 - mae_out: 0.0582 - val_loss: 0.1612 - val_mae_in: 0.1590 - val_mae_out: 0.1635\n",
            "Epoch 220/300\n",
            "133/133 [==============================] - 27s 201ms/step - loss: 0.0492 - mae_in: 0.0406 - mae_out: 0.0579 - val_loss: 0.1609 - val_mae_in: 0.1587 - val_mae_out: 0.1631\n",
            "\n",
            "Epoch 00220: ReduceLROnPlateau reducing learning rate to 0.00016777217388153076.\n",
            "Epoch 221/300\n",
            "133/133 [==============================] - 27s 201ms/step - loss: 0.0475 - mae_in: 0.0386 - mae_out: 0.0563 - val_loss: 0.1602 - val_mae_in: 0.1574 - val_mae_out: 0.1630\n",
            "Epoch 222/300\n",
            "133/133 [==============================] - 27s 201ms/step - loss: 0.0467 - mae_in: 0.0378 - mae_out: 0.0556 - val_loss: 0.1604 - val_mae_in: 0.1583 - val_mae_out: 0.1626\n",
            "Epoch 223/300\n",
            "133/133 [==============================] - 27s 201ms/step - loss: 0.0467 - mae_in: 0.0380 - mae_out: 0.0554 - val_loss: 0.1603 - val_mae_in: 0.1578 - val_mae_out: 0.1628\n",
            "Epoch 224/300\n",
            "133/133 [==============================] - 27s 201ms/step - loss: 0.0468 - mae_in: 0.0383 - mae_out: 0.0552 - val_loss: 0.1608 - val_mae_in: 0.1589 - val_mae_out: 0.1627\n",
            "Epoch 225/300\n",
            "133/133 [==============================] - 27s 201ms/step - loss: 0.0465 - mae_in: 0.0376 - mae_out: 0.0554 - val_loss: 0.1606 - val_mae_in: 0.1583 - val_mae_out: 0.1629\n",
            "Epoch 226/300\n",
            "133/133 [==============================] - 27s 201ms/step - loss: 0.0464 - mae_in: 0.0378 - mae_out: 0.0550 - val_loss: 0.1612 - val_mae_in: 0.1589 - val_mae_out: 0.1636\n",
            "Epoch 227/300\n",
            "133/133 [==============================] - 27s 201ms/step - loss: 0.0467 - mae_in: 0.0384 - mae_out: 0.0550 - val_loss: 0.1606 - val_mae_in: 0.1580 - val_mae_out: 0.1632\n",
            "Epoch 228/300\n",
            "133/133 [==============================] - 27s 201ms/step - loss: 0.0461 - mae_in: 0.0375 - mae_out: 0.0547 - val_loss: 0.1609 - val_mae_in: 0.1580 - val_mae_out: 0.1637\n",
            "Epoch 229/300\n",
            "133/133 [==============================] - 27s 201ms/step - loss: 0.0462 - mae_in: 0.0376 - mae_out: 0.0547 - val_loss: 0.1606 - val_mae_in: 0.1582 - val_mae_out: 0.1630\n",
            "Epoch 230/300\n",
            "133/133 [==============================] - 27s 201ms/step - loss: 0.0461 - mae_in: 0.0375 - mae_out: 0.0547 - val_loss: 0.1609 - val_mae_in: 0.1586 - val_mae_out: 0.1632\n",
            "Epoch 231/300\n",
            "133/133 [==============================] - 27s 201ms/step - loss: 0.0464 - mae_in: 0.0383 - mae_out: 0.0545 - val_loss: 0.1609 - val_mae_in: 0.1585 - val_mae_out: 0.1633\n",
            "\n",
            "Epoch 00231: ReduceLROnPlateau reducing learning rate to 0.00013421773910522462.\n",
            "Epoch 232/300\n",
            "133/133 [==============================] - 27s 201ms/step - loss: 0.0443 - mae_in: 0.0356 - mae_out: 0.0531 - val_loss: 0.1604 - val_mae_in: 0.1574 - val_mae_out: 0.1634\n",
            "Epoch 233/300\n",
            "133/133 [==============================] - 27s 201ms/step - loss: 0.0437 - mae_in: 0.0349 - mae_out: 0.0524 - val_loss: 0.1603 - val_mae_in: 0.1573 - val_mae_out: 0.1632\n",
            "Epoch 234/300\n",
            "133/133 [==============================] - 27s 201ms/step - loss: 0.0438 - mae_in: 0.0350 - mae_out: 0.0525 - val_loss: 0.1606 - val_mae_in: 0.1577 - val_mae_out: 0.1635\n",
            "Epoch 235/300\n",
            "133/133 [==============================] - 27s 201ms/step - loss: 0.0437 - mae_in: 0.0351 - mae_out: 0.0524 - val_loss: 0.1607 - val_mae_in: 0.1580 - val_mae_out: 0.1634\n",
            "Epoch 236/300\n",
            "133/133 [==============================] - 27s 201ms/step - loss: 0.0435 - mae_in: 0.0349 - mae_out: 0.0521 - val_loss: 0.1604 - val_mae_in: 0.1573 - val_mae_out: 0.1635\n",
            "Epoch 237/300\n",
            "133/133 [==============================] - 27s 201ms/step - loss: 0.0434 - mae_in: 0.0349 - mae_out: 0.0520 - val_loss: 0.1609 - val_mae_in: 0.1582 - val_mae_out: 0.1636\n",
            "Epoch 238/300\n",
            "133/133 [==============================] - 27s 201ms/step - loss: 0.0438 - mae_in: 0.0354 - mae_out: 0.0521 - val_loss: 0.1607 - val_mae_in: 0.1578 - val_mae_out: 0.1636\n",
            "Epoch 239/300\n",
            "133/133 [==============================] - 27s 202ms/step - loss: 0.0435 - mae_in: 0.0351 - mae_out: 0.0518 - val_loss: 0.1607 - val_mae_in: 0.1576 - val_mae_out: 0.1638\n",
            "Epoch 240/300\n",
            "133/133 [==============================] - 27s 201ms/step - loss: 0.0434 - mae_in: 0.0352 - mae_out: 0.0517 - val_loss: 0.1611 - val_mae_in: 0.1579 - val_mae_out: 0.1642\n",
            "Epoch 241/300\n",
            "133/133 [==============================] - 27s 201ms/step - loss: 0.0433 - mae_in: 0.0351 - mae_out: 0.0516 - val_loss: 0.1610 - val_mae_in: 0.1581 - val_mae_out: 0.1640\n",
            "Epoch 242/300\n",
            "133/133 [==============================] - 27s 200ms/step - loss: 0.0433 - mae_in: 0.0352 - mae_out: 0.0514 - val_loss: 0.1607 - val_mae_in: 0.1577 - val_mae_out: 0.1636\n",
            "Epoch 243/300\n",
            "133/133 [==============================] - 27s 201ms/step - loss: 0.0428 - mae_in: 0.0345 - mae_out: 0.0510 - val_loss: 0.1609 - val_mae_in: 0.1579 - val_mae_out: 0.1639\n",
            "\n",
            "Epoch 00243: ReduceLROnPlateau reducing learning rate to 0.00010737419361248613.\n",
            "Epoch 244/300\n",
            "133/133 [==============================] - 27s 201ms/step - loss: 0.0418 - mae_in: 0.0332 - mae_out: 0.0503 - val_loss: 0.1607 - val_mae_in: 0.1576 - val_mae_out: 0.1639\n",
            "Epoch 245/300\n",
            "133/133 [==============================] - 27s 200ms/step - loss: 0.0413 - mae_in: 0.0327 - mae_out: 0.0499 - val_loss: 0.1606 - val_mae_in: 0.1573 - val_mae_out: 0.1639\n",
            "Epoch 246/300\n",
            "133/133 [==============================] - 27s 201ms/step - loss: 0.0413 - mae_in: 0.0329 - mae_out: 0.0497 - val_loss: 0.1609 - val_mae_in: 0.1574 - val_mae_out: 0.1643\n",
            "Epoch 247/300\n",
            "133/133 [==============================] - 27s 201ms/step - loss: 0.0412 - mae_in: 0.0329 - mae_out: 0.0495 - val_loss: 0.1608 - val_mae_in: 0.1576 - val_mae_out: 0.1640\n",
            "Epoch 248/300\n",
            "133/133 [==============================] - 27s 201ms/step - loss: 0.0412 - mae_in: 0.0329 - mae_out: 0.0494 - val_loss: 0.1608 - val_mae_in: 0.1575 - val_mae_out: 0.1641\n",
            "Epoch 249/300\n",
            "133/133 [==============================] - 27s 201ms/step - loss: 0.0411 - mae_in: 0.0329 - mae_out: 0.0494 - val_loss: 0.1607 - val_mae_in: 0.1574 - val_mae_out: 0.1640\n",
            "Epoch 250/300\n",
            "133/133 [==============================] - 27s 201ms/step - loss: 0.0411 - mae_in: 0.0331 - mae_out: 0.0491 - val_loss: 0.1609 - val_mae_in: 0.1575 - val_mae_out: 0.1643\n",
            "Epoch 251/300\n",
            "133/133 [==============================] - 27s 201ms/step - loss: 0.0411 - mae_in: 0.0331 - mae_out: 0.0491 - val_loss: 0.1611 - val_mae_in: 0.1578 - val_mae_out: 0.1644\n",
            "Epoch 252/300\n",
            "133/133 [==============================] - 27s 201ms/step - loss: 0.0410 - mae_in: 0.0330 - mae_out: 0.0490 - val_loss: 0.1611 - val_mae_in: 0.1579 - val_mae_out: 0.1643\n",
            "Epoch 253/300\n",
            "133/133 [==============================] - 27s 200ms/step - loss: 0.0407 - mae_in: 0.0327 - mae_out: 0.0488 - val_loss: 0.1610 - val_mae_in: 0.1577 - val_mae_out: 0.1642\n",
            "\n",
            "Epoch 00253: ReduceLROnPlateau reducing learning rate to 0.0001.\n",
            "Epoch 254/300\n",
            "133/133 [==============================] - 27s 201ms/step - loss: 0.0403 - mae_in: 0.0321 - mae_out: 0.0485 - val_loss: 0.1609 - val_mae_in: 0.1575 - val_mae_out: 0.1642\n",
            "Epoch 255/300\n",
            "133/133 [==============================] - 27s 201ms/step - loss: 0.0403 - mae_in: 0.0322 - mae_out: 0.0484 - val_loss: 0.1609 - val_mae_in: 0.1577 - val_mae_out: 0.1641\n",
            "Epoch 256/300\n",
            "133/133 [==============================] - 27s 201ms/step - loss: 0.0399 - mae_in: 0.0316 - mae_out: 0.0483 - val_loss: 0.1613 - val_mae_in: 0.1581 - val_mae_out: 0.1645\n",
            "Epoch 257/300\n",
            "133/133 [==============================] - 27s 201ms/step - loss: 0.0401 - mae_in: 0.0321 - mae_out: 0.0481 - val_loss: 0.1613 - val_mae_in: 0.1581 - val_mae_out: 0.1646\n",
            "Epoch 258/300\n",
            "133/133 [==============================] - 27s 201ms/step - loss: 0.0398 - mae_in: 0.0317 - mae_out: 0.0480 - val_loss: 0.1608 - val_mae_in: 0.1573 - val_mae_out: 0.1643\n",
            "Epoch 259/300\n",
            "133/133 [==============================] - 27s 201ms/step - loss: 0.0398 - mae_in: 0.0317 - mae_out: 0.0479 - val_loss: 0.1613 - val_mae_in: 0.1581 - val_mae_out: 0.1645\n",
            "Epoch 260/300\n",
            "133/133 [==============================] - 27s 201ms/step - loss: 0.0399 - mae_in: 0.0320 - mae_out: 0.0478 - val_loss: 0.1615 - val_mae_in: 0.1584 - val_mae_out: 0.1646\n",
            "Epoch 261/300\n",
            "133/133 [==============================] - 27s 201ms/step - loss: 0.0400 - mae_in: 0.0323 - mae_out: 0.0477 - val_loss: 0.1614 - val_mae_in: 0.1578 - val_mae_out: 0.1649\n",
            "Epoch 262/300\n",
            "133/133 [==============================] - 27s 201ms/step - loss: 0.0397 - mae_in: 0.0317 - mae_out: 0.0477 - val_loss: 0.1610 - val_mae_in: 0.1575 - val_mae_out: 0.1646\n",
            "Epoch 263/300\n",
            "133/133 [==============================] - 27s 201ms/step - loss: 0.0398 - mae_in: 0.0318 - mae_out: 0.0477 - val_loss: 0.1614 - val_mae_in: 0.1581 - val_mae_out: 0.1647\n",
            "Epoch 264/300\n",
            "133/133 [==============================] - 27s 201ms/step - loss: 0.0396 - mae_in: 0.0319 - mae_out: 0.0474 - val_loss: 0.1613 - val_mae_in: 0.1579 - val_mae_out: 0.1648\n",
            "Epoch 265/300\n",
            "133/133 [==============================] - 27s 201ms/step - loss: 0.0394 - mae_in: 0.0316 - mae_out: 0.0472 - val_loss: 0.1612 - val_mae_in: 0.1576 - val_mae_out: 0.1648\n",
            "Epoch 266/300\n",
            "133/133 [==============================] - 27s 201ms/step - loss: 0.0392 - mae_in: 0.0313 - mae_out: 0.0471 - val_loss: 0.1615 - val_mae_in: 0.1580 - val_mae_out: 0.1649\n",
            "Epoch 267/300\n",
            "133/133 [==============================] - 27s 201ms/step - loss: 0.0392 - mae_in: 0.0313 - mae_out: 0.0472 - val_loss: 0.1614 - val_mae_in: 0.1577 - val_mae_out: 0.1651\n",
            "Epoch 268/300\n",
            "133/133 [==============================] - 27s 202ms/step - loss: 0.0392 - mae_in: 0.0314 - mae_out: 0.0469 - val_loss: 0.1612 - val_mae_in: 0.1575 - val_mae_out: 0.1649\n",
            "Restoring model weights from the end of the best epoch.\n",
            "Epoch 00268: early stopping\n"
          ]
        },
        {
          "output_type": "display_data",
          "data": {
            "image/png": "[encoded data removed]",
            "text/plain": [
              "<Figure size 1728x360 with 2 Axes>"
            ]
          },
          "metadata": {
            "needs_background": "light"
          }
        },
        {
          "output_type": "display_data",
          "data": {
            "image/png": "[encoded data removed]",
            "text/plain": [
              "<Figure size 1728x360 with 2 Axes>"
            ]
          },
          "metadata": {
            "needs_background": "light"
          }
        },
        {
          "output_type": "stream",
          "name": "stdout",
          "text": [
            "Fold9 mae: 0.15774109959602356\n"
          ]
        }
      ]
    },
    {
      "cell_type": "markdown",
      "metadata": {
        "id": "m7MFZAg0cEqZ"
      },
      "source": [
        "Scheduler EXPS:\n",
        "- **CyclicalLearningRate(1e-4 -> 1e-3, 0.8)** - epoch: 160 - loss: 0.0885 - mae_in: 0.0715 - mae_out: 0.1056 - val_loss: 0.1649 - val_mae_in: 0.1702 - val_mae_out: 0.1596\n",
        "- **CyclicalLearningRate(1e-5 -> 1e-3, 0.8)** - epoch: 220 - loss: 0.0741 - mae_in: 0.0525 - mae_out: 0.0957 - val_loss: 0.1665 - val_mae_in: 0.1714 - val_mae_out: 0.1616\n",
        "- **CyclicalLearningRate(1e-4 -> 1e-2, 0.8)** - epoch: 60 - loss: 0.1368 - mae_in: 0.1307 - mae_out: 0.1428 - val_loss: 0.1864 - val_mae_in: 0.2123 - val_mae_out: 0.1605\n",
        "- **CyclicalLearningRate(1e-4 -> 1e-3, 0.8) plus Conv1D(32,5)** - epoch: 240 - loss: 0.0639 - mae_in: 0.0497 - mae_out: 0.0782 - val_loss: 0.1669 - val_mae_in: 0.1692 - val_mae_out: 0.1646\n",
        "- **CyclicalLearningRate(1e-4 -> 1e-3, 0.8) plus Conv1D(32,9)** - epoch: 180 - loss: 0.0769 - mae_in: 0.0603 - mae_out: 0.0935 - val_loss: 0.1663 - val_mae_in: 0.1706 - val_mae_out: 0.1619"
      ]
    },
    {
      "cell_type": "code",
      "metadata": {
        "id": "m73VwznGBh5R",
        "colab": {
          "base_uri": "https://localhost:8080/"
        },
        "outputId": "d54485a2-5e4e-4627-bdef-92a4438d19c7"
      },
      "source": [
        "print(\"mae:\", oof.eval(\"abs(pressure - pred)\").mean())\n",
        "print(\"mae inspiratory:\", oof.query(\"u_out == 0\").eval(\"abs(pressure - pred)\").mean())\n",
        "print(\"mae expiratory :\", oof.query(\"u_out == 1\").eval(\"abs(pressure - pred)\").mean())"
      ],
      "execution_count": null,
      "outputs": [
        {
          "output_type": "stream",
          "name": "stdout",
          "text": [
            "mae: 3.818406343460083\n",
            "mae inspiratory: 0.1588951200246811\n",
            "mae expiratory : 6.103576183319092\n"
          ]
        }
      ]
    },
    {
      "cell_type": "markdown",
      "metadata": {
        "id": "sgq0ynCjYQKn"
      },
      "source": [
        "***\n",
        "## sub generation"
      ]
    },
    {
      "cell_type": "code",
      "metadata": {
        "id": "eSGjBh2qQraV",
        "colab": {
          "base_uri": "https://localhost:8080/"
        },
        "outputId": "5d6fe41f-fdbb-490e-cd19-0df0dfdf47a1"
      },
      "source": [
        "all_preds = list()\n",
        "test_tf = tf.convert_to_tensor(test, dtype=tf.float32)\n",
        "\n",
        "for model in tqdm(models_by_fold):\n",
        "    preds = model.call(test_tf)[0].numpy().squeeze().ravel()\n",
        "    all_preds.append(preds)\n",
        "\n",
        "test_raw[\"pressure\"] = np.median(all_preds, axis=0)"
      ],
      "execution_count": null,
      "outputs": [
        {
          "output_type": "stream",
          "name": "stderr",
          "text": [
            "100%|██████████| 10/10 [30:10<00:00, 181.08s/it]\n"
          ]
        }
      ]
    },
    {
      "cell_type": "code",
      "metadata": {
        "id": "VpBQRKIXi7Qo"
      },
      "source": [
        "# saves final sub\n",
        "sub = pd.merge(submission[\"id\"], test_raw[[\"id\",\"pressure\"]], how=\"left\", on=\"id\")\n",
        "sub[\"pressure\"] = sub[\"pressure\"].fillna(0)\n",
        "sub.to_csv(f\"{subs_path}/sub_{config.MODEL_ID}.csv\", index=False)\n",
        "\n",
        "sub[\"pressure\"] =\\\n",
        "    np.round( (sub.pressure - PRESSURE_MIN)/PRESSURE_STEP ) * PRESSURE_STEP + PRESSURE_MIN\n",
        "sub.pressure = np.clip(sub.pressure, PRESSURE_MIN, PRESSURE_MAX)\n",
        "sub.to_csv(f\"{subs_path}/sub_{config.MODEL_ID}_clip.csv\", index=False)"
      ],
      "execution_count": null,
      "outputs": []
    },
    {
      "cell_type": "code",
      "metadata": {
        "id": "81gmgjMIfjAT"
      },
      "source": [
        "# saves oof preds\n",
        "oof.to_csv(f\"{results_path}/oof_{config.MODEL_ID}.csv\", index=False)"
      ],
      "execution_count": null,
      "outputs": []
    },
    {
      "cell_type": "code",
      "metadata": {
        "id": "Uo6W9e1QxlOV"
      },
      "source": [
        "# saves each model preds\n",
        "for fold,preds in enumerate(all_preds):\n",
        "    _sub = submission.copy()\n",
        "    _test = test_raw[[\"id\",\"pressure\"]].copy()\n",
        "    _test[\"pressure\"] = preds\n",
        "    _sub = pd.merge(_sub[\"id\"], _test[[\"id\",\"pressure\"]], how=\"left\", on=\"id\")\n",
        "    _sub[\"pressure\"] = _sub[\"pressure\"].fillna(0)\n",
        "    _sub.to_csv(f\"{results_path}/predictions_{config.MODEL_ID}_{fold}.csv\", index=False)"
      ],
      "execution_count": null,
      "outputs": []
    },
    {
      "cell_type": "markdown",
      "metadata": {
        "id": "d-EK2rCThxOr"
      },
      "source": [
        "***"
      ]
    }
  ]
}